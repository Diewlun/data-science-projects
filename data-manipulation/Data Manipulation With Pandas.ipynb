{
 "cells": [
  {
   "cell_type": "code",
   "execution_count": 1,
   "metadata": {},
   "outputs": [],
   "source": [
    "import numpy as np\n",
    "import pandas as pd\n",
    "import matplotlib.pyplot as plt"
   ]
  },
  {
   "cell_type": "code",
   "execution_count": 2,
   "metadata": {},
   "outputs": [],
   "source": [
    "#create the pandas data frame\n",
    "data = {'region':['East South Central',\n",
    "'Pacific',\n",
    "'Mountain',\n",
    "'West South Central',\n",
    "'Pacific',\n",
    "'Mountain',\n",
    "'New England',\n",
    "'South Atlantic',\n",
    "'South Atlantic',\n",
    "'South Atlantic',\n",
    "'South Atlantic',\n",
    "'Pacific',\n",
    "'Mountain',\n",
    "'East North Central',\n",
    "'East North Central',\n",
    "'West North Central',\n",
    "'West North Central',\n",
    "'East South Central',\n",
    "'West South Central',\n",
    "'New England',\n",
    "'South Atlantic',\n",
    "'New England',\n",
    "'East North Central',\n",
    "'West North Central',\n",
    "'East South Central',\n",
    "'West North Central',\n",
    "'Mountain',\n",
    "'West North Central',\n",
    "'Mountain',\n",
    "'New England',\n",
    "'Mid-Atlantic',\n",
    "'Mountain',\n",
    "'Mid-Atlantic',\n",
    "'South Atlantic',\n",
    "'West North Central',\n",
    "'East North Central',\n",
    "'West South Central',\n",
    "'Pacific',\n",
    "'Mid-Atlantic',\n",
    "'New England',\n",
    "'South Atlantic',\n",
    "'West North Central',\n",
    "'East South Central',\n",
    "'West South Central',\n",
    "'Mountain',\n",
    "'New England',\n",
    "'South Atlantic',\n",
    "'Pacific',\n",
    "'South Atlantic',\n",
    "'East North Central',\n",
    "'Mountain',\n",
    "], 'state':['Alabama',\n",
    "'Alaska',\n",
    "'Arizona',\n",
    "'Arkansas',\n",
    "'California',\n",
    "'Colorado',\n",
    "'Connecticut',\n",
    "'Delaware',\n",
    "'District of Columbia',\n",
    "'Florida',\n",
    "'Georgia',\n",
    "'Hawaii',\n",
    "'Idaho',\n",
    "'Illinois',\n",
    "'Indiana',\n",
    "'Iowa',\n",
    "'Kansas',\n",
    "'Kentucky',\n",
    "'Louisiana',\n",
    "'Maine',\n",
    "'Maryland',\n",
    "'Massachusetts',\n",
    "'Michigan',\n",
    "'Minnesota',\n",
    "'Mississippi',\n",
    "'Missouri',\n",
    "'Montana',\n",
    "'Nebraska',\n",
    "'Nevada',\n",
    "'New Hampshire',\n",
    "'New Jersey',\n",
    "'New Mexico',\n",
    "'New York',\n",
    "'North Carolina',\n",
    "'North Dakota',\n",
    "'Ohio',\n",
    "'Oklahoma',\n",
    "'Oregon',\n",
    "'Pennsylvania',\n",
    "'Rhode Island',\n",
    "'South Carolina',\n",
    "'South Dakota',\n",
    "'Tennessee',\n",
    "'Texas',\n",
    "'Utah',\n",
    "'Vermont',\n",
    "'Virginia',\n",
    "'Washington',\n",
    "'West Virginia',\n",
    "'Wisconsin',\n",
    "'Wyoming',\n",
    "], 'individuals':[2570,\n",
    "1434,\n",
    "7259,\n",
    "2280,\n",
    "109008,\n",
    "7607,\n",
    "2280,\n",
    "708,\n",
    "3770,\n",
    "21443,\n",
    "6943,\n",
    "4131,\n",
    "1297,\n",
    "6752,\n",
    "3776,\n",
    "1711,\n",
    "1443,\n",
    "2735,\n",
    "2540,\n",
    "1450,\n",
    "4914,\n",
    "6811,\n",
    "5209,\n",
    "3993,\n",
    "1024,\n",
    "3776,\n",
    "983,\n",
    "1745,\n",
    "7058,\n",
    "835,\n",
    "6048,\n",
    "1949,\n",
    "39827,\n",
    "6451,\n",
    "467,\n",
    "6929,\n",
    "2823,\n",
    "11139,\n",
    "8163,\n",
    "747,\n",
    "3082,\n",
    "836,\n",
    "6139,\n",
    "19199,\n",
    "1904,\n",
    "780,\n",
    "3928,\n",
    "16424,\n",
    "1021,\n",
    "2740,\n",
    "434,\n",
    "], 'family_members':[864,\n",
    "582,\n",
    "2606,\n",
    "432,\n",
    "20964,\n",
    "3250,\n",
    "1696,\n",
    "374,\n",
    "3134,\n",
    "9587,\n",
    "2556,\n",
    "2399,\n",
    "715,\n",
    "3891,\n",
    "1482,\n",
    "1038,\n",
    "773,\n",
    "953,\n",
    "519,\n",
    "1066,\n",
    "2230,\n",
    "13257,\n",
    "3142,\n",
    "3250,\n",
    "328,\n",
    "2107,\n",
    "422,\n",
    "676,\n",
    "486,\n",
    "615,\n",
    "3350,\n",
    "602,\n",
    "52070,\n",
    "2817,\n",
    "75,\n",
    "3320,\n",
    "1048,\n",
    "3337,\n",
    "5349,\n",
    "354,\n",
    "851,\n",
    "323,\n",
    "1744,\n",
    "6111,\n",
    "972,\n",
    "511,\n",
    "2047,\n",
    "5880,\n",
    "222,\n",
    "2167,\n",
    "205,\n",
    "], 'state_pop':[4887681,\n",
    "735139,\n",
    "7158024,\n",
    "3009733,\n",
    "39461588,\n",
    "5691287,\n",
    "3571520,\n",
    "965479,\n",
    "701547,\n",
    "21244317,\n",
    "10511131,\n",
    "1420593,\n",
    "1750536,\n",
    "12723071,\n",
    "6695497,\n",
    "3148618,\n",
    "2911359,\n",
    "4461153,\n",
    "4659690,\n",
    "1339057,\n",
    "6035802,\n",
    "6882635,\n",
    "9984072,\n",
    "5606249,\n",
    "2981020,\n",
    "6121623,\n",
    "1060665,\n",
    "1925614,\n",
    "3027341,\n",
    "1353465,\n",
    "8886025,\n",
    "2092741,\n",
    "19530351,\n",
    "10381615,\n",
    "758080,\n",
    "11676341,\n",
    "3940235,\n",
    "4181886,\n",
    "12800922,\n",
    "1058287,\n",
    "5084156,\n",
    "878698,\n",
    "6771631,\n",
    "28628666,\n",
    "3153550,\n",
    "624358,\n",
    "8501286,\n",
    "7523869,\n",
    "1804291,\n",
    "5807406,\n",
    "577601,\n",
    "]}\n",
    "homelessness = pd.DataFrame(data)"
   ]
  },
  {
   "cell_type": "code",
   "execution_count": 3,
   "metadata": {},
   "outputs": [
    {
     "name": "stdout",
     "output_type": "stream",
     "text": [
      "               region       state  individuals  family_members  state_pop\n",
      "0  East South Central     Alabama         2570             864    4887681\n",
      "1             Pacific      Alaska         1434             582     735139\n",
      "2            Mountain     Arizona         7259            2606    7158024\n",
      "3  West South Central    Arkansas         2280             432    3009733\n",
      "4             Pacific  California       109008           20964   39461588\n",
      "<class 'pandas.core.frame.DataFrame'>\n",
      "RangeIndex: 51 entries, 0 to 50\n",
      "Data columns (total 5 columns):\n",
      "region            51 non-null object\n",
      "state             51 non-null object\n",
      "individuals       51 non-null int64\n",
      "family_members    51 non-null int64\n",
      "state_pop         51 non-null int64\n",
      "dtypes: int64(3), object(2)\n",
      "memory usage: 2.1+ KB\n",
      "None\n",
      "(51, 5)\n",
      "         individuals  family_members     state_pop\n",
      "count      51.000000       51.000000  5.100000e+01\n",
      "mean     7225.784314     3504.882353  6.405637e+06\n",
      "std     15991.025083     7805.411811  7.327258e+06\n",
      "min       434.000000       75.000000  5.776010e+05\n",
      "25%      1446.500000      592.000000  1.777414e+06\n",
      "50%      3082.000000     1482.000000  4.461153e+06\n",
      "75%      6781.500000     3196.000000  7.340946e+06\n",
      "max    109008.000000    52070.000000  3.946159e+07\n"
     ]
    }
   ],
   "source": [
    "# Print the head of the homelessness data\n",
    "print(homelessness.head())\n",
    "\n",
    "# Print information about homelessness\n",
    "print(homelessness.info())\n",
    "\n",
    "# Print the shape of homelessness\n",
    "print(homelessness.shape)\n",
    "\n",
    "# Print a description of homelessness\n",
    "print(homelessness.describe())"
   ]
  },
  {
   "cell_type": "code",
   "execution_count": 4,
   "metadata": {},
   "outputs": [
    {
     "name": "stdout",
     "output_type": "stream",
     "text": [
      "[['East South Central' 'Alabama' 2570 864 4887681]\n",
      " ['Pacific' 'Alaska' 1434 582 735139]\n",
      " ['Mountain' 'Arizona' 7259 2606 7158024]\n",
      " ['West South Central' 'Arkansas' 2280 432 3009733]\n",
      " ['Pacific' 'California' 109008 20964 39461588]\n",
      " ['Mountain' 'Colorado' 7607 3250 5691287]\n",
      " ['New England' 'Connecticut' 2280 1696 3571520]\n",
      " ['South Atlantic' 'Delaware' 708 374 965479]\n",
      " ['South Atlantic' 'District of Columbia' 3770 3134 701547]\n",
      " ['South Atlantic' 'Florida' 21443 9587 21244317]\n",
      " ['South Atlantic' 'Georgia' 6943 2556 10511131]\n",
      " ['Pacific' 'Hawaii' 4131 2399 1420593]\n",
      " ['Mountain' 'Idaho' 1297 715 1750536]\n",
      " ['East North Central' 'Illinois' 6752 3891 12723071]\n",
      " ['East North Central' 'Indiana' 3776 1482 6695497]\n",
      " ['West North Central' 'Iowa' 1711 1038 3148618]\n",
      " ['West North Central' 'Kansas' 1443 773 2911359]\n",
      " ['East South Central' 'Kentucky' 2735 953 4461153]\n",
      " ['West South Central' 'Louisiana' 2540 519 4659690]\n",
      " ['New England' 'Maine' 1450 1066 1339057]\n",
      " ['South Atlantic' 'Maryland' 4914 2230 6035802]\n",
      " ['New England' 'Massachusetts' 6811 13257 6882635]\n",
      " ['East North Central' 'Michigan' 5209 3142 9984072]\n",
      " ['West North Central' 'Minnesota' 3993 3250 5606249]\n",
      " ['East South Central' 'Mississippi' 1024 328 2981020]\n",
      " ['West North Central' 'Missouri' 3776 2107 6121623]\n",
      " ['Mountain' 'Montana' 983 422 1060665]\n",
      " ['West North Central' 'Nebraska' 1745 676 1925614]\n",
      " ['Mountain' 'Nevada' 7058 486 3027341]\n",
      " ['New England' 'New Hampshire' 835 615 1353465]\n",
      " ['Mid-Atlantic' 'New Jersey' 6048 3350 8886025]\n",
      " ['Mountain' 'New Mexico' 1949 602 2092741]\n",
      " ['Mid-Atlantic' 'New York' 39827 52070 19530351]\n",
      " ['South Atlantic' 'North Carolina' 6451 2817 10381615]\n",
      " ['West North Central' 'North Dakota' 467 75 758080]\n",
      " ['East North Central' 'Ohio' 6929 3320 11676341]\n",
      " ['West South Central' 'Oklahoma' 2823 1048 3940235]\n",
      " ['Pacific' 'Oregon' 11139 3337 4181886]\n",
      " ['Mid-Atlantic' 'Pennsylvania' 8163 5349 12800922]\n",
      " ['New England' 'Rhode Island' 747 354 1058287]\n",
      " ['South Atlantic' 'South Carolina' 3082 851 5084156]\n",
      " ['West North Central' 'South Dakota' 836 323 878698]\n",
      " ['East South Central' 'Tennessee' 6139 1744 6771631]\n",
      " ['West South Central' 'Texas' 19199 6111 28628666]\n",
      " ['Mountain' 'Utah' 1904 972 3153550]\n",
      " ['New England' 'Vermont' 780 511 624358]\n",
      " ['South Atlantic' 'Virginia' 3928 2047 8501286]\n",
      " ['Pacific' 'Washington' 16424 5880 7523869]\n",
      " ['South Atlantic' 'West Virginia' 1021 222 1804291]\n",
      " ['East North Central' 'Wisconsin' 2740 2167 5807406]\n",
      " ['Mountain' 'Wyoming' 434 205 577601]]\n"
     ]
    }
   ],
   "source": [
    "# Print the values of homelessness\n",
    "print(homelessness.values)"
   ]
  },
  {
   "cell_type": "code",
   "execution_count": 5,
   "metadata": {},
   "outputs": [
    {
     "name": "stdout",
     "output_type": "stream",
     "text": [
      "Index(['region', 'state', 'individuals', 'family_members', 'state_pop'], dtype='object')\n"
     ]
    }
   ],
   "source": [
    "# Print the column index of homelessness\n",
    "print(homelessness.columns)"
   ]
  },
  {
   "cell_type": "code",
   "execution_count": 6,
   "metadata": {},
   "outputs": [
    {
     "name": "stdout",
     "output_type": "stream",
     "text": [
      "RangeIndex(start=0, stop=51, step=1)\n"
     ]
    }
   ],
   "source": [
    "# Print the row index of homelessness\n",
    "print(homelessness.index)"
   ]
  },
  {
   "cell_type": "code",
   "execution_count": 7,
   "metadata": {},
   "outputs": [
    {
     "name": "stdout",
     "output_type": "stream",
     "text": [
      "                region         state  individuals  family_members  state_pop\n",
      "50            Mountain       Wyoming          434             205     577601\n",
      "34  West North Central  North Dakota          467              75     758080\n",
      "7       South Atlantic      Delaware          708             374     965479\n",
      "39         New England  Rhode Island          747             354    1058287\n",
      "45         New England       Vermont          780             511     624358\n"
     ]
    }
   ],
   "source": [
    "# Sort homelessness by individual\n",
    "homelessness_ind = homelessness.sort_values(\"individuals\",ascending=True)\n",
    "\n",
    "# Print the top few rows\n",
    "print(homelessness_ind.head())"
   ]
  },
  {
   "cell_type": "code",
   "execution_count": 8,
   "metadata": {},
   "outputs": [
    {
     "name": "stdout",
     "output_type": "stream",
     "text": [
      "                region          state  individuals  family_members  state_pop\n",
      "32        Mid-Atlantic       New York        39827           52070   19530351\n",
      "4              Pacific     California       109008           20964   39461588\n",
      "21         New England  Massachusetts         6811           13257    6882635\n",
      "9       South Atlantic        Florida        21443            9587   21244317\n",
      "43  West South Central          Texas        19199            6111   28628666\n"
     ]
    }
   ],
   "source": [
    "# Sort homelessness by descending family members\n",
    "homelessness_fam = homelessness.sort_values(\"family_members\", ascending=False)\n",
    "\n",
    "# Print the top few rows\n",
    "print(homelessness_fam.head())"
   ]
  },
  {
   "cell_type": "code",
   "execution_count": 9,
   "metadata": {},
   "outputs": [
    {
     "name": "stdout",
     "output_type": "stream",
     "text": [
      "                region      state  individuals  family_members  state_pop\n",
      "13  East North Central   Illinois         6752            3891   12723071\n",
      "35  East North Central       Ohio         6929            3320   11676341\n",
      "22  East North Central   Michigan         5209            3142    9984072\n",
      "49  East North Central  Wisconsin         2740            2167    5807406\n",
      "14  East North Central    Indiana         3776            1482    6695497\n"
     ]
    }
   ],
   "source": [
    "# Sort homelessness by ascending region, then descending family members\n",
    "homelessness_reg_fam = homelessness.sort_values([\"region\", \"family_members\"], ascending=[True, False])\n",
    "\n",
    "# Print the top few rows\n",
    "print(homelessness_reg_fam.head())"
   ]
  },
  {
   "cell_type": "code",
   "execution_count": 10,
   "metadata": {},
   "outputs": [
    {
     "name": "stdout",
     "output_type": "stream",
     "text": [
      "0      2570\n",
      "1      1434\n",
      "2      7259\n",
      "3      2280\n",
      "4    109008\n",
      "Name: individuals, dtype: int64\n"
     ]
    }
   ],
   "source": [
    "# Select the individuals column\n",
    "individuals = homelessness[\"individuals\"]\n",
    "\n",
    "# Print the head of the result\n",
    "print(individuals.head())"
   ]
  },
  {
   "cell_type": "code",
   "execution_count": 11,
   "metadata": {},
   "outputs": [
    {
     "name": "stdout",
     "output_type": "stream",
     "text": [
      "        state  family_members\n",
      "0     Alabama             864\n",
      "1      Alaska             582\n",
      "2     Arizona            2606\n",
      "3    Arkansas             432\n",
      "4  California           20964\n"
     ]
    }
   ],
   "source": [
    "# Select the state and family_members columns\n",
    "state_fam = homelessness[[\"state\", \"family_members\"]]\n",
    "\n",
    "# Print the head of the result\n",
    "print(state_fam.head())"
   ]
  },
  {
   "cell_type": "code",
   "execution_count": 12,
   "metadata": {},
   "outputs": [
    {
     "name": "stdout",
     "output_type": "stream",
     "text": [
      "   individuals       state\n",
      "0         2570     Alabama\n",
      "1         1434      Alaska\n",
      "2         7259     Arizona\n",
      "3         2280    Arkansas\n",
      "4       109008  California\n"
     ]
    }
   ],
   "source": [
    "# Select only the individuals and state columns, in that order\n",
    "ind_state = homelessness[[\"individuals\", \"state\"]]\n",
    "\n",
    "# Print the head of the result\n",
    "print(ind_state.head())"
   ]
  },
  {
   "cell_type": "code",
   "execution_count": 13,
   "metadata": {},
   "outputs": [
    {
     "name": "stdout",
     "output_type": "stream",
     "text": [
      "                region       state  individuals  family_members  state_pop\n",
      "4              Pacific  California       109008           20964   39461588\n",
      "9       South Atlantic     Florida        21443            9587   21244317\n",
      "32        Mid-Atlantic    New York        39827           52070   19530351\n",
      "37             Pacific      Oregon        11139            3337    4181886\n",
      "43  West South Central       Texas        19199            6111   28628666\n",
      "47             Pacific  Washington        16424            5880    7523869\n"
     ]
    }
   ],
   "source": [
    "# Filter for rows where individuals is greater than 10000\n",
    "ind_gt_10k = homelessness[homelessness[\"individuals\"] > 10000]\n",
    "\n",
    "# See the result\n",
    "print(ind_gt_10k)"
   ]
  },
  {
   "cell_type": "code",
   "execution_count": 14,
   "metadata": {},
   "outputs": [
    {
     "name": "stdout",
     "output_type": "stream",
     "text": [
      "      region       state  individuals  family_members  state_pop\n",
      "2   Mountain     Arizona         7259            2606    7158024\n",
      "5   Mountain    Colorado         7607            3250    5691287\n",
      "12  Mountain       Idaho         1297             715    1750536\n",
      "26  Mountain     Montana          983             422    1060665\n",
      "28  Mountain      Nevada         7058             486    3027341\n",
      "31  Mountain  New Mexico         1949             602    2092741\n",
      "44  Mountain        Utah         1904             972    3153550\n",
      "50  Mountain     Wyoming          434             205     577601\n"
     ]
    }
   ],
   "source": [
    "# Filter for rows where region is Mountain\n",
    "mountain_reg = homelessness[homelessness[\"region\"] == \"Mountain\"]\n",
    "\n",
    "# See the result\n",
    "print(mountain_reg)"
   ]
  },
  {
   "cell_type": "code",
   "execution_count": 15,
   "metadata": {},
   "outputs": [
    {
     "name": "stdout",
     "output_type": "stream",
     "text": [
      "    region   state  individuals  family_members  state_pop\n",
      "1  Pacific  Alaska         1434             582     735139\n"
     ]
    }
   ],
   "source": [
    "# Filter for rows where family_members is less than 1000 \n",
    "# and region is Pacific\n",
    "fam_lt_1k_pac = homelessness[(homelessness[\"family_members\"] < 1000) & (homelessness[\"region\"] == \"Pacific\")]\n",
    "\n",
    "# See the result\n",
    "print(fam_lt_1k_pac)"
   ]
  },
  {
   "cell_type": "code",
   "execution_count": 16,
   "metadata": {},
   "outputs": [
    {
     "name": "stdout",
     "output_type": "stream",
     "text": [
      "            region                 state  individuals  family_members  \\\n",
      "7   South Atlantic              Delaware          708             374   \n",
      "8   South Atlantic  District of Columbia         3770            3134   \n",
      "9   South Atlantic               Florida        21443            9587   \n",
      "10  South Atlantic               Georgia         6943            2556   \n",
      "20  South Atlantic              Maryland         4914            2230   \n",
      "30    Mid-Atlantic            New Jersey         6048            3350   \n",
      "32    Mid-Atlantic              New York        39827           52070   \n",
      "33  South Atlantic        North Carolina         6451            2817   \n",
      "38    Mid-Atlantic          Pennsylvania         8163            5349   \n",
      "40  South Atlantic        South Carolina         3082             851   \n",
      "46  South Atlantic              Virginia         3928            2047   \n",
      "48  South Atlantic         West Virginia         1021             222   \n",
      "\n",
      "    state_pop  \n",
      "7      965479  \n",
      "8      701547  \n",
      "9    21244317  \n",
      "10   10511131  \n",
      "20    6035802  \n",
      "30    8886025  \n",
      "32   19530351  \n",
      "33   10381615  \n",
      "38   12800922  \n",
      "40    5084156  \n",
      "46    8501286  \n",
      "48    1804291  \n"
     ]
    }
   ],
   "source": [
    "# Subset for rows in South Atlantic or Mid-Atlantic regions\n",
    "south_mid_atlantic = homelessness[(homelessness[\"region\"] == \"South Atlantic\") | (homelessness[\"region\"] == \"Mid-Atlantic\")]\n",
    "\n",
    "# See the result\n",
    "print(south_mid_atlantic)"
   ]
  },
  {
   "cell_type": "code",
   "execution_count": 17,
   "metadata": {},
   "outputs": [
    {
     "name": "stdout",
     "output_type": "stream",
     "text": [
      "      region       state  individuals  family_members  state_pop\n",
      "2   Mountain     Arizona         7259            2606    7158024\n",
      "4    Pacific  California       109008           20964   39461588\n",
      "28  Mountain      Nevada         7058             486    3027341\n",
      "44  Mountain        Utah         1904             972    3153550\n"
     ]
    }
   ],
   "source": [
    "# The Mojave Desert states\n",
    "canu = [\"California\", \"Arizona\", \"Nevada\", \"Utah\"]\n",
    "\n",
    "# Filter for rows in the Mojave Desert states\n",
    "mojave_homelessness = homelessness[homelessness[\"state\"].isin(canu)]\n",
    "\n",
    "# See the result\n",
    "print(mojave_homelessness)"
   ]
  },
  {
   "cell_type": "code",
   "execution_count": 18,
   "metadata": {},
   "outputs": [
    {
     "name": "stdout",
     "output_type": "stream",
     "text": [
      "                region                 state  individuals  family_members  \\\n",
      "0   East South Central               Alabama         2570             864   \n",
      "1              Pacific                Alaska         1434             582   \n",
      "2             Mountain               Arizona         7259            2606   \n",
      "3   West South Central              Arkansas         2280             432   \n",
      "4              Pacific            California       109008           20964   \n",
      "5             Mountain              Colorado         7607            3250   \n",
      "6          New England           Connecticut         2280            1696   \n",
      "7       South Atlantic              Delaware          708             374   \n",
      "8       South Atlantic  District of Columbia         3770            3134   \n",
      "9       South Atlantic               Florida        21443            9587   \n",
      "10      South Atlantic               Georgia         6943            2556   \n",
      "11             Pacific                Hawaii         4131            2399   \n",
      "12            Mountain                 Idaho         1297             715   \n",
      "13  East North Central              Illinois         6752            3891   \n",
      "14  East North Central               Indiana         3776            1482   \n",
      "15  West North Central                  Iowa         1711            1038   \n",
      "16  West North Central                Kansas         1443             773   \n",
      "17  East South Central              Kentucky         2735             953   \n",
      "18  West South Central             Louisiana         2540             519   \n",
      "19         New England                 Maine         1450            1066   \n",
      "20      South Atlantic              Maryland         4914            2230   \n",
      "21         New England         Massachusetts         6811           13257   \n",
      "22  East North Central              Michigan         5209            3142   \n",
      "23  West North Central             Minnesota         3993            3250   \n",
      "24  East South Central           Mississippi         1024             328   \n",
      "25  West North Central              Missouri         3776            2107   \n",
      "26            Mountain               Montana          983             422   \n",
      "27  West North Central              Nebraska         1745             676   \n",
      "28            Mountain                Nevada         7058             486   \n",
      "29         New England         New Hampshire          835             615   \n",
      "30        Mid-Atlantic            New Jersey         6048            3350   \n",
      "31            Mountain            New Mexico         1949             602   \n",
      "32        Mid-Atlantic              New York        39827           52070   \n",
      "33      South Atlantic        North Carolina         6451            2817   \n",
      "34  West North Central          North Dakota          467              75   \n",
      "35  East North Central                  Ohio         6929            3320   \n",
      "36  West South Central              Oklahoma         2823            1048   \n",
      "37             Pacific                Oregon        11139            3337   \n",
      "38        Mid-Atlantic          Pennsylvania         8163            5349   \n",
      "39         New England          Rhode Island          747             354   \n",
      "40      South Atlantic        South Carolina         3082             851   \n",
      "41  West North Central          South Dakota          836             323   \n",
      "42  East South Central             Tennessee         6139            1744   \n",
      "43  West South Central                 Texas        19199            6111   \n",
      "44            Mountain                  Utah         1904             972   \n",
      "45         New England               Vermont          780             511   \n",
      "46      South Atlantic              Virginia         3928            2047   \n",
      "47             Pacific            Washington        16424            5880   \n",
      "48      South Atlantic         West Virginia         1021             222   \n",
      "49  East North Central             Wisconsin         2740            2167   \n",
      "50            Mountain               Wyoming          434             205   \n",
      "\n",
      "    state_pop   total  p_individuals  \n",
      "0     4887681    3434       0.748398  \n",
      "1      735139    2016       0.711310  \n",
      "2     7158024    9865       0.735834  \n",
      "3     3009733    2712       0.840708  \n",
      "4    39461588  129972       0.838704  \n",
      "5     5691287   10857       0.700654  \n",
      "6     3571520    3976       0.573441  \n",
      "7      965479    1082       0.654344  \n",
      "8      701547    6904       0.546060  \n",
      "9    21244317   31030       0.691041  \n",
      "10   10511131    9499       0.730919  \n",
      "11    1420593    6530       0.632619  \n",
      "12    1750536    2012       0.644632  \n",
      "13   12723071   10643       0.634408  \n",
      "14    6695497    5258       0.718144  \n",
      "15    3148618    2749       0.622408  \n",
      "16    2911359    2216       0.651173  \n",
      "17    4461153    3688       0.741594  \n",
      "18    4659690    3059       0.830337  \n",
      "19    1339057    2516       0.576312  \n",
      "20    6035802    7144       0.687850  \n",
      "21    6882635   20068       0.339396  \n",
      "22    9984072    8351       0.623758  \n",
      "23    5606249    7243       0.551291  \n",
      "24    2981020    1352       0.757396  \n",
      "25    6121623    5883       0.641849  \n",
      "26    1060665    1405       0.699644  \n",
      "27    1925614    2421       0.720777  \n",
      "28    3027341    7544       0.935578  \n",
      "29    1353465    1450       0.575862  \n",
      "30    8886025    9398       0.643541  \n",
      "31    2092741    2551       0.764014  \n",
      "32   19530351   91897       0.433387  \n",
      "33   10381615    9268       0.696051  \n",
      "34     758080     542       0.861624  \n",
      "35   11676341   10249       0.676066  \n",
      "36    3940235    3871       0.729269  \n",
      "37    4181886   14476       0.769481  \n",
      "38   12800922   13512       0.604130  \n",
      "39    1058287    1101       0.678474  \n",
      "40    5084156    3933       0.783626  \n",
      "41     878698    1159       0.721311  \n",
      "42    6771631    7883       0.778764  \n",
      "43   28628666   25310       0.758554  \n",
      "44    3153550    2876       0.662031  \n",
      "45     624358    1291       0.604183  \n",
      "46    8501286    5975       0.657406  \n",
      "47    7523869   22304       0.736370  \n",
      "48    1804291    1243       0.821400  \n",
      "49    5807406    4907       0.558386  \n",
      "50     577601     639       0.679186  \n"
     ]
    }
   ],
   "source": [
    "# Add total col as sum of individuals and family_members\n",
    "homelessness[\"total\"] = homelessness[\"individuals\"] + homelessness[\"family_members\"]\n",
    "\n",
    "# Add p_individuals col as proportion of individuals\n",
    "homelessness[\"p_individuals\"] = homelessness[\"individuals\"] / homelessness[\"total\"]\n",
    "\n",
    "# See the result\n",
    "print(homelessness)"
   ]
  },
  {
   "cell_type": "code",
   "execution_count": 19,
   "metadata": {},
   "outputs": [
    {
     "name": "stdout",
     "output_type": "stream",
     "text": [
      "                   state  indiv_per_10k\n",
      "8   District of Columbia      53.738381\n",
      "11                Hawaii      29.079406\n",
      "4             California      27.623825\n",
      "37                Oregon      26.636307\n",
      "28                Nevada      23.314189\n",
      "47            Washington      21.829195\n",
      "32              New York      20.392363\n"
     ]
    }
   ],
   "source": [
    "# Create indiv_per_10k col as homeless individuals per 10k state pop\n",
    "homelessness[\"indiv_per_10k\"] = 10000 * homelessness[\"individuals\"] / homelessness[\"state_pop\"] \n",
    "\n",
    "# Subset rows for indiv_per_10k greater than 20\n",
    "high_homelessness = homelessness[homelessness[\"indiv_per_10k\"] > 20]\n",
    "\n",
    "# Sort high_homelessness by descending indiv_per_10k\n",
    "high_homelessness_srt = high_homelessness.sort_values([\"indiv_per_10k\"], ascending=False)\n",
    "\n",
    "# From high_homelessness_srt, select the state and indiv_per_10k cols\n",
    "result = high_homelessness_srt[[\"state\", \"indiv_per_10k\"]]\n",
    "\n",
    "# See the result\n",
    "print(result)"
   ]
  },
  {
   "cell_type": "code",
   "execution_count": 20,
   "metadata": {},
   "outputs": [],
   "source": [
    "#Chapter 2 - Aggregating Data\n",
    "\n",
    "#create a small version of the sales dataframe since we dont have the csv file\n",
    "sales_data = {'store':[1,1,1,1,1,2,2,2,2,2], 'type':['A', 'A', 'A', 'A', 'A', 'B', 'B', 'B', 'B', 'B'],\n",
    "              'department':[1,1,1,1,1,2,2,2,2,2], 'date':['2010-02-05', '2010-03-05', '2010-04-02', '2010-05-07', '2010-06-04', '2010-02-06', '2010-03-07', '2010-04-09', '2010-05-05', '2010-06-05'],\n",
    "              'weekly_sales':[24924.50, 21827.90, 57258.43, 17413.94, 17558.09, 23869.44, 21909.99, 56789.23, 17537.96, 17689.08], 'is_holiday':['False', 'False', 'False', 'False', 'False', 'False', 'False', 'False', 'False', 'False'],\n",
    "              'temperature_c':[5.728, 8.056, 16.817, 22.528, 27.050, 6.028, 8.111, 17.056, 22.667, 27.192], 'fuel_price_usd_per_l':[0.679, 0.693, 0.718, 0.749, 0.715, 0.666, 0.707, 0.782, 0.759, 0.712], 'unemployment':[8.106, 8.16, 7.808, 7.808, 7.808, 8.205, 8.101, 7.909, 7.909, 7.909]\n",
    "             }\n",
    "sales = pd.DataFrame(sales_data)"
   ]
  },
  {
   "cell_type": "code",
   "execution_count": 21,
   "metadata": {},
   "outputs": [
    {
     "name": "stdout",
     "output_type": "stream",
     "text": [
      "   store type  department        date  weekly_sales is_holiday  temperature_c  \\\n",
      "0      1    A           1  2010-02-05      24924.50      False          5.728   \n",
      "1      1    A           1  2010-03-05      21827.90      False          8.056   \n",
      "2      1    A           1  2010-04-02      57258.43      False         16.817   \n",
      "3      1    A           1  2010-05-07      17413.94      False         22.528   \n",
      "4      1    A           1  2010-06-04      17558.09      False         27.050   \n",
      "\n",
      "   fuel_price_usd_per_l  unemployment  \n",
      "0                 0.679         8.106  \n",
      "1                 0.693         8.160  \n",
      "2                 0.718         7.808  \n",
      "3                 0.749         7.808  \n",
      "4                 0.715         7.808  \n",
      "<class 'pandas.core.frame.DataFrame'>\n",
      "RangeIndex: 10 entries, 0 to 9\n",
      "Data columns (total 9 columns):\n",
      "store                   10 non-null int64\n",
      "type                    10 non-null object\n",
      "department              10 non-null int64\n",
      "date                    10 non-null object\n",
      "weekly_sales            10 non-null float64\n",
      "is_holiday              10 non-null object\n",
      "temperature_c           10 non-null float64\n",
      "fuel_price_usd_per_l    10 non-null float64\n",
      "unemployment            10 non-null float64\n",
      "dtypes: float64(4), int64(2), object(3)\n",
      "memory usage: 848.0+ bytes\n",
      "None\n",
      "27677.856\n",
      "21868.945\n"
     ]
    }
   ],
   "source": [
    "# Print the head of the sales DataFrame\n",
    "print(sales.head())\n",
    "\n",
    "# Print the info about the sales DataFrame\n",
    "print(sales.info())\n",
    "\n",
    "# Print the mean of weekly_sales\n",
    "print(sales[\"weekly_sales\"].mean())\n",
    "\n",
    "# Print the median of weekly_sales\n",
    "print(sales[\"weekly_sales\"].median())"
   ]
  },
  {
   "cell_type": "code",
   "execution_count": 22,
   "metadata": {},
   "outputs": [
    {
     "name": "stdout",
     "output_type": "stream",
     "text": [
      "2010-06-05\n",
      "2010-02-05\n"
     ]
    }
   ],
   "source": [
    "# Print the maximum of the date column\n",
    "print(sales[\"date\"].max())\n",
    "\n",
    "# Print the minimum of the date column\n",
    "print(sales[\"date\"].min())"
   ]
  },
  {
   "cell_type": "code",
   "execution_count": 23,
   "metadata": {},
   "outputs": [
    {
     "name": "stdout",
     "output_type": "stream",
     "text": [
      "14.5625\n"
     ]
    }
   ],
   "source": [
    "# A custom IQR function\n",
    "def iqr(column):\n",
    "    return column.quantile(0.75) - column.quantile(0.25)\n",
    "    \n",
    "# Print IQR of the temperature_c column\n",
    "print(sales[\"temperature_c\"].agg(iqr))"
   ]
  },
  {
   "cell_type": "code",
   "execution_count": 24,
   "metadata": {},
   "outputs": [
    {
     "name": "stdout",
     "output_type": "stream",
     "text": [
      "temperature_c           14.56250\n",
      "fuel_price_usd_per_l     0.04475\n",
      "unemployment             0.27150\n",
      "dtype: float64\n"
     ]
    }
   ],
   "source": [
    "# Update to print IQR of temperature_c, fuel_price_usd_per_l, & unemployment\n",
    "print(sales[[\"temperature_c\", \"fuel_price_usd_per_l\", \"unemployment\"]].agg(iqr))"
   ]
  },
  {
   "cell_type": "code",
   "execution_count": 25,
   "metadata": {},
   "outputs": [
    {
     "name": "stdout",
     "output_type": "stream",
     "text": [
      "        temperature_c  fuel_price_usd_per_l  unemployment\n",
      "iqr           14.5625               0.04475        0.2715\n",
      "median        16.9365               0.71350        7.9090\n"
     ]
    }
   ],
   "source": [
    "# Update to print IQR and median of temperature_c, fuel_price_usd_per_l, & unemployment\n",
    "print(sales[[\"temperature_c\", \"fuel_price_usd_per_l\", \"unemployment\"]].agg([iqr, np.median]))"
   ]
  },
  {
   "cell_type": "code",
   "execution_count": 26,
   "metadata": {},
   "outputs": [
    {
     "name": "stdout",
     "output_type": "stream",
     "text": [
      "         date  weekly_sales  cum_weekly_sales  cum_max_sales\n",
      "0  2010-02-05      24924.50          24924.50       24924.50\n",
      "5  2010-02-06      23869.44          48793.94       24924.50\n",
      "1  2010-03-05      21827.90          70621.84       24924.50\n",
      "6  2010-03-07      21909.99          92531.83       24924.50\n",
      "2  2010-04-02      57258.43         149790.26       57258.43\n",
      "7  2010-04-09      56789.23         206579.49       57258.43\n",
      "8  2010-05-05      17537.96         224117.45       57258.43\n",
      "3  2010-05-07      17413.94         241531.39       57258.43\n",
      "4  2010-06-04      17558.09         259089.48       57258.43\n",
      "9  2010-06-05      17689.08         276778.56       57258.43\n"
     ]
    }
   ],
   "source": [
    "sales_1_1 = sales\n",
    "# Sort sales_1_1 by date\n",
    "sales_1_1 = sales_1_1.sort_values(\"date\", ascending=True)\n",
    "\n",
    "# Get the cumulative sum of weekly_sales, add as cum_weekly_sales col\n",
    "sales_1_1[\"cum_weekly_sales\"] = sales_1_1[\"weekly_sales\"].cumsum()\n",
    "\n",
    "# Get the cumulative max of weekly_sales, add as cum_max_sales col\n",
    "sales_1_1[\"cum_max_sales\"] = sales_1_1[\"weekly_sales\"].cummax()\n",
    "\n",
    "# See the columns you calculated\n",
    "print(sales_1_1[[\"date\", \"weekly_sales\", \"cum_weekly_sales\", \"cum_max_sales\"]])"
   ]
  },
  {
   "cell_type": "code",
   "execution_count": 27,
   "metadata": {},
   "outputs": [
    {
     "name": "stdout",
     "output_type": "stream",
     "text": [
      "   store type  department        date  weekly_sales is_holiday  temperature_c  \\\n",
      "0      1    A           1  2010-02-05      24924.50      False          5.728   \n",
      "5      2    B           2  2010-02-06      23869.44      False          6.028   \n",
      "\n",
      "   fuel_price_usd_per_l  unemployment  \n",
      "0                 0.679         8.106  \n",
      "5                 0.666         8.205  \n",
      "   store type  department        date  weekly_sales is_holiday  temperature_c  \\\n",
      "0      1    A           1  2010-02-05      24924.50      False          5.728   \n",
      "5      2    B           2  2010-02-06      23869.44      False          6.028   \n",
      "\n",
      "   fuel_price_usd_per_l  unemployment  \n",
      "0                 0.679         8.106  \n",
      "5                 0.666         8.205  \n",
      "Series([], Name: date, dtype: object)\n"
     ]
    }
   ],
   "source": [
    "# Drop duplicate store/type combinations\n",
    "store_types = sales.drop_duplicates(subset=[\"store\", \"type\"])\n",
    "print(store_types.head())\n",
    "\n",
    "# Drop duplicate store/department combinations\n",
    "store_depts = sales.drop_duplicates(subset=[\"store\", \"department\"])\n",
    "print(store_depts.head())\n",
    "\n",
    "# Subset the rows that are holiday weeks and drop duplicate dates\n",
    "holiday_dates = sales[sales[\"is_holiday\"] == True].drop_duplicates(subset=[\"date\"])\n",
    "\n",
    "# Print date col of holiday_dates\n",
    "print(holiday_dates[\"date\"])"
   ]
  },
  {
   "cell_type": "code",
   "execution_count": 28,
   "metadata": {},
   "outputs": [
    {
     "name": "stdout",
     "output_type": "stream",
     "text": [
      "B    1\n",
      "A    1\n",
      "Name: type, dtype: int64\n",
      "B    0.5\n",
      "A    0.5\n",
      "Name: type, dtype: float64\n",
      "2    1\n",
      "1    1\n",
      "Name: department, dtype: int64\n",
      "2    0.5\n",
      "1    0.5\n",
      "Name: department, dtype: float64\n"
     ]
    }
   ],
   "source": [
    "# Count the number of stores of each type\n",
    "store_counts = store_types[\"type\"].value_counts()\n",
    "print(store_counts)\n",
    "\n",
    "# Get the proportion of stores of each type\n",
    "store_props = store_types[\"type\"].value_counts(normalize=True)\n",
    "print(store_props)\n",
    "\n",
    "# Count the number of each department number and sort\n",
    "dept_counts_sorted = store_depts[\"department\"].value_counts(ascending=False)\n",
    "print(dept_counts_sorted)\n",
    "\n",
    "# Get the proportion of departments of each number and sort\n",
    "dept_props_sorted = store_depts[\"department\"].value_counts(sort=True, normalize=True)\n",
    "print(dept_props_sorted)"
   ]
  },
  {
   "cell_type": "code",
   "execution_count": 29,
   "metadata": {},
   "outputs": [
    {
     "name": "stdout",
     "output_type": "stream",
     "text": [
      "[0.5021446 0.4978554 0.       ]\n"
     ]
    }
   ],
   "source": [
    "# Calc total weekly sales\n",
    "sales_all = sales[\"weekly_sales\"].sum()\n",
    "\n",
    "# Subset for type A stores, calc total weekly sales\n",
    "sales_A = sales[sales[\"type\"] == \"A\"][\"weekly_sales\"].sum()\n",
    "\n",
    "# Subset for type B stores, calc total weekly sales\n",
    "sales_B = sales[sales[\"type\"] == \"B\"][\"weekly_sales\"].sum()\n",
    "\n",
    "# Subset for type C stores, calc total weekly sales\n",
    "sales_C = sales[sales[\"type\"] == \"C\"][\"weekly_sales\"].sum()\n",
    "\n",
    "# Get proportion for each type\n",
    "sales_propn_by_type = [sales_A, sales_B, sales_C] / sales_all\n",
    "print(sales_propn_by_type)"
   ]
  },
  {
   "cell_type": "code",
   "execution_count": 30,
   "metadata": {},
   "outputs": [
    {
     "name": "stdout",
     "output_type": "stream",
     "text": [
      "type\n",
      "A    0.502145\n",
      "B    0.497855\n",
      "Name: weekly_sales, dtype: float64\n",
      "type  is_holiday\n",
      "A     False         138982.86\n",
      "B     False         137795.70\n",
      "Name: weekly_sales, dtype: float64\n"
     ]
    }
   ],
   "source": [
    "# Group by type; calc total weekly sales\n",
    "sales_by_type = sales.groupby(\"type\")[\"weekly_sales\"].sum()\n",
    "\n",
    "# Get proportion for each type\n",
    "sales_propn_by_type = sales_by_type / sum(sales_by_type)\n",
    "print(sales_propn_by_type)\n",
    "\n",
    "# From previous step\n",
    "sales_by_type = sales.groupby(\"type\")[\"weekly_sales\"].sum()\n",
    "\n",
    "# Group by type and is_holiday; calc total weekly sales\n",
    "sales_by_type_is_holiday = sales.groupby([\"type\", \"is_holiday\"])[\"weekly_sales\"].sum()\n",
    "print(sales_by_type_is_holiday)"
   ]
  },
  {
   "cell_type": "code",
   "execution_count": 31,
   "metadata": {},
   "outputs": [
    {
     "name": "stdout",
     "output_type": "stream",
     "text": [
      "          amin      amax       mean    median\n",
      "type                                         \n",
      "A     17413.94  57258.43  27796.572  21827.90\n",
      "B     17537.96  56789.23  27559.140  21909.99\n",
      "     unemployment                       fuel_price_usd_per_l                 \\\n",
      "             amin   amax    mean median                 amin   amax    mean   \n",
      "type                                                                          \n",
      "A           7.808  8.160  7.9380  7.808                0.679  0.749  0.7108   \n",
      "B           7.909  8.205  8.0066  7.909                0.666  0.782  0.7252   \n",
      "\n",
      "             \n",
      "     median  \n",
      "type         \n",
      "A     0.715  \n",
      "B     0.712  \n"
     ]
    }
   ],
   "source": [
    "# For each store type, aggregate weekly_sales: get min, max, mean, and median\n",
    "sales_stats = sales.groupby(\"type\")[\"weekly_sales\"].agg([np.min, np.max, np.mean, np.median])\n",
    "\n",
    "# Print sales_stats\n",
    "print(sales_stats)\n",
    "\n",
    "# For each store type, aggregate unemployment and fuel_price_usd_per_l: get min, max, mean, and median\n",
    "unemp_fuel_stats = sales.groupby(\"type\")[[\"unemployment\", \"fuel_price_usd_per_l\"]].agg([np.min, np.max, np.mean, np.median])\n",
    "\n",
    "# Print unemp_fuel_stats\n",
    "print(unemp_fuel_stats)"
   ]
  },
  {
   "cell_type": "code",
   "execution_count": 32,
   "metadata": {},
   "outputs": [
    {
     "name": "stdout",
     "output_type": "stream",
     "text": [
      "      weekly_sales\n",
      "type              \n",
      "A        27796.572\n",
      "B        27559.140\n",
      "             mean       median\n",
      "     weekly_sales weekly_sales\n",
      "type                          \n",
      "A       27796.572     21827.90\n",
      "B       27559.140     21909.99\n",
      "is_holiday      False\n",
      "type                 \n",
      "A           27796.572\n",
      "B           27559.140\n"
     ]
    }
   ],
   "source": [
    "# Pivot for mean weekly_sales for each store type\n",
    "mean_sales_by_type = sales.pivot_table(values=\"weekly_sales\", index=\"type\")\n",
    "\n",
    "# Print mean_sales_by_type\n",
    "print(mean_sales_by_type)\n",
    "\n",
    "# Pivot for mean and median weekly_sales for each store type\n",
    "mean_med_sales_by_type = sales.pivot_table(values=\"weekly_sales\", index=\"type\", aggfunc=[np.mean, np.median])\n",
    "\n",
    "# Print mean_med_sales_by_type\n",
    "print(mean_med_sales_by_type)\n",
    "\n",
    "# Pivot for mean weekly_sales by store type and holiday \n",
    "mean_sales_by_type_holiday = sales.pivot_table(values=\"weekly_sales\", index=\"type\", columns=\"is_holiday\")\n",
    "\n",
    "# Print mean_sales_by_type_holiday\n",
    "print(mean_sales_by_type_holiday)"
   ]
  },
  {
   "cell_type": "code",
   "execution_count": 33,
   "metadata": {},
   "outputs": [
    {
     "name": "stdout",
     "output_type": "stream",
     "text": [
      "type                A         B\n",
      "department                     \n",
      "1           27796.572      0.00\n",
      "2               0.000  27559.14\n",
      "type                A         B        All\n",
      "department                                \n",
      "1           27796.572      0.00  27796.572\n",
      "2               0.000  27559.14  27559.140\n",
      "All         27796.572  27559.14  27677.856\n"
     ]
    }
   ],
   "source": [
    "# Print mean weekly_sales by department and type; fill missing values with 0\n",
    "print(sales.pivot_table(values = \"weekly_sales\", index=\"department\", columns = \"type\", fill_value=0))\n",
    "\n",
    "# Print the mean weekly_sales by department and type; fill missing values with 0s; sum all rows and cols\n",
    "print(sales.pivot_table(values=\"weekly_sales\", index=\"department\", columns=\"type\", fill_value=0, margins=True))"
   ]
  },
  {
   "cell_type": "code",
   "execution_count": 34,
   "metadata": {},
   "outputs": [
    {
     "name": "stdout",
     "output_type": "stream",
     "text": [
      "            date      city      country  avg_temp_c\n",
      "0     1900-01-01  Auckland  New Zealand      17.512\n",
      "1     1900-02-01  Auckland  New Zealand      18.301\n",
      "2     1900-03-01  Auckland  New Zealand      18.725\n",
      "3     1900-04-01  Auckland  New Zealand      17.712\n",
      "4     1900-05-01  Auckland  New Zealand      14.445\n",
      "...          ...       ...          ...         ...\n",
      "24331 2013-04-01   Wroclaw       Poland       7.939\n",
      "24332 2013-05-01   Wroclaw       Poland      12.808\n",
      "24333 2013-06-01   Wroclaw       Poland      16.204\n",
      "24334 2013-07-01   Wroclaw       Poland      19.317\n",
      "24335 2013-08-01   Wroclaw       Poland      18.092\n",
      "\n",
      "[24336 rows x 4 columns]\n",
      "               date      country  avg_temp_c\n",
      "city                                        \n",
      "Auckland 1900-01-01  New Zealand      17.512\n",
      "Auckland 1900-02-01  New Zealand      18.301\n",
      "Auckland 1900-03-01  New Zealand      18.725\n",
      "Auckland 1900-04-01  New Zealand      17.712\n",
      "Auckland 1900-05-01  New Zealand      14.445\n",
      "...             ...          ...         ...\n",
      "Wroclaw  2013-04-01       Poland       7.939\n",
      "Wroclaw  2013-05-01       Poland      12.808\n",
      "Wroclaw  2013-06-01       Poland      16.204\n",
      "Wroclaw  2013-07-01       Poland      19.317\n",
      "Wroclaw  2013-08-01       Poland      18.092\n",
      "\n",
      "[24336 rows x 3 columns]\n",
      "           city       date      country  avg_temp_c\n",
      "0      Auckland 1900-01-01  New Zealand      17.512\n",
      "1      Auckland 1900-02-01  New Zealand      18.301\n",
      "2      Auckland 1900-03-01  New Zealand      18.725\n",
      "3      Auckland 1900-04-01  New Zealand      17.712\n",
      "4      Auckland 1900-05-01  New Zealand      14.445\n",
      "...         ...        ...          ...         ...\n",
      "24331   Wroclaw 2013-04-01       Poland       7.939\n",
      "24332   Wroclaw 2013-05-01       Poland      12.808\n",
      "24333   Wroclaw 2013-06-01       Poland      16.204\n",
      "24334   Wroclaw 2013-07-01       Poland      19.317\n",
      "24335   Wroclaw 2013-08-01       Poland      18.092\n",
      "\n",
      "[24336 rows x 4 columns]\n",
      "            date      country  avg_temp_c\n",
      "0     1900-01-01  New Zealand      17.512\n",
      "1     1900-02-01  New Zealand      18.301\n",
      "2     1900-03-01  New Zealand      18.725\n",
      "3     1900-04-01  New Zealand      17.712\n",
      "4     1900-05-01  New Zealand      14.445\n",
      "...          ...          ...         ...\n",
      "24331 2013-04-01       Poland       7.939\n",
      "24332 2013-05-01       Poland      12.808\n",
      "24333 2013-06-01       Poland      16.204\n",
      "24334 2013-07-01       Poland      19.317\n",
      "24335 2013-08-01       Poland      18.092\n",
      "\n",
      "[24336 rows x 3 columns]\n"
     ]
    }
   ],
   "source": [
    "#Chapter 3 - Slicing & Indexing\n",
    "\n",
    "temperatures = pd.read_csv(\"Average Temperature Of Countries.csv\")\n",
    "temperatures[\"date\"] = pd.to_datetime(temperatures[\"date\"], format=\"%m/%d/%Y\")\n",
    "\n",
    "# Look at temperatures\n",
    "print(temperatures)\n",
    "\n",
    "# Index temperatures by city\n",
    "temperatures_ind = temperatures.set_index(\"city\")\n",
    "\n",
    "# Look at temperatures_ind\n",
    "print(temperatures_ind)\n",
    "\n",
    "# Reset the index, keeping its contents\n",
    "print(temperatures_ind.reset_index())\n",
    "\n",
    "# Reset the index, dropping its contents\n",
    "print(temperatures_ind.reset_index(drop=True))"
   ]
  },
  {
   "cell_type": "code",
   "execution_count": 35,
   "metadata": {},
   "outputs": [
    {
     "name": "stdout",
     "output_type": "stream",
     "text": [
      "            date      city      country  avg_temp_c\n",
      "0     1900-01-01  Auckland  New Zealand      17.512\n",
      "1     1900-02-01  Auckland  New Zealand      18.301\n",
      "2     1900-03-01  Auckland  New Zealand      18.725\n",
      "3     1900-04-01  Auckland  New Zealand      17.712\n",
      "4     1900-05-01  Auckland  New Zealand      14.445\n",
      "...          ...       ...          ...         ...\n",
      "24331 2013-04-01   Wroclaw       Poland       7.939\n",
      "24332 2013-05-01   Wroclaw       Poland      12.808\n",
      "24333 2013-06-01   Wroclaw       Poland      16.204\n",
      "24334 2013-07-01   Wroclaw       Poland      19.317\n",
      "24335 2013-08-01   Wroclaw       Poland      18.092\n",
      "\n",
      "[2710 rows x 4 columns]\n",
      "               date      country  avg_temp_c\n",
      "city                                        \n",
      "Auckland 1900-01-01  New Zealand      17.512\n",
      "Auckland 1900-02-01  New Zealand      18.301\n",
      "Auckland 1900-03-01  New Zealand      18.725\n",
      "Auckland 1900-04-01  New Zealand      17.712\n",
      "Auckland 1900-05-01  New Zealand      14.445\n",
      "...             ...          ...         ...\n",
      "Wroclaw  2013-04-01       Poland       7.939\n",
      "Wroclaw  2013-05-01       Poland      12.808\n",
      "Wroclaw  2013-06-01       Poland      16.204\n",
      "Wroclaw  2013-07-01       Poland      19.317\n",
      "Wroclaw  2013-08-01       Poland      18.092\n",
      "\n",
      "[2710 rows x 3 columns]\n"
     ]
    }
   ],
   "source": [
    "# Make a list of cities to subset on\n",
    "cities = [\"Auckland\", \"Wroclaw\"]\n",
    "\n",
    "# Subset temperatures using square brackets\n",
    "print(temperatures[temperatures[\"city\"].isin(cities)])\n",
    "\n",
    "# Subset temperatures_ind using .loc[]\n",
    "print(temperatures_ind.loc[cities])"
   ]
  },
  {
   "cell_type": "code",
   "execution_count": 36,
   "metadata": {},
   "outputs": [
    {
     "name": "stdout",
     "output_type": "stream",
     "text": [
      "                           date  avg_temp_c\n",
      "country     city                           \n",
      "Poland      Wroclaw  1900-01-01      -1.835\n",
      "            Wroclaw  1900-02-01      -0.187\n",
      "            Wroclaw  1900-03-01      -0.699\n",
      "            Wroclaw  1900-04-01       5.499\n",
      "            Wroclaw  1900-05-01      10.426\n",
      "...                         ...         ...\n",
      "New Zealand Auckland 2013-04-01      17.839\n",
      "            Auckland 2013-05-01      15.278\n",
      "            Auckland 2013-06-01      13.450\n",
      "            Auckland 2013-07-01      12.345\n",
      "            Auckland 2013-08-01      13.758\n",
      "\n",
      "[2710 rows x 2 columns]\n"
     ]
    }
   ],
   "source": [
    "# Index temperatures by country & city\n",
    "temperatures_ind = temperatures.set_index([\"country\", \"city\"])\n",
    "\n",
    "# List of tuples: Brazil, Rio De Janeiro & Pakistan, Lahore\n",
    "rows_to_keep = [(\"Poland\", \"Wroclaw\"), (\"New Zealand\", \"Auckland\")]\n",
    "\n",
    "# Subset for rows to keep\n",
    "print(temperatures_ind.loc[rows_to_keep])"
   ]
  },
  {
   "cell_type": "code",
   "execution_count": 37,
   "metadata": {},
   "outputs": [
    {
     "name": "stdout",
     "output_type": "stream",
     "text": [
      "                       date  avg_temp_c\n",
      "country city                           \n",
      "Brazil  Brasalia 1900-01-01      21.665\n",
      "        Brasalia 1900-02-01      22.044\n",
      "        Brasalia 1900-03-01      23.110\n",
      "        Brasalia 1900-04-01      21.587\n",
      "        Brasalia 1900-05-01      21.519\n",
      "...                     ...         ...\n",
      "Ukraine Odesa    2013-04-01      10.808\n",
      "        Odesa    2013-05-01      18.000\n",
      "        Odesa    2013-06-01      20.603\n",
      "        Odesa    2013-07-01      21.840\n",
      "        Odesa    2013-08-01      23.237\n",
      "\n",
      "[24336 rows x 2 columns]\n",
      "                           date  avg_temp_c\n",
      "country     city                           \n",
      "New Zealand Auckland 1900-01-01      17.512\n",
      "            Auckland 1900-02-01      18.301\n",
      "            Auckland 1900-03-01      18.725\n",
      "            Auckland 1900-04-01      17.712\n",
      "            Auckland 1900-05-01      14.445\n",
      "...                         ...         ...\n",
      "Poland      Wroclaw  2013-04-01       7.939\n",
      "            Wroclaw  2013-05-01      12.808\n",
      "            Wroclaw  2013-06-01      16.204\n",
      "            Wroclaw  2013-07-01      19.317\n",
      "            Wroclaw  2013-08-01      18.092\n",
      "\n",
      "[24336 rows x 2 columns]\n",
      "                      date  avg_temp_c\n",
      "country city                          \n",
      "Brazil  Canoas  1900-01-01      23.791\n",
      "        Canoas  1900-02-01      24.219\n",
      "        Canoas  1900-03-01      22.389\n",
      "        Canoas  1900-04-01      18.042\n",
      "        Canoas  1900-05-01      15.531\n",
      "...                    ...         ...\n",
      "Ukraine Kherson 2013-04-01      11.431\n",
      "        Kherson 2013-05-01      19.732\n",
      "        Kherson 2013-06-01      22.232\n",
      "        Kherson 2013-07-01      22.472\n",
      "        Kherson 2013-08-01      22.861\n",
      "\n",
      "[24336 rows x 2 columns]\n"
     ]
    }
   ],
   "source": [
    "# Sort temperatures_ind by index values\n",
    "print(temperatures_ind.sort_index())\n",
    "\n",
    "# Sort temperatures_ind by index values at the city level\n",
    "print(temperatures_ind.sort_index(level=\"city\"))\n",
    "\n",
    "# Sort temperatures_ind by country then descending city\n",
    "print(temperatures_ind.sort_index(level=[\"country\", \"city\"], ascending=[True, False]))"
   ]
  },
  {
   "cell_type": "code",
   "execution_count": 38,
   "metadata": {},
   "outputs": [
    {
     "name": "stdout",
     "output_type": "stream",
     "text": [
      "                      date  avg_temp_c\n",
      "country city                          \n",
      "Poland  Warsaw  1900-01-01      -3.716\n",
      "        Warsaw  1900-02-01      -1.510\n",
      "        Warsaw  1900-03-01      -1.121\n",
      "        Warsaw  1900-04-01       6.155\n",
      "        Warsaw  1900-05-01      11.766\n",
      "...                    ...         ...\n",
      "        Wroclaw 2013-04-01       7.939\n",
      "        Wroclaw 2013-05-01      12.808\n",
      "        Wroclaw 2013-06-01      16.204\n",
      "        Wroclaw 2013-07-01      19.317\n",
      "        Wroclaw 2013-08-01      18.092\n",
      "\n",
      "[2709 rows x 2 columns]\n",
      "Empty DataFrame\n",
      "Columns: [date, avg_temp_c]\n",
      "Index: []\n",
      "                      date  avg_temp_c\n",
      "country city                          \n",
      "Poland  Warsaw  1900-01-01      -3.716\n",
      "        Warsaw  1900-02-01      -1.510\n",
      "        Warsaw  1900-03-01      -1.121\n",
      "        Warsaw  1900-04-01       6.155\n",
      "        Warsaw  1900-05-01      11.766\n",
      "...                    ...         ...\n",
      "        Wroclaw 2013-04-01       7.939\n",
      "        Wroclaw 2013-05-01      12.808\n",
      "        Wroclaw 2013-06-01      16.204\n",
      "        Wroclaw 2013-07-01      19.317\n",
      "        Wroclaw 2013-08-01      18.092\n",
      "\n",
      "[2709 rows x 2 columns]\n"
     ]
    }
   ],
   "source": [
    "# Sort the index of temperatures_ind\n",
    "temperatures_srt = temperatures_ind.sort_index()\n",
    "\n",
    "# Subset rows from Pakistan to Russia\n",
    "print(temperatures_srt.loc[\"Pakistan\":\"Russia\"])\n",
    "\n",
    "# Try to subset rows from Lahore to Moscow\n",
    "print(temperatures_srt.loc[\"Lahore\":\"Moscow\"])\n",
    "\n",
    "# Subset rows from Pakistan, Lahore to Russia, Moscow\n",
    "print(temperatures_srt.loc[(\"Pakistan\", \"Lahore\"):(\"Russia\", \"Moscow\")])"
   ]
  },
  {
   "cell_type": "code",
   "execution_count": 39,
   "metadata": {},
   "outputs": [
    {
     "name": "stdout",
     "output_type": "stream",
     "text": [
      "Empty DataFrame\n",
      "Columns: [date, avg_temp_c]\n",
      "Index: []\n",
      "                       date  avg_temp_c\n",
      "country city                           \n",
      "Brazil  Brasalia 1900-01-01      21.665\n",
      "        Brasalia 1900-02-01      22.044\n",
      "        Brasalia 1900-03-01      23.110\n",
      "        Brasalia 1900-04-01      21.587\n",
      "        Brasalia 1900-05-01      21.519\n",
      "...                     ...         ...\n",
      "Ukraine Odesa    2013-04-01      10.808\n",
      "        Odesa    2013-05-01      18.000\n",
      "        Odesa    2013-06-01      20.603\n",
      "        Odesa    2013-07-01      21.840\n",
      "        Odesa    2013-08-01      23.237\n",
      "\n",
      "[24336 rows x 2 columns]\n",
      "Empty DataFrame\n",
      "Columns: [date, avg_temp_c]\n",
      "Index: []\n"
     ]
    }
   ],
   "source": [
    "# Subset rows from India, Hyderabad to Iraq, Baghdad\n",
    "print(temperatures_srt.loc[(\"India\", \"Hyderabad\"):(\"Iraq\", \"Baghdad\")])\n",
    "\n",
    "# Subset columns from date to avg_temp_c\n",
    "print(temperatures_srt.loc[:, \"date\":\"avg_temp_c\"])\n",
    "\n",
    "# Subset in both directions at once\n",
    "print(temperatures_srt.loc[(\"India\", \"Hyderabad\"):(\"Iraq\", \"Baghdad\"), \"date\":\"avg_temp_c\"])"
   ]
  },
  {
   "cell_type": "code",
   "execution_count": 40,
   "metadata": {},
   "outputs": [
    {
     "name": "stdout",
     "output_type": "stream",
     "text": [
      "            date      city      country  avg_temp_c\n",
      "1311  2010-01-01  Auckland  New Zealand      19.048\n",
      "1312  2010-02-01  Auckland  New Zealand      20.937\n",
      "1313  2010-03-01  Auckland  New Zealand      19.054\n",
      "1314  2010-04-01  Auckland  New Zealand      17.268\n",
      "1315  2010-05-01  Auckland  New Zealand      15.574\n",
      "...          ...       ...          ...         ...\n",
      "24311 2011-08-01   Wroclaw       Poland      18.252\n",
      "24312 2011-09-01   Wroclaw       Poland      15.122\n",
      "24313 2011-10-01   Wroclaw       Poland       8.707\n",
      "24314 2011-11-01   Wroclaw       Poland       3.715\n",
      "24315 2011-12-01   Wroclaw       Poland       2.374\n",
      "\n",
      "[427 rows x 4 columns]\n",
      "                city      country  avg_temp_c\n",
      "date                                         \n",
      "2010-01-01  Auckland  New Zealand      19.048\n",
      "2010-02-01  Auckland  New Zealand      20.937\n",
      "2010-03-01  Auckland  New Zealand      19.054\n",
      "2010-04-01  Auckland  New Zealand      17.268\n",
      "2010-05-01  Auckland  New Zealand      15.574\n",
      "...              ...          ...         ...\n",
      "2011-08-01   Wroclaw       Poland      18.252\n",
      "2011-09-01   Wroclaw       Poland      15.122\n",
      "2011-10-01   Wroclaw       Poland       8.707\n",
      "2011-11-01   Wroclaw       Poland       3.715\n",
      "2011-12-01   Wroclaw       Poland       2.374\n",
      "\n",
      "[427 rows x 3 columns]\n",
      "                city      country  avg_temp_c\n",
      "date                                         \n",
      "2010-08-01  Auckland  New Zealand      13.399\n",
      "2010-09-01  Auckland  New Zealand      13.960\n",
      "2010-10-01  Auckland  New Zealand      14.003\n",
      "2010-11-01  Auckland  New Zealand      16.436\n",
      "2010-12-01  Auckland  New Zealand      19.277\n",
      "...              ...          ...         ...\n",
      "2010-10-01   Wroclaw       Poland       6.590\n",
      "2010-11-01   Wroclaw       Poland       5.544\n",
      "2010-12-01   Wroclaw       Poland      -5.134\n",
      "2011-01-01   Wroclaw       Poland      -0.488\n",
      "2011-02-01   Wroclaw       Poland      -1.960\n",
      "\n",
      "[124 rows x 3 columns]\n"
     ]
    }
   ],
   "source": [
    "# Use Boolean conditions to subset temperatures for rows in 2010 and 2011\n",
    "temperatures_bool = temperatures[(temperatures[\"date\"] >= \"2010-01-01\") & (temperatures[\"date\"] <= \"2011-12-31\")]\n",
    "print(temperatures_bool)\n",
    "\n",
    "# Set date as an index\n",
    "temperatures_ind = temperatures.set_index(\"date\")\n",
    "\n",
    "# Use .loc[] to subset temperatures_ind for rows in 2010 and 2011\n",
    "print(temperatures_ind.loc[\"2010\":\"2011\"])\n",
    "\n",
    "# Use .loc[] to subset temperatures_ind for rows from Aug 2010 to Feb 2011\n",
    "print(temperatures_ind.loc[\"2010-08-01\":\"2011-02-28\"])"
   ]
  },
  {
   "cell_type": "code",
   "execution_count": 41,
   "metadata": {},
   "outputs": [
    {
     "name": "stdout",
     "output_type": "stream",
     "text": [
      "Auckland\n",
      "        date      city      country  avg_temp_c\n",
      "0 1900-01-01  Auckland  New Zealand      17.512\n",
      "1 1900-02-01  Auckland  New Zealand      18.301\n",
      "2 1900-03-01  Auckland  New Zealand      18.725\n",
      "3 1900-04-01  Auckland  New Zealand      17.712\n",
      "4 1900-05-01  Auckland  New Zealand      14.445\n",
      "           country  avg_temp_c\n",
      "0      New Zealand      17.512\n",
      "1      New Zealand      18.301\n",
      "2      New Zealand      18.725\n",
      "3      New Zealand      17.712\n",
      "4      New Zealand      14.445\n",
      "...            ...         ...\n",
      "24331       Poland       7.939\n",
      "24332       Poland      12.808\n",
      "24333       Poland      16.204\n",
      "24334       Poland      19.317\n",
      "24335       Poland      18.092\n",
      "\n",
      "[24336 rows x 2 columns]\n",
      "       country  avg_temp_c\n",
      "0  New Zealand      17.512\n",
      "1  New Zealand      18.301\n",
      "2  New Zealand      18.725\n",
      "3  New Zealand      17.712\n",
      "4  New Zealand      14.445\n"
     ]
    }
   ],
   "source": [
    "# Get 23rd row, 2nd column (index 22, 1)\n",
    "print(temperatures.iloc[22,1])\n",
    "\n",
    "# Use slicing to get the first 5 rows\n",
    "print(temperatures.iloc[0:5, ])\n",
    "\n",
    "# Use slicing to get columns 3 to 4\n",
    "print(temperatures.iloc[:, 2:4])\n",
    "\n",
    "# Use slicing in both directions at once\n",
    "print(temperatures.iloc[0:5, 2:4])"
   ]
  },
  {
   "cell_type": "code",
   "execution_count": 42,
   "metadata": {},
   "outputs": [
    {
     "name": "stdout",
     "output_type": "stream",
     "text": [
      "year                            1900       1901       1902       1903  \\\n",
      "country      city                                                       \n",
      "Brazil       Brasalia      21.832000  21.838000  21.794750  21.649083   \n",
      "             Canoas        18.675000  17.770667  18.522083  18.178583   \n",
      "France       Marseille     15.445417  14.663250  15.070917  14.981917   \n",
      "             Paris         10.791250   9.902667   9.831500  10.274250   \n",
      "Japan        Tokyo         12.106083  12.306250  12.831909  12.335917   \n",
      "             Tottori       14.325750  14.196083  14.310917  14.460917   \n",
      "New Zealand  Auckland      15.086500  14.650500  14.175333  14.799083   \n",
      "             Hamilton      13.639583  13.239250  12.759000  13.351333   \n",
      "Poland       Warsaw         7.640000   7.430500   5.880417   7.898250   \n",
      "             Wroclaw        7.644167   6.981000   6.119333   7.680167   \n",
      "South Africa Cape Town     16.098667  15.925667  15.707917  14.964000   \n",
      "             Johannesburg  15.134583  14.563500  14.791818  14.680500   \n",
      "Sweden       Stockholm      5.986167   6.800000   5.120545   6.724750   \n",
      "             Uppsala        3.568667   4.631000   2.507583   4.493583   \n",
      "Ukraine      Kherson        9.154167   9.322500   7.813833   9.559917   \n",
      "             Kiev           7.006333   7.582333   6.684909   8.079000   \n",
      "             Lvov           7.684000   7.370083   5.862333   7.812417   \n",
      "             Odesa         10.959500  10.898250   9.582083  10.926750   \n",
      "\n",
      "year                            1904       1905       1906       1907  \\\n",
      "country      city                                                       \n",
      "Brazil       Brasalia      20.565500  22.002250  21.543250  21.351167   \n",
      "             Canoas        17.767333  17.801083  18.404667  17.786000   \n",
      "France       Marseille     15.605083  14.804583  15.551636  15.026000   \n",
      "             Paris         10.400917  10.009250  10.501333  10.112000   \n",
      "Japan        Tokyo         12.293250  12.032917  11.661667  11.965917   \n",
      "             Tottori       14.358583  14.514167  13.976417  14.094750   \n",
      "New Zealand  Auckland      14.360750  14.604500  14.277091  15.176750   \n",
      "             Hamilton      12.948083  13.180917  12.883250  13.764083   \n",
      "Poland       Warsaw         6.917833   7.388000   7.747250   6.554000   \n",
      "             Wroclaw        7.473583   7.296167   7.559167   6.968167   \n",
      "South Africa Cape Town     15.404250  15.454667  15.280000  15.373750   \n",
      "             Johannesburg  14.347167  14.655333  14.356750  14.260818   \n",
      "Sweden       Stockholm      6.007417   6.590417   7.028083   5.113636   \n",
      "             Uppsala        3.663000   4.423500   4.890750   3.954667   \n",
      "Ukraine      Kherson        8.444917   9.207500   9.626417   7.845250   \n",
      "             Kiev           7.233818   7.353833   7.962417   5.882583   \n",
      "             Lvov           6.649750   7.243167   7.571750   6.270583   \n",
      "             Odesa         10.064417  10.701667  11.037333   9.552583   \n",
      "\n",
      "year                            1908       1909  ...       2004       2005  \\\n",
      "country      city                                ...                         \n",
      "Brazil       Brasalia      21.704333  21.335500  ...  22.569727  22.718909   \n",
      "             Canoas        17.547667  17.401833  ...  18.754750  19.424417   \n",
      "France       Marseille     14.834545  14.591667  ...  16.223500  15.819333   \n",
      "             Paris          9.922667   9.587500  ...  11.338833  11.552917   \n",
      "Japan        Tokyo         11.715750  12.039583  ...  14.047250  12.987167   \n",
      "             Tottori       14.122917  14.157667  ...  16.192583  15.363750   \n",
      "New Zealand  Auckland      14.809583  15.358667  ...  15.267417  16.232167   \n",
      "             Hamilton      13.377000  13.962833  ...  13.886583  14.865583   \n",
      "Poland       Warsaw         6.659333   6.717667  ...   8.330000   8.429333   \n",
      "             Wroclaw        6.699417   6.685417  ...   8.257000   8.133000   \n",
      "South Africa Cape Town     15.230333  15.846750  ...  16.975417  16.874750   \n",
      "             Johannesburg  14.800917  14.767833  ...  15.493083  16.290000   \n",
      "Sweden       Stockholm      6.187833   5.688083  ...   7.527917   7.723583   \n",
      "             Uppsala        4.278500   3.502083  ...   5.466000   5.827833   \n",
      "Ukraine      Kherson        7.880250   9.590636  ...   9.976250  10.179667   \n",
      "             Kiev           5.994545   6.792333  ...   7.238273   8.387417   \n",
      "             Lvov           6.362000   6.772833  ...   8.159000   8.085500   \n",
      "             Odesa          9.623333  10.581083  ...  11.516000  11.645333   \n",
      "\n",
      "year                            2006       2007       2008       2009  \\\n",
      "country      city                                                       \n",
      "Brazil       Brasalia      22.349167  22.998000  22.595333  22.663000   \n",
      "             Canoas        19.351417  19.047250  18.801417  18.835000   \n",
      "France       Marseille     16.852167  16.560083  16.422500  16.723333   \n",
      "             Paris         11.788500  11.750833  11.278250  11.464083   \n",
      "Japan        Tokyo         13.280417  13.681333  13.310667  13.546083   \n",
      "             Tottori       15.433583  16.031833  15.551167  15.614750   \n",
      "New Zealand  Auckland      15.627333  16.058917  16.029417  15.664083   \n",
      "             Hamilton      14.192417  14.611667  15.031182  14.131000   \n",
      "Poland       Warsaw         8.637750   9.319333   9.512250   8.497500   \n",
      "             Wroclaw        8.694417   9.273417   9.213750   8.566583   \n",
      "South Africa Cape Town     16.925833  16.712667  16.539417  16.956333   \n",
      "             Johannesburg  15.263333  15.901083  15.990273  15.437083   \n",
      "Sweden       Stockholm      8.297250   8.158167   8.492917   7.541333   \n",
      "             Uppsala        5.402091   5.936250   6.308250   5.329583   \n",
      "Ukraine      Kherson        9.469667  11.442833  10.519667  10.694167   \n",
      "             Kiev           7.884500  10.060400   9.238250   8.819750   \n",
      "             Lvov           8.142167   9.177750   9.234250   8.564667   \n",
      "             Odesa         11.090667  12.789250  12.068833  12.249917   \n",
      "\n",
      "year                            2010       2011       2012       2013  \n",
      "country      city                                                      \n",
      "Brazil       Brasalia      22.937900  22.387167  22.843583  22.601375  \n",
      "             Canoas        19.013667  18.819083  19.723917  17.837625  \n",
      "France       Marseille     15.667917  16.852250  16.565667  16.006250  \n",
      "             Paris         10.409833  12.325750  11.219917  11.011625  \n",
      "Japan        Tokyo         15.061200  13.321833  13.113250  13.911500  \n",
      "             Tottori       15.802583  15.376500  15.140917  15.996500  \n",
      "New Zealand  Auckland      16.238083  16.244333  15.611667  16.318750  \n",
      "             Hamilton      14.865250  14.802167  13.690727  15.223000  \n",
      "Poland       Warsaw         7.666167   8.841917   8.477500   9.320500  \n",
      "             Wroclaw        7.356583   8.926083   8.486583   8.803750  \n",
      "South Africa Cape Town     16.676500  16.621083  16.605583  16.128286  \n",
      "             Johannesburg  16.105583  15.485667  15.891000  14.978125  \n",
      "Sweden       Stockholm      6.008750   8.182667   7.214667   7.100750  \n",
      "             Uppsala        3.482417   6.300167   4.972417   5.699875  \n",
      "Ukraine      Kherson       10.624833   9.754000  10.728833  12.481750  \n",
      "             Kiev           8.965000   8.479667   8.564583  10.331375  \n",
      "             Lvov           8.030000   8.634250   8.377455   9.430125  \n",
      "             Odesa         13.151727  11.124000  12.247417  13.087625  \n",
      "\n",
      "[18 rows x 114 columns]\n"
     ]
    }
   ],
   "source": [
    "# Add a year column to temperatures\n",
    "temperatures[\"year\"] = temperatures[\"date\"].dt.year\n",
    "\n",
    "# Pivot avg_temp_c by country and city vs year\n",
    "temp_by_country_city_vs_year = temperatures.pivot_table(\"avg_temp_c\", index=[\"country\", \"city\"], columns=\"year\")\n",
    "\n",
    "# See the result\n",
    "print(temp_by_country_city_vs_year)"
   ]
  },
  {
   "cell_type": "code",
   "execution_count": 43,
   "metadata": {},
   "outputs": [
    {
     "data": {
      "text/html": [
       "<div>\n",
       "<style scoped>\n",
       "    .dataframe tbody tr th:only-of-type {\n",
       "        vertical-align: middle;\n",
       "    }\n",
       "\n",
       "    .dataframe tbody tr th {\n",
       "        vertical-align: top;\n",
       "    }\n",
       "\n",
       "    .dataframe thead th {\n",
       "        text-align: right;\n",
       "    }\n",
       "</style>\n",
       "<table border=\"1\" class=\"dataframe\">\n",
       "  <thead>\n",
       "    <tr style=\"text-align: right;\">\n",
       "      <th></th>\n",
       "      <th>year</th>\n",
       "      <th>2005</th>\n",
       "      <th>2006</th>\n",
       "      <th>2007</th>\n",
       "      <th>2008</th>\n",
       "      <th>2009</th>\n",
       "      <th>2010</th>\n",
       "    </tr>\n",
       "    <tr>\n",
       "      <th>country</th>\n",
       "      <th>city</th>\n",
       "      <th></th>\n",
       "      <th></th>\n",
       "      <th></th>\n",
       "      <th></th>\n",
       "      <th></th>\n",
       "      <th></th>\n",
       "    </tr>\n",
       "  </thead>\n",
       "  <tbody>\n",
       "    <tr>\n",
       "      <th rowspan=\"2\" valign=\"top\">France</th>\n",
       "      <th>Marseille</th>\n",
       "      <td>15.819333</td>\n",
       "      <td>16.852167</td>\n",
       "      <td>16.560083</td>\n",
       "      <td>16.42250</td>\n",
       "      <td>16.723333</td>\n",
       "      <td>15.667917</td>\n",
       "    </tr>\n",
       "    <tr>\n",
       "      <th>Paris</th>\n",
       "      <td>11.552917</td>\n",
       "      <td>11.788500</td>\n",
       "      <td>11.750833</td>\n",
       "      <td>11.27825</td>\n",
       "      <td>11.464083</td>\n",
       "      <td>10.409833</td>\n",
       "    </tr>\n",
       "  </tbody>\n",
       "</table>\n",
       "</div>"
      ],
      "text/plain": [
       "year                    2005       2006       2007      2008       2009  \\\n",
       "country city                                                              \n",
       "France  Marseille  15.819333  16.852167  16.560083  16.42250  16.723333   \n",
       "        Paris      11.552917  11.788500  11.750833  11.27825  11.464083   \n",
       "\n",
       "year                    2010  \n",
       "country city                  \n",
       "France  Marseille  15.667917  \n",
       "        Paris      10.409833  "
      ]
     },
     "execution_count": 43,
     "metadata": {},
     "output_type": "execute_result"
    }
   ],
   "source": [
    "# Subset for Egypt to India\n",
    "temp_by_country_city_vs_year.loc[\"Egypt\": \"India\"]\n",
    "\n",
    "# Subset for Egypt, Cairo to India, Delhi\n",
    "temp_by_country_city_vs_year.loc[(\"Egypt\", \"Cairo\"):(\"India\", \"Delhi\")]\n",
    "\n",
    "# Subset in both directions at once\n",
    "temp_by_country_city_vs_year.loc[(\"Egypt\", \"Cairo\"):(\"India\", \"Delhi\"), \"2005\":\"2010\"]"
   ]
  },
  {
   "cell_type": "code",
   "execution_count": 44,
   "metadata": {},
   "outputs": [
    {
     "name": "stdout",
     "output_type": "stream",
     "text": [
      "year\n",
      "2007    13.30617\n",
      "dtype: float64\n",
      "country  city   \n",
      "Sweden   Uppsala    4.58765\n",
      "dtype: float64\n"
     ]
    }
   ],
   "source": [
    "# Get the worldwide mean temp by year\n",
    "mean_temp_by_year = temp_by_country_city_vs_year.mean()\n",
    "\n",
    "# Find the year that had the highest mean temp\n",
    "print(mean_temp_by_year[mean_temp_by_year == mean_temp_by_year.max()])\n",
    "\n",
    "# Get the mean temp by city\n",
    "mean_temp_by_city = temp_by_country_city_vs_year.mean(axis=\"columns\")\n",
    "\n",
    "# Find the city that had the lowest mean temp\n",
    "print(mean_temp_by_city[mean_temp_by_city == mean_temp_by_city.min()])"
   ]
  },
  {
   "cell_type": "code",
   "execution_count": 55,
   "metadata": {},
   "outputs": [
    {
     "name": "stdout",
     "output_type": "stream",
     "text": [
      "        date          type  year  avg_price   nb_sold   size\n",
      "0 2020-01-05  conventional  2020       0.87  13014978  small\n",
      "1 2020-01-12  conventional  2020       0.91  26123029  small\n",
      "2 2020-01-19  conventional  2020       0.87  30550252  small\n",
      "3 2020-01-26  conventional  2020       0.93  26658845  small\n",
      "4 2020-02-02  conventional  2020       0.90  18165993  small\n"
     ]
    },
    {
     "data": {
      "image/png": "[encoded data removed]",
      "text/plain": [
       "<Figure size 432x288 with 1 Axes>"
      ]
     },
     "metadata": {
      "needs_background": "light"
     },
     "output_type": "display_data"
    }
   ],
   "source": [
    "#Chapter 4 - Creating & Visualizing Data Frames\n",
    "avocados = pd.read_csv(\"Avocado Data.csv\")\n",
    "avocados[\"date\"] = pd.to_datetime(avocados[\"date\"], format=\"%m/%d/%Y\")\n",
    "\n",
    "# Look at the first few rows of data\n",
    "print(avocados.head())\n",
    "\n",
    "# Get the total number of avocados sold of each size\n",
    "nb_sold_by_size = avocados.groupby(\"size\")[\"nb_sold\"].sum()\n",
    "\n",
    "# Create a bar plot of the number of avocados sold by size\n",
    "nb_sold_by_size.plot(kind=\"bar\")\n",
    "\n",
    "# Show the plot\n",
    "plt.show()"
   ]
  },
  {
   "cell_type": "code",
   "execution_count": 57,
   "metadata": {},
   "outputs": [
    {
     "data": {
      "image/png": "[encoded data removed]",
      "text/plain": [
       "<Figure size 432x288 with 1 Axes>"
      ]
     },
     "metadata": {
      "needs_background": "light"
     },
     "output_type": "display_data"
    }
   ],
   "source": [
    "# Get the total number of avocados sold on each date\n",
    "nb_sold_by_date = avocados.groupby(\"date\")[\"nb_sold\"].sum()\n",
    "\n",
    "# Create a line plot of the number of avocados sold by date\n",
    "nb_sold_by_date.plot(x=\"date\", y=\"nb_sold\", kind=\"line\")\n",
    "\n",
    "# Show the plot\n",
    "plt.show()"
   ]
  },
  {
   "cell_type": "code",
   "execution_count": 58,
   "metadata": {},
   "outputs": [
    {
     "data": {
      "image/png": "[encoded data removed]",
      "text/plain": [
       "<Figure size 432x288 with 1 Axes>"
      ]
     },
     "metadata": {
      "needs_background": "light"
     },
     "output_type": "display_data"
    }
   ],
   "source": [
    "# Scatter plot of nb_sold vs avg_price with title\n",
    "avocados.plot(x=\"nb_sold\", y=\"avg_price\", kind=\"scatter\", title=\"Number of avocados sold vs. average price\")\n",
    "\n",
    "# Show the plot\n",
    "plt.show()"
   ]
  },
  {
   "cell_type": "code",
   "execution_count": 59,
   "metadata": {},
   "outputs": [
    {
     "data": {
      "image/png": "[encoded data removed]",
      "text/plain": [
       "<Figure size 432x288 with 1 Axes>"
      ]
     },
     "metadata": {
      "needs_background": "light"
     },
     "output_type": "display_data"
    }
   ],
   "source": [
    "# Histogram of conventional avg_price \n",
    "avocados[avocados[\"type\"]==\"conventional\"][\"avg_price\"].hist()\n",
    "\n",
    "# Histogram of organic avg_price\n",
    "avocados[avocados[\"type\"]==\"organic\"][\"avg_price\"].hist()\n",
    "\n",
    "# Add a legend\n",
    "plt.legend([\"conventional\", \"organic\"])\n",
    "\n",
    "# Show the plot\n",
    "plt.show()"
   ]
  },
  {
   "cell_type": "code",
   "execution_count": 60,
   "metadata": {},
   "outputs": [
    {
     "data": {
      "image/png": "[encoded data removed]",
      "text/plain": [
       "<Figure size 432x288 with 1 Axes>"
      ]
     },
     "metadata": {
      "needs_background": "light"
     },
     "output_type": "display_data"
    }
   ],
   "source": [
    "# Modify histogram transparency to 0.5 \n",
    "avocados[avocados[\"type\"] == \"conventional\"][\"avg_price\"].hist(alpha=0.5)\n",
    "\n",
    "# Modify histogram transparency to 0.5\n",
    "avocados[avocados[\"type\"] == \"organic\"][\"avg_price\"].hist(alpha=0.5)\n",
    "\n",
    "# Add a legend\n",
    "plt.legend([\"conventional\", \"organic\"])\n",
    "\n",
    "# Show the plot\n",
    "plt.show()"
   ]
  },
  {
   "cell_type": "code",
   "execution_count": 61,
   "metadata": {},
   "outputs": [
    {
     "data": {
      "image/png": "[encoded data removed]",
      "text/plain": [
       "<Figure size 432x288 with 1 Axes>"
      ]
     },
     "metadata": {
      "needs_background": "light"
     },
     "output_type": "display_data"
    }
   ],
   "source": [
    "# Modify bins to 20\n",
    "avocados[avocados[\"type\"] == \"conventional\"][\"avg_price\"].hist(alpha=0.5, bins=20)\n",
    "\n",
    "# Modify bins to 20\n",
    "avocados[avocados[\"type\"] == \"organic\"][\"avg_price\"].hist(alpha=0.5, bins=20)\n",
    "\n",
    "# Add a legend\n",
    "plt.legend([\"conventional\", \"organic\"])\n",
    "\n",
    "# Show the plot\n",
    "plt.show()"
   ]
  },
  {
   "cell_type": "code",
   "execution_count": 65,
   "metadata": {},
   "outputs": [
    {
     "name": "stdout",
     "output_type": "stream",
     "text": [
      "      date  avg_price  total_sold  small_sold  large_sold  xl_sold  \\\n",
      "0    False      False       False       False       False    False   \n",
      "1    False      False       False       False       False    False   \n",
      "2    False      False       False       False       False    False   \n",
      "3    False      False       False       False       False    False   \n",
      "4    False      False       False       False       False    False   \n",
      "..     ...        ...         ...         ...         ...      ...   \n",
      "259  False      False       False       False       False    False   \n",
      "260  False      False       False       False       False    False   \n",
      "261  False      False       False       False       False    False   \n",
      "262  False      False       False       False       False    False   \n",
      "263  False      False       False       False       False    False   \n",
      "\n",
      "     total_bags_sold  small_bags_sold  large_bags_sold  xl_bags_sold  \n",
      "0              False            False            False         False  \n",
      "1              False            False            False         False  \n",
      "2              False            False            False         False  \n",
      "3              False            False            False         False  \n",
      "4              False            False            False         False  \n",
      "..               ...              ...              ...           ...  \n",
      "259            False            False            False         False  \n",
      "260            False            False            False         False  \n",
      "261            False            False            False         False  \n",
      "262            False            False            False         False  \n",
      "263            False            False            False         False  \n",
      "\n",
      "[264 rows x 10 columns]\n",
      "date               False\n",
      "avg_price          False\n",
      "total_sold         False\n",
      "small_sold         False\n",
      "large_sold         False\n",
      "xl_sold            False\n",
      "total_bags_sold    False\n",
      "small_bags_sold    False\n",
      "large_bags_sold    False\n",
      "xl_bags_sold       False\n",
      "dtype: bool\n"
     ]
    },
    {
     "data": {
      "image/png": "[encoded data removed]",
      "text/plain": [
       "<Figure size 432x288 with 1 Axes>"
      ]
     },
     "metadata": {
      "needs_background": "light"
     },
     "output_type": "display_data"
    }
   ],
   "source": [
    "avocados_2016 = pd.read_csv(\"Avocado 2016 Data.csv\")\n",
    "avocados_2016[\"date\"] = pd.to_datetime(avocados_2016[\"date\"], format=\"%m/%d/%Y\")\n",
    "\n",
    "# Check individual values for missing values\n",
    "print(avocados_2016.isna())\n",
    "\n",
    "# Check each column for missing values\n",
    "print(avocados_2016.isna().any())\n",
    "\n",
    "# Bar plot of missing values by variable\n",
    "avocados_2016.isna().sum().plot(kind=\"bar\")\n",
    "\n",
    "# Show plot\n",
    "plt.show()"
   ]
  },
  {
   "cell_type": "code",
   "execution_count": 66,
   "metadata": {},
   "outputs": [
    {
     "name": "stdout",
     "output_type": "stream",
     "text": [
      "date               False\n",
      "avg_price          False\n",
      "total_sold         False\n",
      "small_sold         False\n",
      "large_sold         False\n",
      "xl_sold            False\n",
      "total_bags_sold    False\n",
      "small_bags_sold    False\n",
      "large_bags_sold    False\n",
      "xl_bags_sold       False\n",
      "dtype: bool\n"
     ]
    }
   ],
   "source": [
    "# Remove rows with missing values\n",
    "avocados_complete = avocados_2016.dropna()\n",
    "\n",
    "# Check if any columns contain missing values\n",
    "print(avocados_complete.isna().any())"
   ]
  },
  {
   "cell_type": "code",
   "execution_count": 67,
   "metadata": {},
   "outputs": [
    {
     "data": {
      "image/png": "[encoded data removed]",
      "text/plain": [
       "<Figure size 432x288 with 1 Axes>"
      ]
     },
     "metadata": {
      "needs_background": "light"
     },
     "output_type": "display_data"
    }
   ],
   "source": [
    "# List the columns with missing values\n",
    "cols_with_missing = [\"small_sold\", \"large_sold\", \"xl_sold\"]\n",
    "\n",
    "# Create histograms showing the distributions cols_with_missing\n",
    "avocados_2016[cols_with_missing].plot(kind=\"hist\")\n",
    "\n",
    "# Show the plot\n",
    "plt.show()"
   ]
  },
  {
   "cell_type": "code",
   "execution_count": 68,
   "metadata": {},
   "outputs": [
    {
     "data": {
      "image/png": "[encoded data removed]",
      "text/plain": [
       "<Figure size 432x288 with 1 Axes>"
      ]
     },
     "metadata": {
      "needs_background": "light"
     },
     "output_type": "display_data"
    }
   ],
   "source": [
    "# Fill in missing values with 0\n",
    "avocados_filled = avocados_2016.fillna(0)\n",
    "\n",
    "# Create histograms of the filled columns\n",
    "avocados_filled[cols_with_missing].plot(kind=\"hist\")\n",
    "\n",
    "# Show the plot\n",
    "plt.show()"
   ]
  },
  {
   "cell_type": "code",
   "execution_count": 69,
   "metadata": {},
   "outputs": [
    {
     "name": "stdout",
     "output_type": "stream",
     "text": [
      "         date  small_sold  large_sold\n",
      "0  2019-11-03    10376832     7835071\n",
      "1  2019-11-10    10717154     8561348\n"
     ]
    }
   ],
   "source": [
    "# Create a list of dictionaries with new data\n",
    "avocados_list = [\n",
    "    {\"date\": \"2019-11-03\", \"small_sold\": 10376832, \"large_sold\": 7835071},\n",
    "    {\"date\": \"2019-11-10\", \"small_sold\": 10717154, \"large_sold\": 8561348},\n",
    "]\n",
    "\n",
    "# Convert list into DataFrame\n",
    "avocados_2019 = pd.DataFrame(avocados_list)\n",
    "\n",
    "# Print the new DataFrame\n",
    "print(avocados_2019)"
   ]
  },
  {
   "cell_type": "code",
   "execution_count": 70,
   "metadata": {},
   "outputs": [
    {
     "name": "stdout",
     "output_type": "stream",
     "text": [
      "         date  small_sold  large_sold\n",
      "0  2019-11-17    10859987     7674135\n",
      "1  2019-12-01     9291631     6238096\n"
     ]
    }
   ],
   "source": [
    "# Create a dictionary of lists with new data\n",
    "avocados_dict = {\n",
    "  \"date\": [\"2019-11-17\", \"2019-12-01\"],\n",
    "  \"small_sold\": [10859987, 9291631],\n",
    "  \"large_sold\": [7674135,6238096]\n",
    "}\n",
    "\n",
    "# Convert dictionary into DataFrame\n",
    "avocados_2019 = pd.DataFrame(avocados_dict)\n",
    "\n",
    "# Print the new DataFrame\n",
    "print(avocados_2019)"
   ]
  },
  {
   "cell_type": "code",
   "execution_count": null,
   "metadata": {},
   "outputs": [],
   "source": [
    "# From previous steps\n",
    "airline_bumping = pd.read_csv(\"airline_bumping.csv\")\n",
    "print(airline_bumping.head())\n",
    "airline_totals = airline_bumping.groupby(\"airline\")[[\"nb_bumped\", \"total_passengers\"]].sum()\n",
    "airline_totals[\"bumps_per_10k\"] = airline_totals[\"nb_bumped\"] / airline_totals[\"total_passengers\"] * 10000\n",
    "\n",
    "# Print airline_totals\n",
    "print(airline_totals)\n",
    "\n",
    "# Create airline_totals_sorted\n",
    "airline_totals_sorted = airline_totals.sort_values(\"bumps_per_10k\", ascending=False)\n",
    "\n",
    "# Print airline_totals_sorted\n",
    "print(airline_totals_sorted)\n",
    "\n",
    "# Save as airline_totals_sorted.csv\n",
    "airline_totals_sorted.to_csv(\"airline_totals_sorted.csv\")"
   ]
  }
 ],
 "metadata": {
  "kernelspec": {
   "display_name": "Python 3",
   "language": "python",
   "name": "python3"
  },
  "language_info": {
   "codemirror_mode": {
    "name": "ipython",
    "version": 3
   },
   "file_extension": ".py",
   "mimetype": "text/x-python",
   "name": "python",
   "nbconvert_exporter": "python",
   "pygments_lexer": "ipython3",
   "version": "3.6.9"
  }
 },
 "nbformat": 4,
 "nbformat_minor": 2
}

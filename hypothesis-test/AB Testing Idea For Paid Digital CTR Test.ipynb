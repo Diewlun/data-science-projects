{
 "cells": [
  {
   "cell_type": "markdown",
   "metadata": {},
   "source": [
    "# CTR Structured Test\n",
    "\n",
    "We want to test two different ad copy, the first of which is the control copy that has the traditional \"Save $500\" phrase vs. the test copy which has the \"Switch and Save\" phrase. We want to see if there is a performance difference between the two.\n",
    "\n",
    "Null hypothesis - the CTR of the control copy is equal to the CTR of the test copy \n",
    "Alternate hypothesis - the CTR of the control copy is not equal to the CTR of the test copy\n",
    "\n",
    "We expect the control copy to have a CTR of .04%"
   ]
  },
  {
   "cell_type": "code",
   "execution_count": 1,
   "metadata": {},
   "outputs": [],
   "source": [
    "# Packages imports\n",
    "import numpy as np\n",
    "import pandas as pd\n",
    "import scipy.stats as stats\n",
    "import statsmodels.stats.api as sms\n",
    "import matplotlib as mpl\n",
    "import matplotlib.pyplot as plt\n",
    "import seaborn as sns\n",
    "from math import ceil #to round to the next whole number"
   ]
  },
  {
   "cell_type": "code",
   "execution_count": 2,
   "metadata": {},
   "outputs": [],
   "source": [
    "%matplotlib inline"
   ]
  },
  {
   "cell_type": "code",
   "execution_count": 3,
   "metadata": {},
   "outputs": [
    {
     "name": "stdout",
     "output_type": "stream",
     "text": [
      "19328\n"
     ]
    }
   ],
   "source": [
    "# Calculating effect size based on our expected rates (.04% CTR for control, .06% CTR for for test)\n",
    "effect_size = sms.proportion_effectsize(0.004, 0.006)\n",
    "\n",
    "# Calculating sample size needed at 95% confidence with a power of 80%)\n",
    "required_n = sms.NormalIndPower().solve_power(\n",
    "    effect_size, \n",
    "    power=0.8, \n",
    "    alpha=0.05, \n",
    "    ratio=1\n",
    "    )                                                 \n",
    "\n",
    "# Rounding up to next whole number                          \n",
    "required_n = ceil(required_n)                                                   \n",
    "\n",
    "print(required_n) #we would need to serve 19,328 impressions for each of the two groups before we can determine statistical significance"
   ]
  },
  {
   "cell_type": "code",
   "execution_count": 4,
   "metadata": {},
   "outputs": [],
   "source": [
    "#create our control click data\n",
    "control_clicks = ceil(required_n*(.003))\n",
    "control_clicks_array = np.ones(control_clicks)\n",
    "\n",
    "#create our control non-click data\n",
    "control_nonclicks = ceil(required_n*(1-.003))\n",
    "control_nonclicks_array = np.zeros(control_nonclicks)\n",
    "\n",
    "#concatenate the two control arrays and shuffle it\n",
    "control = np.concatenate((control_clicks_array, control_nonclicks_array), axis=None)\n",
    "np.random.shuffle(control)"
   ]
  },
  {
   "cell_type": "code",
   "execution_count": 5,
   "metadata": {},
   "outputs": [],
   "source": [
    "#create control dataframe\n",
    "control = pd.DataFrame(control, columns=['Clicks'])\n",
    "control['Group'] = 'Control'\n",
    "control.reset_index(inplace=True)\n",
    "control = control.rename(columns={\"index\": \"ImpressionID\"})"
   ]
  },
  {
   "cell_type": "code",
   "execution_count": 6,
   "metadata": {},
   "outputs": [
    {
     "data": {
      "text/html": [
       "<div>\n",
       "<style scoped>\n",
       "    .dataframe tbody tr th:only-of-type {\n",
       "        vertical-align: middle;\n",
       "    }\n",
       "\n",
       "    .dataframe tbody tr th {\n",
       "        vertical-align: top;\n",
       "    }\n",
       "\n",
       "    .dataframe thead th {\n",
       "        text-align: right;\n",
       "    }\n",
       "</style>\n",
       "<table border=\"1\" class=\"dataframe\">\n",
       "  <thead>\n",
       "    <tr style=\"text-align: right;\">\n",
       "      <th></th>\n",
       "      <th>ImpressionID</th>\n",
       "      <th>Clicks</th>\n",
       "      <th>Group</th>\n",
       "    </tr>\n",
       "  </thead>\n",
       "  <tbody>\n",
       "    <tr>\n",
       "      <th>0</th>\n",
       "      <td>0</td>\n",
       "      <td>0.0</td>\n",
       "      <td>Control</td>\n",
       "    </tr>\n",
       "    <tr>\n",
       "      <th>1</th>\n",
       "      <td>1</td>\n",
       "      <td>0.0</td>\n",
       "      <td>Control</td>\n",
       "    </tr>\n",
       "    <tr>\n",
       "      <th>2</th>\n",
       "      <td>2</td>\n",
       "      <td>0.0</td>\n",
       "      <td>Control</td>\n",
       "    </tr>\n",
       "    <tr>\n",
       "      <th>3</th>\n",
       "      <td>3</td>\n",
       "      <td>0.0</td>\n",
       "      <td>Control</td>\n",
       "    </tr>\n",
       "    <tr>\n",
       "      <th>4</th>\n",
       "      <td>4</td>\n",
       "      <td>0.0</td>\n",
       "      <td>Control</td>\n",
       "    </tr>\n",
       "    <tr>\n",
       "      <th>...</th>\n",
       "      <td>...</td>\n",
       "      <td>...</td>\n",
       "      <td>...</td>\n",
       "    </tr>\n",
       "    <tr>\n",
       "      <th>19324</th>\n",
       "      <td>19324</td>\n",
       "      <td>0.0</td>\n",
       "      <td>Control</td>\n",
       "    </tr>\n",
       "    <tr>\n",
       "      <th>19325</th>\n",
       "      <td>19325</td>\n",
       "      <td>0.0</td>\n",
       "      <td>Control</td>\n",
       "    </tr>\n",
       "    <tr>\n",
       "      <th>19326</th>\n",
       "      <td>19326</td>\n",
       "      <td>0.0</td>\n",
       "      <td>Control</td>\n",
       "    </tr>\n",
       "    <tr>\n",
       "      <th>19327</th>\n",
       "      <td>19327</td>\n",
       "      <td>0.0</td>\n",
       "      <td>Control</td>\n",
       "    </tr>\n",
       "    <tr>\n",
       "      <th>19328</th>\n",
       "      <td>19328</td>\n",
       "      <td>0.0</td>\n",
       "      <td>Control</td>\n",
       "    </tr>\n",
       "  </tbody>\n",
       "</table>\n",
       "<p>19329 rows × 3 columns</p>\n",
       "</div>"
      ],
      "text/plain": [
       "       ImpressionID  Clicks    Group\n",
       "0                 0     0.0  Control\n",
       "1                 1     0.0  Control\n",
       "2                 2     0.0  Control\n",
       "3                 3     0.0  Control\n",
       "4                 4     0.0  Control\n",
       "...             ...     ...      ...\n",
       "19324         19324     0.0  Control\n",
       "19325         19325     0.0  Control\n",
       "19326         19326     0.0  Control\n",
       "19327         19327     0.0  Control\n",
       "19328         19328     0.0  Control\n",
       "\n",
       "[19329 rows x 3 columns]"
      ]
     },
     "execution_count": 6,
     "metadata": {},
     "output_type": "execute_result"
    }
   ],
   "source": [
    "control"
   ]
  },
  {
   "cell_type": "code",
   "execution_count": 36,
   "metadata": {},
   "outputs": [],
   "source": [
    "#create our test click data\n",
    "test_clicks = ceil(required_n*(.006))\n",
    "test_clicks_array = np.ones(test_clicks)\n",
    "\n",
    "#create our test non-click data\n",
    "test_nonclicks = ceil(required_n*(1-.006))\n",
    "test_nonclicks_array = np.zeros(test_nonclicks)\n",
    "\n",
    "#concatenate the two control arrays and shuffle it\n",
    "test = np.concatenate((test_clicks_array, test_nonclicks_array), axis=None)\n",
    "np.random.shuffle(test)"
   ]
  },
  {
   "cell_type": "code",
   "execution_count": 37,
   "metadata": {},
   "outputs": [],
   "source": [
    "#create test dataframe\n",
    "test = pd.DataFrame(test, columns=['Clicks'])\n",
    "test['Group'] = 'Test'\n",
    "test.reset_index(inplace=True)\n",
    "test = test.rename(columns={\"index\": \"ImpressionID\"})\n",
    "test['ImpressionID'] += required_n #give the test data different ImpressionIDs from the control data"
   ]
  },
  {
   "cell_type": "code",
   "execution_count": 38,
   "metadata": {},
   "outputs": [
    {
     "data": {
      "text/html": [
       "<div>\n",
       "<style scoped>\n",
       "    .dataframe tbody tr th:only-of-type {\n",
       "        vertical-align: middle;\n",
       "    }\n",
       "\n",
       "    .dataframe tbody tr th {\n",
       "        vertical-align: top;\n",
       "    }\n",
       "\n",
       "    .dataframe thead th {\n",
       "        text-align: right;\n",
       "    }\n",
       "</style>\n",
       "<table border=\"1\" class=\"dataframe\">\n",
       "  <thead>\n",
       "    <tr style=\"text-align: right;\">\n",
       "      <th></th>\n",
       "      <th>ImpressionID</th>\n",
       "      <th>Clicks</th>\n",
       "      <th>Group</th>\n",
       "    </tr>\n",
       "  </thead>\n",
       "  <tbody>\n",
       "    <tr>\n",
       "      <th>0</th>\n",
       "      <td>19328</td>\n",
       "      <td>0.0</td>\n",
       "      <td>Test</td>\n",
       "    </tr>\n",
       "    <tr>\n",
       "      <th>1</th>\n",
       "      <td>19329</td>\n",
       "      <td>0.0</td>\n",
       "      <td>Test</td>\n",
       "    </tr>\n",
       "    <tr>\n",
       "      <th>2</th>\n",
       "      <td>19330</td>\n",
       "      <td>0.0</td>\n",
       "      <td>Test</td>\n",
       "    </tr>\n",
       "    <tr>\n",
       "      <th>3</th>\n",
       "      <td>19331</td>\n",
       "      <td>0.0</td>\n",
       "      <td>Test</td>\n",
       "    </tr>\n",
       "    <tr>\n",
       "      <th>4</th>\n",
       "      <td>19332</td>\n",
       "      <td>0.0</td>\n",
       "      <td>Test</td>\n",
       "    </tr>\n",
       "    <tr>\n",
       "      <th>...</th>\n",
       "      <td>...</td>\n",
       "      <td>...</td>\n",
       "      <td>...</td>\n",
       "    </tr>\n",
       "    <tr>\n",
       "      <th>19324</th>\n",
       "      <td>38652</td>\n",
       "      <td>0.0</td>\n",
       "      <td>Test</td>\n",
       "    </tr>\n",
       "    <tr>\n",
       "      <th>19325</th>\n",
       "      <td>38653</td>\n",
       "      <td>0.0</td>\n",
       "      <td>Test</td>\n",
       "    </tr>\n",
       "    <tr>\n",
       "      <th>19326</th>\n",
       "      <td>38654</td>\n",
       "      <td>0.0</td>\n",
       "      <td>Test</td>\n",
       "    </tr>\n",
       "    <tr>\n",
       "      <th>19327</th>\n",
       "      <td>38655</td>\n",
       "      <td>0.0</td>\n",
       "      <td>Test</td>\n",
       "    </tr>\n",
       "    <tr>\n",
       "      <th>19328</th>\n",
       "      <td>38656</td>\n",
       "      <td>0.0</td>\n",
       "      <td>Test</td>\n",
       "    </tr>\n",
       "  </tbody>\n",
       "</table>\n",
       "<p>19329 rows × 3 columns</p>\n",
       "</div>"
      ],
      "text/plain": [
       "       ImpressionID  Clicks Group\n",
       "0             19328     0.0  Test\n",
       "1             19329     0.0  Test\n",
       "2             19330     0.0  Test\n",
       "3             19331     0.0  Test\n",
       "4             19332     0.0  Test\n",
       "...             ...     ...   ...\n",
       "19324         38652     0.0  Test\n",
       "19325         38653     0.0  Test\n",
       "19326         38654     0.0  Test\n",
       "19327         38655     0.0  Test\n",
       "19328         38656     0.0  Test\n",
       "\n",
       "[19329 rows x 3 columns]"
      ]
     },
     "execution_count": 38,
     "metadata": {},
     "output_type": "execute_result"
    }
   ],
   "source": [
    "test"
   ]
  },
  {
   "cell_type": "code",
   "execution_count": 39,
   "metadata": {},
   "outputs": [],
   "source": [
    "#concatenate the test and control data\n",
    "ab_test = pd.concat([control, test], axis=0)\n",
    "ab_test.reset_index(drop=True, inplace=True)"
   ]
  },
  {
   "cell_type": "code",
   "execution_count": 40,
   "metadata": {},
   "outputs": [
    {
     "name": "stdout",
     "output_type": "stream",
     "text": [
      "<class 'pandas.core.frame.DataFrame'>\n",
      "RangeIndex: 38658 entries, 0 to 38657\n",
      "Data columns (total 3 columns):\n",
      " #   Column        Non-Null Count  Dtype  \n",
      "---  ------        --------------  -----  \n",
      " 0   ImpressionID  38658 non-null  int64  \n",
      " 1   Clicks        38658 non-null  float64\n",
      " 2   Group         38658 non-null  object \n",
      "dtypes: float64(1), int64(1), object(1)\n",
      "memory usage: 906.2+ KB\n"
     ]
    }
   ],
   "source": [
    "ab_test.info()"
   ]
  },
  {
   "cell_type": "code",
   "execution_count": 41,
   "metadata": {},
   "outputs": [
    {
     "data": {
      "text/html": [
       "<div>\n",
       "<style scoped>\n",
       "    .dataframe tbody tr th:only-of-type {\n",
       "        vertical-align: middle;\n",
       "    }\n",
       "\n",
       "    .dataframe tbody tr th {\n",
       "        vertical-align: top;\n",
       "    }\n",
       "\n",
       "    .dataframe thead th {\n",
       "        text-align: right;\n",
       "    }\n",
       "</style>\n",
       "<table border=\"1\" class=\"dataframe\">\n",
       "  <thead>\n",
       "    <tr style=\"text-align: right;\">\n",
       "      <th></th>\n",
       "      <th>clickthrough_rate</th>\n",
       "      <th>std_deviation</th>\n",
       "      <th>std_error</th>\n",
       "    </tr>\n",
       "    <tr>\n",
       "      <th>Group</th>\n",
       "      <th></th>\n",
       "      <th></th>\n",
       "      <th></th>\n",
       "    </tr>\n",
       "  </thead>\n",
       "  <tbody>\n",
       "    <tr>\n",
       "      <th>Control</th>\n",
       "      <td>0.003001</td>\n",
       "      <td>0.054696</td>\n",
       "      <td>0.000393</td>\n",
       "    </tr>\n",
       "    <tr>\n",
       "      <th>Test</th>\n",
       "      <td>0.006001</td>\n",
       "      <td>0.077236</td>\n",
       "      <td>0.000556</td>\n",
       "    </tr>\n",
       "  </tbody>\n",
       "</table>\n",
       "</div>"
      ],
      "text/plain": [
       "         clickthrough_rate  std_deviation  std_error\n",
       "Group                                               \n",
       "Control           0.003001       0.054696   0.000393\n",
       "Test              0.006001       0.077236   0.000556"
      ]
     },
     "execution_count": 41,
     "metadata": {},
     "output_type": "execute_result"
    }
   ],
   "source": [
    "#creates a panda Series with no columns\n",
    "clickthrough_rates = ab_test.groupby('Group')['Clicks']\n",
    "\n",
    "# Std. deviation of the proportion\n",
    "std_p = lambda x: np.std(x, ddof=0)\n",
    "# Std. error of the proportion (std / sqrt(n))\n",
    "se_p = lambda x: stats.sem(x, ddof=0)\n",
    "\n",
    "clickthrough_rates = clickthrough_rates.agg([np.mean, std_p, se_p])\n",
    "clickthrough_rates.columns = ['clickthrough_rate', 'std_deviation', 'std_error']\n",
    "\n",
    "clickthrough_rates"
   ]
  },
  {
   "cell_type": "code",
   "execution_count": 42,
   "metadata": {},
   "outputs": [
    {
     "data": {
      "text/plain": [
       "Text(0, 0.5, 'Clickthrough Rate')"
      ]
     },
     "execution_count": 42,
     "metadata": {},
     "output_type": "execute_result"
    },
    {
     "data": {
      "image/png": "[encoded data removed]",
      "text/plain": [
       "<Figure size 432x288 with 1 Axes>"
      ]
     },
     "metadata": {
      "needs_background": "light"
     },
     "output_type": "display_data"
    }
   ],
   "source": [
    "#visualize the performance of the control and treatment groups\n",
    "sns.barplot(x=ab_test['Group'], y=ab_test['Clicks'], ci=False)\n",
    "\n",
    "plt.title(\"Clickthrough Rate by Group\")\n",
    "plt.ylabel(\"Clickthrough Rate\")"
   ]
  },
  {
   "cell_type": "code",
   "execution_count": 43,
   "metadata": {},
   "outputs": [],
   "source": [
    "#test the hypothesis with the normal approximation (z-test)\n",
    "from statsmodels.stats.proportion import proportions_ztest, proportion_confint"
   ]
  },
  {
   "cell_type": "code",
   "execution_count": 44,
   "metadata": {},
   "outputs": [
    {
     "name": "stdout",
     "output_type": "stream",
     "text": [
      "z statistic: -4.41\n",
      "p-value: 0.000\n",
      "ci 95% for control group: [0.002, 0.004]\n",
      "ci 95% for test group: [0.005, 0.007]\n"
     ]
    }
   ],
   "source": [
    "control_results = ab_test[ab_test['Group'] == 'Control']['Clicks']\n",
    "test_results = ab_test[ab_test['Group'] == 'Test']['Clicks']\n",
    "\n",
    "n_con = control_results.count()\n",
    "n_test = test_results.count()\n",
    "successes = [control_results.sum(), test_results.sum()]\n",
    "nobs = [n_con, n_test]\n",
    "\n",
    "z_stat, pval = proportions_ztest(successes, nobs=nobs)\n",
    "(lower_con, lower_test), (upper_con, upper_test) = proportion_confint(successes, nobs=nobs, alpha=0.05)\n",
    "\n",
    "print(f'z statistic: {z_stat:.2f}') #f' is an f-string that allows you to run expressions in real time in curly brackets\n",
    "print(f'p-value: {pval:.3f}')\n",
    "print(f'ci 95% for control group: [{lower_con:.3f}, {upper_con:.3f}]')\n",
    "print(f'ci 95% for test group: [{lower_test:.3f}, {upper_test:.3f}]')"
   ]
  },
  {
   "cell_type": "code",
   "execution_count": 50,
   "metadata": {},
   "outputs": [
    {
     "name": "stdout",
     "output_type": "stream",
     "text": [
      "we reject null hypothesis\n"
     ]
    }
   ],
   "source": [
    "#what if we do a one-tailed t-test with the alternate hypothesis that the test group has a greater mean?\n",
    "from scipy.stats import ttest_ind\n",
    "\n",
    "ttest, pval = ttest_ind(test_results, control_results, alternative=\"greater\") #first data should be the test\n",
    "\n",
    "if pval <0.05:\n",
    "      print(\"we reject null hypothesis\")\n",
    "else:\n",
    "      print(\"we fail to reject the null hypothesis\")"
   ]
  },
  {
   "cell_type": "code",
   "execution_count": 48,
   "metadata": {},
   "outputs": [
    {
     "data": {
      "text/plain": [
       "5.2331486351443576e-06"
      ]
     },
     "execution_count": 48,
     "metadata": {},
     "output_type": "execute_result"
    }
   ],
   "source": [
    "pval"
   ]
  },
  {
   "cell_type": "code",
   "execution_count": null,
   "metadata": {},
   "outputs": [],
   "source": []
  }
 ],
 "metadata": {
  "kernelspec": {
   "display_name": "Python 3 (ipykernel)",
   "language": "python",
   "name": "python3"
  },
  "language_info": {
   "codemirror_mode": {
    "name": "ipython",
    "version": 3
   },
   "file_extension": ".py",
   "mimetype": "text/x-python",
   "name": "python",
   "nbconvert_exporter": "python",
   "pygments_lexer": "ipython3",
   "version": "3.8.12"
  }
 },
 "nbformat": 4,
 "nbformat_minor": 4
}

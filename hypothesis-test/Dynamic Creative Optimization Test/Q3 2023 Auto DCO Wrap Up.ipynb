{
 "cells": [
  {
   "cell_type": "code",
   "execution_count": 2,
   "id": "6a0cd039",
   "metadata": {},
   "outputs": [],
   "source": [
    "#import libraries\n",
    "import numpy as np\n",
    "import pandas as pd\n",
    "import matplotlib.pyplot as plt\n",
    "%matplotlib inline \n",
    "import seaborn as sns\n",
    "from scipy import stats\n",
    "from scipy.stats import f_oneway\n",
    "from scipy.stats import skew, kurtosis\n",
    "import statsmodels.api as sm\n",
    "import statsmodels.stats.multicomp as mc\n",
    "from scikit_posthocs import posthoc_dunn\n",
    "import pingouin as pg\n",
    "from pingouin import ancova\n",
    "import warnings\n",
    "warnings.filterwarnings('ignore')"
   ]
  },
  {
   "cell_type": "code",
   "execution_count": 2,
   "id": "69bcff95",
   "metadata": {},
   "outputs": [],
   "source": [
    "#import data\n",
    "in_market = pd.read_csv(\"In Market Auto Wrap Up Raw.csv\")\n",
    "in_market.columns = in_market.columns.str.replace(' ', '_')\n",
    "in_market.columns = [x.lower() for x in in_market.columns]"
   ]
  },
  {
   "cell_type": "code",
   "execution_count": 3,
   "id": "54fc487c",
   "metadata": {},
   "outputs": [],
   "source": [
    "#convert date object to datetime so we can slice\n",
    "in_market['date'] = pd.to_datetime(in_market['date'])\n",
    "\n",
    "#drop 08/13\n",
    "in_market = in_market[in_market['date'] != '2023-08-13']"
   ]
  },
  {
   "cell_type": "code",
   "execution_count": 4,
   "id": "b29f2f92",
   "metadata": {},
   "outputs": [
    {
     "name": "stdout",
     "output_type": "stream",
     "text": [
      "<class 'pandas.core.frame.DataFrame'>\n",
      "Int64Index: 27297 entries, 0 to 27296\n",
      "Data columns (total 45 columns):\n",
      " #   Column                          Non-Null Count  Dtype         \n",
      "---  ------                          --------------  -----         \n",
      " 0   date                            27297 non-null  datetime64[ns]\n",
      " 1   advertiser_id                   27297 non-null  int64         \n",
      " 2   advertiser                      27297 non-null  object        \n",
      " 3   site_id_(cm360)                 27297 non-null  int64         \n",
      " 4   site_(cm360)                    27297 non-null  object        \n",
      " 5   campaign_id                     27297 non-null  int64         \n",
      " 6   campaign_external_id            27297 non-null  object        \n",
      " 7   campaign                        27297 non-null  object        \n",
      " 8   package/roadblock_id            27297 non-null  int64         \n",
      " 9   package/roadblock               27297 non-null  object        \n",
      " 10  placement_id                    27297 non-null  int64         \n",
      " 11  placement                       27297 non-null  object        \n",
      " 12  creative_id                     27297 non-null  int64         \n",
      " 13  creative                        27297 non-null  object        \n",
      " 14  click-through_url               27297 non-null  object        \n",
      " 15  environment                     27297 non-null  object        \n",
      " 16  platform_type                   27297 non-null  object        \n",
      " 17  dcm_impressions                 27297 non-null  int64         \n",
      " 18  dcm_clicks                      27297 non-null  int64         \n",
      " 19  media_cost                      27297 non-null  float64       \n",
      " 20  dv360_cost_usd                  27297 non-null  float64       \n",
      " 21  3._lead:_total_conversions      27297 non-null  int64         \n",
      " 22  audience                        27297 non-null  object        \n",
      " 23  group                           27297 non-null  object        \n",
      " 24  creative_size                   27297 non-null  object        \n",
      " 25  key                             27297 non-null  object        \n",
      " 26  innovid_enhanced_key            27297 non-null  int64         \n",
      " 27  enrivonment_platform_key        27297 non-null  object        \n",
      " 28  cpm                             27297 non-null  float64       \n",
      " 29  innovid_version_id              27297 non-null  int64         \n",
      " 30  innovid_version_name            27297 non-null  object        \n",
      " 31  innovid_creative_id             27297 non-null  int64         \n",
      " 32  innovid_key                     27297 non-null  object        \n",
      " 33  main_message                    27297 non-null  object        \n",
      " 34  image                           27297 non-null  object        \n",
      " 35  cta                             27297 non-null  object        \n",
      " 36  spend                           27297 non-null  float64       \n",
      " 37  innovid_impressions_raw         27297 non-null  int64         \n",
      " 38  innovid_clicks_raw              27297 non-null  int64         \n",
      " 39  innovid_impressions_mod         27297 non-null  float64       \n",
      " 40  innovid_clicks_mod              27297 non-null  float64       \n",
      " 41  innovid_impressions_attributed  27297 non-null  float64       \n",
      " 42  innovid_clicks_attributed       27297 non-null  float64       \n",
      " 43  impressions                     27297 non-null  float64       \n",
      " 44  clicks                          27297 non-null  float64       \n",
      "dtypes: datetime64[ns](1), float64(10), int64(14), object(20)\n",
      "memory usage: 9.6+ MB\n"
     ]
    }
   ],
   "source": [
    "in_market.info()"
   ]
  },
  {
   "cell_type": "markdown",
   "id": "d7af192d",
   "metadata": {},
   "source": [
    "# In-Market Auto Performance By Group"
   ]
  },
  {
   "cell_type": "code",
   "execution_count": 6,
   "id": "616b5dcf",
   "metadata": {},
   "outputs": [
    {
     "data": {
      "text/html": [
       "<div>\n",
       "<style scoped>\n",
       "    .dataframe tbody tr th:only-of-type {\n",
       "        vertical-align: middle;\n",
       "    }\n",
       "\n",
       "    .dataframe tbody tr th {\n",
       "        vertical-align: top;\n",
       "    }\n",
       "\n",
       "    .dataframe thead th {\n",
       "        text-align: right;\n",
       "    }\n",
       "</style>\n",
       "<table border=\"1\" class=\"dataframe\">\n",
       "  <thead>\n",
       "    <tr style=\"text-align: right;\">\n",
       "      <th></th>\n",
       "      <th>date</th>\n",
       "      <th>group</th>\n",
       "      <th>impressions</th>\n",
       "      <th>clicks</th>\n",
       "      <th>spend</th>\n",
       "      <th>3._lead:_total_conversions</th>\n",
       "    </tr>\n",
       "  </thead>\n",
       "  <tbody>\n",
       "    <tr>\n",
       "      <th>0</th>\n",
       "      <td>2023-08-07</td>\n",
       "      <td>Control</td>\n",
       "      <td>2713.000000</td>\n",
       "      <td>7.000000</td>\n",
       "      <td>22.205064</td>\n",
       "      <td>0</td>\n",
       "    </tr>\n",
       "    <tr>\n",
       "      <th>1</th>\n",
       "      <td>2023-08-07</td>\n",
       "      <td>DCO</td>\n",
       "      <td>15717.000000</td>\n",
       "      <td>28.000000</td>\n",
       "      <td>87.171118</td>\n",
       "      <td>0</td>\n",
       "    </tr>\n",
       "    <tr>\n",
       "      <th>2</th>\n",
       "      <td>2023-08-08</td>\n",
       "      <td>Control</td>\n",
       "      <td>30994.000000</td>\n",
       "      <td>97.000000</td>\n",
       "      <td>329.650431</td>\n",
       "      <td>0</td>\n",
       "    </tr>\n",
       "    <tr>\n",
       "      <th>3</th>\n",
       "      <td>2023-08-08</td>\n",
       "      <td>DCO</td>\n",
       "      <td>118291.511059</td>\n",
       "      <td>375.993033</td>\n",
       "      <td>1050.545646</td>\n",
       "      <td>0</td>\n",
       "    </tr>\n",
       "    <tr>\n",
       "      <th>4</th>\n",
       "      <td>2023-08-09</td>\n",
       "      <td>Control</td>\n",
       "      <td>27691.000000</td>\n",
       "      <td>62.000000</td>\n",
       "      <td>235.185603</td>\n",
       "      <td>1</td>\n",
       "    </tr>\n",
       "    <tr>\n",
       "      <th>...</th>\n",
       "      <td>...</td>\n",
       "      <td>...</td>\n",
       "      <td>...</td>\n",
       "      <td>...</td>\n",
       "      <td>...</td>\n",
       "      <td>...</td>\n",
       "    </tr>\n",
       "    <tr>\n",
       "      <th>121</th>\n",
       "      <td>2023-10-11</td>\n",
       "      <td>DCO</td>\n",
       "      <td>206415.284892</td>\n",
       "      <td>723.992267</td>\n",
       "      <td>2172.479858</td>\n",
       "      <td>6</td>\n",
       "    </tr>\n",
       "    <tr>\n",
       "      <th>122</th>\n",
       "      <td>2023-10-12</td>\n",
       "      <td>Control</td>\n",
       "      <td>32937.000000</td>\n",
       "      <td>80.000000</td>\n",
       "      <td>300.065544</td>\n",
       "      <td>0</td>\n",
       "    </tr>\n",
       "    <tr>\n",
       "      <th>123</th>\n",
       "      <td>2023-10-12</td>\n",
       "      <td>DCO</td>\n",
       "      <td>227637.806545</td>\n",
       "      <td>823.984611</td>\n",
       "      <td>2546.606223</td>\n",
       "      <td>3</td>\n",
       "    </tr>\n",
       "    <tr>\n",
       "      <th>124</th>\n",
       "      <td>2023-10-13</td>\n",
       "      <td>Control</td>\n",
       "      <td>32971.000000</td>\n",
       "      <td>71.000000</td>\n",
       "      <td>299.365838</td>\n",
       "      <td>0</td>\n",
       "    </tr>\n",
       "    <tr>\n",
       "      <th>125</th>\n",
       "      <td>2023-10-13</td>\n",
       "      <td>DCO</td>\n",
       "      <td>325360.838502</td>\n",
       "      <td>1277.977337</td>\n",
       "      <td>3905.689701</td>\n",
       "      <td>2</td>\n",
       "    </tr>\n",
       "  </tbody>\n",
       "</table>\n",
       "<p>126 rows × 6 columns</p>\n",
       "</div>"
      ],
      "text/plain": [
       "          date    group    impressions       clicks        spend  \\\n",
       "0   2023-08-07  Control    2713.000000     7.000000    22.205064   \n",
       "1   2023-08-07      DCO   15717.000000    28.000000    87.171118   \n",
       "2   2023-08-08  Control   30994.000000    97.000000   329.650431   \n",
       "3   2023-08-08      DCO  118291.511059   375.993033  1050.545646   \n",
       "4   2023-08-09  Control   27691.000000    62.000000   235.185603   \n",
       "..         ...      ...            ...          ...          ...   \n",
       "121 2023-10-11      DCO  206415.284892   723.992267  2172.479858   \n",
       "122 2023-10-12  Control   32937.000000    80.000000   300.065544   \n",
       "123 2023-10-12      DCO  227637.806545   823.984611  2546.606223   \n",
       "124 2023-10-13  Control   32971.000000    71.000000   299.365838   \n",
       "125 2023-10-13      DCO  325360.838502  1277.977337  3905.689701   \n",
       "\n",
       "     3._lead:_total_conversions  \n",
       "0                             0  \n",
       "1                             0  \n",
       "2                             0  \n",
       "3                             0  \n",
       "4                             1  \n",
       "..                          ...  \n",
       "121                           6  \n",
       "122                           0  \n",
       "123                           3  \n",
       "124                           0  \n",
       "125                           2  \n",
       "\n",
       "[126 rows x 6 columns]"
      ]
     },
     "execution_count": 6,
     "metadata": {},
     "output_type": "execute_result"
    }
   ],
   "source": [
    "in_market_group = in_market.groupby(['date','group'])[['impressions', 'clicks', 'spend', '3._lead:_total_conversions']].sum().reset_index()\n",
    "in_market_group"
   ]
  },
  {
   "cell_type": "code",
   "execution_count": 7,
   "id": "cfc02e37",
   "metadata": {},
   "outputs": [],
   "source": [
    "#create calculated fields for KPIs of interest\n",
    "in_market_group['ctr'] = in_market_group['clicks'] / in_market_group['impressions']\n",
    "in_market_group['cvr'] = in_market_group['3._lead:_total_conversions'] / in_market_group['clicks']\n",
    "in_market_group['cpl'] = in_market_group['spend'] / in_market_group['3._lead:_total_conversions']"
   ]
  },
  {
   "cell_type": "code",
   "execution_count": 8,
   "id": "3302eef4",
   "metadata": {},
   "outputs": [
    {
     "data": {
      "text/html": [
       "<div>\n",
       "<style scoped>\n",
       "    .dataframe tbody tr th:only-of-type {\n",
       "        vertical-align: middle;\n",
       "    }\n",
       "\n",
       "    .dataframe tbody tr th {\n",
       "        vertical-align: top;\n",
       "    }\n",
       "\n",
       "    .dataframe thead th {\n",
       "        text-align: right;\n",
       "    }\n",
       "</style>\n",
       "<table border=\"1\" class=\"dataframe\">\n",
       "  <thead>\n",
       "    <tr style=\"text-align: right;\">\n",
       "      <th></th>\n",
       "      <th>count</th>\n",
       "      <th>mean</th>\n",
       "      <th>std</th>\n",
       "      <th>min</th>\n",
       "      <th>25%</th>\n",
       "      <th>50%</th>\n",
       "      <th>75%</th>\n",
       "      <th>max</th>\n",
       "    </tr>\n",
       "  </thead>\n",
       "  <tbody>\n",
       "    <tr>\n",
       "      <th>impressions</th>\n",
       "      <td>126.0</td>\n",
       "      <td>106181.332391</td>\n",
       "      <td>94758.264314</td>\n",
       "      <td>0.0</td>\n",
       "      <td>34797.250000</td>\n",
       "      <td>47029.500000</td>\n",
       "      <td>177451.943468</td>\n",
       "      <td>447034.177189</td>\n",
       "    </tr>\n",
       "    <tr>\n",
       "      <th>clicks</th>\n",
       "      <td>126.0</td>\n",
       "      <td>355.381229</td>\n",
       "      <td>338.794624</td>\n",
       "      <td>0.0</td>\n",
       "      <td>90.500000</td>\n",
       "      <td>156.500000</td>\n",
       "      <td>583.731577</td>\n",
       "      <td>1342.968149</td>\n",
       "    </tr>\n",
       "    <tr>\n",
       "      <th>spend</th>\n",
       "      <td>126.0</td>\n",
       "      <td>994.045015</td>\n",
       "      <td>912.361200</td>\n",
       "      <td>0.0</td>\n",
       "      <td>301.799731</td>\n",
       "      <td>496.033331</td>\n",
       "      <td>1578.350500</td>\n",
       "      <td>3905.689701</td>\n",
       "    </tr>\n",
       "    <tr>\n",
       "      <th>3._lead:_total_conversions</th>\n",
       "      <td>126.0</td>\n",
       "      <td>2.420635</td>\n",
       "      <td>2.492720</td>\n",
       "      <td>0.0</td>\n",
       "      <td>0.000000</td>\n",
       "      <td>2.000000</td>\n",
       "      <td>4.000000</td>\n",
       "      <td>11.000000</td>\n",
       "    </tr>\n",
       "    <tr>\n",
       "      <th>ctr</th>\n",
       "      <td>126.0</td>\n",
       "      <td>0.002989</td>\n",
       "      <td>0.001015</td>\n",
       "      <td>0.0</td>\n",
       "      <td>0.002547</td>\n",
       "      <td>0.003183</td>\n",
       "      <td>0.003614</td>\n",
       "      <td>0.004920</td>\n",
       "    </tr>\n",
       "    <tr>\n",
       "      <th>cvr</th>\n",
       "      <td>126.0</td>\n",
       "      <td>0.009301</td>\n",
       "      <td>0.014535</td>\n",
       "      <td>0.0</td>\n",
       "      <td>0.000000</td>\n",
       "      <td>0.005085</td>\n",
       "      <td>0.010030</td>\n",
       "      <td>0.083333</td>\n",
       "    </tr>\n",
       "    <tr>\n",
       "      <th>cpl</th>\n",
       "      <td>126.0</td>\n",
       "      <td>291.882329</td>\n",
       "      <td>351.174737</td>\n",
       "      <td>0.0</td>\n",
       "      <td>0.000000</td>\n",
       "      <td>211.188716</td>\n",
       "      <td>433.490146</td>\n",
       "      <td>1952.844851</td>\n",
       "    </tr>\n",
       "  </tbody>\n",
       "</table>\n",
       "</div>"
      ],
      "text/plain": [
       "                            count           mean           std  min  \\\n",
       "impressions                 126.0  106181.332391  94758.264314  0.0   \n",
       "clicks                      126.0     355.381229    338.794624  0.0   \n",
       "spend                       126.0     994.045015    912.361200  0.0   \n",
       "3._lead:_total_conversions  126.0       2.420635      2.492720  0.0   \n",
       "ctr                         126.0       0.002989      0.001015  0.0   \n",
       "cvr                         126.0       0.009301      0.014535  0.0   \n",
       "cpl                         126.0     291.882329    351.174737  0.0   \n",
       "\n",
       "                                     25%           50%            75%  \\\n",
       "impressions                 34797.250000  47029.500000  177451.943468   \n",
       "clicks                         90.500000    156.500000     583.731577   \n",
       "spend                         301.799731    496.033331    1578.350500   \n",
       "3._lead:_total_conversions      0.000000      2.000000       4.000000   \n",
       "ctr                             0.002547      0.003183       0.003614   \n",
       "cvr                             0.000000      0.005085       0.010030   \n",
       "cpl                             0.000000    211.188716     433.490146   \n",
       "\n",
       "                                      max  \n",
       "impressions                 447034.177189  \n",
       "clicks                        1342.968149  \n",
       "spend                         3905.689701  \n",
       "3._lead:_total_conversions      11.000000  \n",
       "ctr                              0.004920  \n",
       "cvr                              0.083333  \n",
       "cpl                           1952.844851  "
      ]
     },
     "execution_count": 8,
     "metadata": {},
     "output_type": "execute_result"
    }
   ],
   "source": [
    "#replace Inf and NaN values with 0\n",
    "for i in in_market_group.columns:\n",
    "    in_market_group[i] = in_market_group[i].replace([np.inf, -np.inf], 0)\n",
    "    in_market_group[i] = in_market_group[i].replace(np.nan, 0)\n",
    "\n",
    "#summary stats\n",
    "in_market_group.describe().transpose()"
   ]
  },
  {
   "cell_type": "code",
   "execution_count": 10,
   "id": "34f4197e",
   "metadata": {},
   "outputs": [],
   "source": [
    "#set plot figure size\n",
    "sns.set(rc={'figure.figsize':(15,7)})\n",
    "sns.set_style('white')\n",
    "\n",
    "#set color palette to be AmFam colors\n",
    "my_colors = ['#DD0031', '#0851A6', '#003A6D']\n",
    "sns.set_palette(my_colors)"
   ]
  },
  {
   "cell_type": "code",
   "execution_count": 11,
   "id": "a36f8a6c",
   "metadata": {},
   "outputs": [
    {
     "data": {
      "text/plain": [
       "<Axes: xlabel='cpl', ylabel='Count'>"
      ]
     },
     "execution_count": 11,
     "metadata": {},
     "output_type": "execute_result"
    },
    {
     "data": {
      "image/png": "[encoded data removed]",
      "text/plain": [
       "<Figure size 1500x700 with 1 Axes>"
      ]
     },
     "metadata": {},
     "output_type": "display_data"
    }
   ],
   "source": [
    "#create histogram of cpl\n",
    "sns.histplot(in_market_group, x='cpl', kde=False)"
   ]
  },
  {
   "cell_type": "code",
   "execution_count": 17,
   "id": "0dd7fe1d",
   "metadata": {},
   "outputs": [
    {
     "data": {
      "text/plain": [
       "<Axes: xlabel='3._lead:_total_conversions', ylabel='Count'>"
      ]
     },
     "execution_count": 17,
     "metadata": {},
     "output_type": "execute_result"
    },
    {
     "data": {
      "image/png": "[encoded data removed]",
      "text/plain": [
       "<Figure size 1500x700 with 1 Axes>"
      ]
     },
     "metadata": {},
     "output_type": "display_data"
    }
   ],
   "source": [
    "#create histogram of leads\n",
    "sns.histplot(in_market_group, x='3._lead:_total_conversions', kde=False)"
   ]
  },
  {
   "cell_type": "code",
   "execution_count": 18,
   "id": "6db12307",
   "metadata": {},
   "outputs": [
    {
     "data": {
      "text/plain": [
       "<Axes: xlabel='ctr', ylabel='Count'>"
      ]
     },
     "execution_count": 18,
     "metadata": {},
     "output_type": "execute_result"
    },
    {
     "data": {
      "image/png": "[encoded data removed]",
      "text/plain": [
       "<Figure size 1500x700 with 1 Axes>"
      ]
     },
     "metadata": {},
     "output_type": "display_data"
    }
   ],
   "source": [
    "#create histogram of ctr\n",
    "sns.histplot(in_market_group, x='ctr', kde=False)"
   ]
  },
  {
   "cell_type": "code",
   "execution_count": 19,
   "id": "2067a9a4",
   "metadata": {},
   "outputs": [
    {
     "data": {
      "text/plain": [
       "<Axes: xlabel='clicks', ylabel='Count'>"
      ]
     },
     "execution_count": 19,
     "metadata": {},
     "output_type": "execute_result"
    },
    {
     "data": {
      "image/png": "[encoded data removed]",
      "text/plain": [
       "<Figure size 1500x700 with 1 Axes>"
      ]
     },
     "metadata": {},
     "output_type": "display_data"
    }
   ],
   "source": [
    "#create histogram of clicks\n",
    "sns.histplot(in_market_group, x='clicks', kde=False)"
   ]
  },
  {
   "cell_type": "code",
   "execution_count": 20,
   "id": "4a11e2f8",
   "metadata": {},
   "outputs": [
    {
     "data": {
      "text/plain": [
       "LeveneResult(statistic=16.531049218052203, pvalue=8.442965909929131e-05)"
      ]
     },
     "execution_count": 20,
     "metadata": {},
     "output_type": "execute_result"
    }
   ],
   "source": [
    "#levene test of cpl - non-parametric\n",
    "stats.levene(in_market_group['cpl'][in_market_group['group'] == 'Control'], \n",
    "             in_market_group['cpl'][in_market_group['group'] == 'DCO'])"
   ]
  },
  {
   "cell_type": "code",
   "execution_count": 21,
   "id": "4e567770",
   "metadata": {},
   "outputs": [
    {
     "data": {
      "text/plain": [
       "LeveneResult(statistic=10.988904459306625, pvalue=0.0012022409414379435)"
      ]
     },
     "execution_count": 21,
     "metadata": {},
     "output_type": "execute_result"
    }
   ],
   "source": [
    "#levene test of leads - non-parametric\n",
    "stats.levene(in_market_group['3._lead:_total_conversions'][in_market_group['group'] == 'Control'], \n",
    "             in_market_group['3._lead:_total_conversions'][in_market_group['group'] == 'DCO'])"
   ]
  },
  {
   "cell_type": "code",
   "execution_count": 23,
   "id": "fe5892c3",
   "metadata": {},
   "outputs": [
    {
     "data": {
      "text/plain": [
       "KruskalResult(statistic=38.761137901783954, pvalue=4.789693960460967e-10)"
      ]
     },
     "execution_count": 23,
     "metadata": {},
     "output_type": "execute_result"
    }
   ],
   "source": [
    "in_market_controlgroup_cpl = in_market_group['cpl'][in_market_group['group'] == 'Control']\n",
    "in_market_dcogroup_cpl = in_market_group['cpl'][in_market_group['group'] == 'DCO']\n",
    "\n",
    "#Kruskal Wallis for cpl - stat sig\n",
    "stats.kruskal(in_market_controlgroup_cpl, in_market_dcogroup_cpl)"
   ]
  },
  {
   "cell_type": "code",
   "execution_count": 24,
   "id": "927c9ed3",
   "metadata": {},
   "outputs": [
    {
     "data": {
      "text/plain": [
       "LeveneResult(statistic=0.005060420850745784, pvalue=0.9434036157871799)"
      ]
     },
     "execution_count": 24,
     "metadata": {},
     "output_type": "execute_result"
    }
   ],
   "source": [
    "#levene test of ctr - parametric\n",
    "stats.levene(in_market_group['ctr'][in_market_group['group'] == 'Control'], \n",
    "             in_market_group['ctr'][in_market_group['group'] == 'DCO'])"
   ]
  },
  {
   "cell_type": "code",
   "execution_count": 25,
   "id": "44d598e7",
   "metadata": {},
   "outputs": [
    {
     "data": {
      "text/plain": [
       "LeveneResult(statistic=47.13267557948662, pvalue=2.826292070923397e-10)"
      ]
     },
     "execution_count": 25,
     "metadata": {},
     "output_type": "execute_result"
    }
   ],
   "source": [
    "#levene test of clicks \n",
    "stats.levene(in_market_group['clicks'][in_market_group['group'] == 'Control'], \n",
    "             in_market_group['clicks'][in_market_group['group'] == 'DCO'])"
   ]
  },
  {
   "cell_type": "code",
   "execution_count": 27,
   "id": "74deddd1",
   "metadata": {},
   "outputs": [
    {
     "data": {
      "text/plain": [
       "0.003545629737008942"
      ]
     },
     "execution_count": 27,
     "metadata": {},
     "output_type": "execute_result"
    }
   ],
   "source": [
    "#welch's t-test of ctr - stat sig\n",
    "in_market_controlgroup_ctr = in_market_group['ctr'][in_market_group['group'] == 'Control']\n",
    "in_market_dcogroup_ctr = in_market_group['ctr'][in_market_group['group'] == 'DCO']\n",
    "\n",
    "t_statistic, p_value = stats.ttest_ind(in_market_controlgroup_ctr, in_market_dcogroup_ctr, equal_var=False)\n",
    "p_value"
   ]
  },
  {
   "cell_type": "code",
   "execution_count": 26,
   "id": "b872a67d",
   "metadata": {},
   "outputs": [
    {
     "data": {
      "text/plain": [
       "<Axes: xlabel='Theoretical quantiles', ylabel='Ordered quantiles'>"
      ]
     },
     "execution_count": 26,
     "metadata": {},
     "output_type": "execute_result"
    },
    {
     "data": {
      "image/png": "[encoded data removed]",
      "text/plain": [
       "<Figure size 1500x700 with 1 Axes>"
      ]
     },
     "metadata": {},
     "output_type": "display_data"
    }
   ],
   "source": [
    "#check ANCOVA assumptions for clicks - residuals between the DV and covariate need to be somewhat normally distributed\n",
    "#we can do ANCOVA here\n",
    "ols_model = sm.OLS(in_market_group['clicks'], in_market_group[['spend', 'impressions']]).fit()\n",
    "residual_values = ols_model.resid\n",
    "pg.qqplot(residual_values, dist='norm')"
   ]
  },
  {
   "cell_type": "code",
   "execution_count": 29,
   "id": "f25a388f",
   "metadata": {},
   "outputs": [
    {
     "data": {
      "text/html": [
       "<div>\n",
       "<style scoped>\n",
       "    .dataframe tbody tr th:only-of-type {\n",
       "        vertical-align: middle;\n",
       "    }\n",
       "\n",
       "    .dataframe tbody tr th {\n",
       "        vertical-align: top;\n",
       "    }\n",
       "\n",
       "    .dataframe thead th {\n",
       "        text-align: right;\n",
       "    }\n",
       "</style>\n",
       "<table border=\"1\" class=\"dataframe\">\n",
       "  <thead>\n",
       "    <tr style=\"text-align: right;\">\n",
       "      <th></th>\n",
       "      <th>Source</th>\n",
       "      <th>SS</th>\n",
       "      <th>DF</th>\n",
       "      <th>F</th>\n",
       "      <th>p-unc</th>\n",
       "      <th>np2</th>\n",
       "    </tr>\n",
       "  </thead>\n",
       "  <tbody>\n",
       "    <tr>\n",
       "      <th>0</th>\n",
       "      <td>group</td>\n",
       "      <td>26037.907614</td>\n",
       "      <td>1</td>\n",
       "      <td>6.012812</td>\n",
       "      <td>1.561759e-02</td>\n",
       "      <td>0.046970</td>\n",
       "    </tr>\n",
       "    <tr>\n",
       "      <th>1</th>\n",
       "      <td>spend</td>\n",
       "      <td>956771.481237</td>\n",
       "      <td>1</td>\n",
       "      <td>220.942744</td>\n",
       "      <td>3.722707e-29</td>\n",
       "      <td>0.644255</td>\n",
       "    </tr>\n",
       "    <tr>\n",
       "      <th>2</th>\n",
       "      <td>impressions</td>\n",
       "      <td>6540.966083</td>\n",
       "      <td>1</td>\n",
       "      <td>1.510475</td>\n",
       "      <td>2.214319e-01</td>\n",
       "      <td>0.012230</td>\n",
       "    </tr>\n",
       "    <tr>\n",
       "      <th>3</th>\n",
       "      <td>Residual</td>\n",
       "      <td>528309.363743</td>\n",
       "      <td>122</td>\n",
       "      <td>NaN</td>\n",
       "      <td>NaN</td>\n",
       "      <td>NaN</td>\n",
       "    </tr>\n",
       "  </tbody>\n",
       "</table>\n",
       "</div>"
      ],
      "text/plain": [
       "        Source             SS   DF           F         p-unc       np2\n",
       "0        group   26037.907614    1    6.012812  1.561759e-02  0.046970\n",
       "1        spend  956771.481237    1  220.942744  3.722707e-29  0.644255\n",
       "2  impressions    6540.966083    1    1.510475  2.214319e-01  0.012230\n",
       "3     Residual  528309.363743  122         NaN           NaN       NaN"
      ]
     },
     "execution_count": 29,
     "metadata": {},
     "output_type": "execute_result"
    }
   ],
   "source": [
    "#ANCOVA for clicks - findings are statistically significant\n",
    "ancova(data=in_market_group, dv='clicks', covar=['spend', 'impressions'], between='group')"
   ]
  },
  {
   "cell_type": "markdown",
   "id": "fb1cc6f7",
   "metadata": {},
   "source": [
    "# In-Market Performance By Version"
   ]
  },
  {
   "cell_type": "code",
   "execution_count": 35,
   "id": "0654e345",
   "metadata": {},
   "outputs": [
    {
     "data": {
      "text/html": [
       "<div>\n",
       "<style scoped>\n",
       "    .dataframe tbody tr th:only-of-type {\n",
       "        vertical-align: middle;\n",
       "    }\n",
       "\n",
       "    .dataframe tbody tr th {\n",
       "        vertical-align: top;\n",
       "    }\n",
       "\n",
       "    .dataframe thead th {\n",
       "        text-align: right;\n",
       "    }\n",
       "</style>\n",
       "<table border=\"1\" class=\"dataframe\">\n",
       "  <thead>\n",
       "    <tr style=\"text-align: right;\">\n",
       "      <th></th>\n",
       "      <th>date</th>\n",
       "      <th>innovid_version_id</th>\n",
       "      <th>impressions</th>\n",
       "      <th>clicks</th>\n",
       "      <th>spend</th>\n",
       "      <th>3._lead:_total_conversions</th>\n",
       "    </tr>\n",
       "  </thead>\n",
       "  <tbody>\n",
       "    <tr>\n",
       "      <th>0</th>\n",
       "      <td>2023-08-07</td>\n",
       "      <td>0</td>\n",
       "      <td>2713.000000</td>\n",
       "      <td>7.000000</td>\n",
       "      <td>22.205064</td>\n",
       "      <td>0</td>\n",
       "    </tr>\n",
       "    <tr>\n",
       "      <th>1</th>\n",
       "      <td>2023-08-07</td>\n",
       "      <td>37</td>\n",
       "      <td>492.000000</td>\n",
       "      <td>0.000000</td>\n",
       "      <td>2.729212</td>\n",
       "      <td>0</td>\n",
       "    </tr>\n",
       "    <tr>\n",
       "      <th>2</th>\n",
       "      <td>2023-08-07</td>\n",
       "      <td>38</td>\n",
       "      <td>474.000000</td>\n",
       "      <td>1.000000</td>\n",
       "      <td>2.622473</td>\n",
       "      <td>0</td>\n",
       "    </tr>\n",
       "    <tr>\n",
       "      <th>3</th>\n",
       "      <td>2023-08-07</td>\n",
       "      <td>39</td>\n",
       "      <td>470.000000</td>\n",
       "      <td>0.000000</td>\n",
       "      <td>2.608548</td>\n",
       "      <td>0</td>\n",
       "    </tr>\n",
       "    <tr>\n",
       "      <th>4</th>\n",
       "      <td>2023-08-07</td>\n",
       "      <td>40</td>\n",
       "      <td>448.000000</td>\n",
       "      <td>2.000000</td>\n",
       "      <td>2.482368</td>\n",
       "      <td>0</td>\n",
       "    </tr>\n",
       "    <tr>\n",
       "      <th>...</th>\n",
       "      <td>...</td>\n",
       "      <td>...</td>\n",
       "      <td>...</td>\n",
       "      <td>...</td>\n",
       "      <td>...</td>\n",
       "      <td>...</td>\n",
       "    </tr>\n",
       "    <tr>\n",
       "      <th>2225</th>\n",
       "      <td>2023-10-13</td>\n",
       "      <td>68</td>\n",
       "      <td>8226.451582</td>\n",
       "      <td>27.999464</td>\n",
       "      <td>95.045714</td>\n",
       "      <td>0</td>\n",
       "    </tr>\n",
       "    <tr>\n",
       "      <th>2226</th>\n",
       "      <td>2023-10-13</td>\n",
       "      <td>69</td>\n",
       "      <td>9725.995712</td>\n",
       "      <td>41.000000</td>\n",
       "      <td>124.012406</td>\n",
       "      <td>0</td>\n",
       "    </tr>\n",
       "    <tr>\n",
       "      <th>2227</th>\n",
       "      <td>2023-10-13</td>\n",
       "      <td>70</td>\n",
       "      <td>6464.460288</td>\n",
       "      <td>29.999541</td>\n",
       "      <td>77.446343</td>\n",
       "      <td>0</td>\n",
       "    </tr>\n",
       "    <tr>\n",
       "      <th>2228</th>\n",
       "      <td>2023-10-13</td>\n",
       "      <td>71</td>\n",
       "      <td>8056.577341</td>\n",
       "      <td>24.999387</td>\n",
       "      <td>100.108644</td>\n",
       "      <td>0</td>\n",
       "    </tr>\n",
       "    <tr>\n",
       "      <th>2229</th>\n",
       "      <td>2023-10-13</td>\n",
       "      <td>72</td>\n",
       "      <td>11056.444221</td>\n",
       "      <td>45.998928</td>\n",
       "      <td>136.424456</td>\n",
       "      <td>0</td>\n",
       "    </tr>\n",
       "  </tbody>\n",
       "</table>\n",
       "<p>2230 rows × 6 columns</p>\n",
       "</div>"
      ],
      "text/plain": [
       "           date innovid_version_id   impressions     clicks       spend  \\\n",
       "0    2023-08-07                  0   2713.000000   7.000000   22.205064   \n",
       "1    2023-08-07                 37    492.000000   0.000000    2.729212   \n",
       "2    2023-08-07                 38    474.000000   1.000000    2.622473   \n",
       "3    2023-08-07                 39    470.000000   0.000000    2.608548   \n",
       "4    2023-08-07                 40    448.000000   2.000000    2.482368   \n",
       "...         ...                ...           ...        ...         ...   \n",
       "2225 2023-10-13                 68   8226.451582  27.999464   95.045714   \n",
       "2226 2023-10-13                 69   9725.995712  41.000000  124.012406   \n",
       "2227 2023-10-13                 70   6464.460288  29.999541   77.446343   \n",
       "2228 2023-10-13                 71   8056.577341  24.999387  100.108644   \n",
       "2229 2023-10-13                 72  11056.444221  45.998928  136.424456   \n",
       "\n",
       "      3._lead:_total_conversions  \n",
       "0                              0  \n",
       "1                              0  \n",
       "2                              0  \n",
       "3                              0  \n",
       "4                              0  \n",
       "...                          ...  \n",
       "2225                           0  \n",
       "2226                           0  \n",
       "2227                           0  \n",
       "2228                           0  \n",
       "2229                           0  \n",
       "\n",
       "[2230 rows x 6 columns]"
      ]
     },
     "execution_count": 35,
     "metadata": {},
     "output_type": "execute_result"
    }
   ],
   "source": [
    "in_market_version = in_market.groupby(['date', 'innovid_version_id'])[['impressions', 'clicks', 'spend', '3._lead:_total_conversions']].sum().reset_index()\n",
    "in_market_version['innovid_version_id'] = in_market_version['innovid_version_id'].astype('str')\n",
    "in_market_version"
   ]
  },
  {
   "cell_type": "code",
   "execution_count": 36,
   "id": "d8e3c38c",
   "metadata": {},
   "outputs": [],
   "source": [
    "#create calculated fields for KPIs of interest\n",
    "in_market_version['ctr'] = in_market_version['clicks'] / in_market_version['impressions']\n",
    "in_market_version['cvr'] = in_market_version['3._lead:_total_conversions'] / in_market_version['clicks']\n",
    "in_market_version['cpl'] = in_market_version['spend'] / in_market_version['3._lead:_total_conversions']\n",
    "\n",
    "#replace Inf and NaN values with 0\n",
    "for i in in_market_version.columns:\n",
    "    in_market_version[i] = in_market_version[i].replace([np.inf, -np.inf], 0)\n",
    "    in_market_version[i] = in_market_version[i].replace(np.nan, 0)"
   ]
  },
  {
   "cell_type": "code",
   "execution_count": 37,
   "id": "ea298ca1",
   "metadata": {},
   "outputs": [
    {
     "data": {
      "text/html": [
       "<div>\n",
       "<style scoped>\n",
       "    .dataframe tbody tr th:only-of-type {\n",
       "        vertical-align: middle;\n",
       "    }\n",
       "\n",
       "    .dataframe tbody tr th {\n",
       "        vertical-align: top;\n",
       "    }\n",
       "\n",
       "    .dataframe thead th {\n",
       "        text-align: right;\n",
       "    }\n",
       "</style>\n",
       "<table border=\"1\" class=\"dataframe\">\n",
       "  <thead>\n",
       "    <tr style=\"text-align: right;\">\n",
       "      <th></th>\n",
       "      <th>count</th>\n",
       "      <th>mean</th>\n",
       "      <th>std</th>\n",
       "      <th>min</th>\n",
       "      <th>25%</th>\n",
       "      <th>50%</th>\n",
       "      <th>75%</th>\n",
       "      <th>max</th>\n",
       "    </tr>\n",
       "  </thead>\n",
       "  <tbody>\n",
       "    <tr>\n",
       "      <th>impressions</th>\n",
       "      <td>2230.0</td>\n",
       "      <td>5999.483355</td>\n",
       "      <td>5811.425436</td>\n",
       "      <td>0.0</td>\n",
       "      <td>3753.878559</td>\n",
       "      <td>4855.389163</td>\n",
       "      <td>6240.226052</td>\n",
       "      <td>57540.000000</td>\n",
       "    </tr>\n",
       "    <tr>\n",
       "      <th>clicks</th>\n",
       "      <td>2230.0</td>\n",
       "      <td>20.079836</td>\n",
       "      <td>18.170256</td>\n",
       "      <td>0.0</td>\n",
       "      <td>10.999923</td>\n",
       "      <td>15.999694</td>\n",
       "      <td>22.999847</td>\n",
       "      <td>190.000000</td>\n",
       "    </tr>\n",
       "    <tr>\n",
       "      <th>spend</th>\n",
       "      <td>2230.0</td>\n",
       "      <td>56.165772</td>\n",
       "      <td>53.687420</td>\n",
       "      <td>0.0</td>\n",
       "      <td>33.628258</td>\n",
       "      <td>44.057644</td>\n",
       "      <td>61.825014</td>\n",
       "      <td>598.883408</td>\n",
       "    </tr>\n",
       "    <tr>\n",
       "      <th>3._lead:_total_conversions</th>\n",
       "      <td>2230.0</td>\n",
       "      <td>0.136771</td>\n",
       "      <td>0.493695</td>\n",
       "      <td>0.0</td>\n",
       "      <td>0.000000</td>\n",
       "      <td>0.000000</td>\n",
       "      <td>0.000000</td>\n",
       "      <td>7.000000</td>\n",
       "    </tr>\n",
       "    <tr>\n",
       "      <th>ctr</th>\n",
       "      <td>2230.0</td>\n",
       "      <td>0.003419</td>\n",
       "      <td>0.001275</td>\n",
       "      <td>0.0</td>\n",
       "      <td>0.002602</td>\n",
       "      <td>0.003353</td>\n",
       "      <td>0.004183</td>\n",
       "      <td>0.012579</td>\n",
       "    </tr>\n",
       "    <tr>\n",
       "      <th>cvr</th>\n",
       "      <td>2230.0</td>\n",
       "      <td>0.007159</td>\n",
       "      <td>0.031958</td>\n",
       "      <td>0.0</td>\n",
       "      <td>0.000000</td>\n",
       "      <td>0.000000</td>\n",
       "      <td>0.000000</td>\n",
       "      <td>0.750000</td>\n",
       "    </tr>\n",
       "    <tr>\n",
       "      <th>cpl</th>\n",
       "      <td>2230.0</td>\n",
       "      <td>7.071941</td>\n",
       "      <td>34.243157</td>\n",
       "      <td>0.0</td>\n",
       "      <td>0.000000</td>\n",
       "      <td>0.000000</td>\n",
       "      <td>0.000000</td>\n",
       "      <td>598.883408</td>\n",
       "    </tr>\n",
       "  </tbody>\n",
       "</table>\n",
       "</div>"
      ],
      "text/plain": [
       "                             count         mean          std  min  \\\n",
       "impressions                 2230.0  5999.483355  5811.425436  0.0   \n",
       "clicks                      2230.0    20.079836    18.170256  0.0   \n",
       "spend                       2230.0    56.165772    53.687420  0.0   \n",
       "3._lead:_total_conversions  2230.0     0.136771     0.493695  0.0   \n",
       "ctr                         2230.0     0.003419     0.001275  0.0   \n",
       "cvr                         2230.0     0.007159     0.031958  0.0   \n",
       "cpl                         2230.0     7.071941    34.243157  0.0   \n",
       "\n",
       "                                    25%          50%          75%  \\\n",
       "impressions                 3753.878559  4855.389163  6240.226052   \n",
       "clicks                        10.999923    15.999694    22.999847   \n",
       "spend                         33.628258    44.057644    61.825014   \n",
       "3._lead:_total_conversions     0.000000     0.000000     0.000000   \n",
       "ctr                            0.002602     0.003353     0.004183   \n",
       "cvr                            0.000000     0.000000     0.000000   \n",
       "cpl                            0.000000     0.000000     0.000000   \n",
       "\n",
       "                                     max  \n",
       "impressions                 57540.000000  \n",
       "clicks                        190.000000  \n",
       "spend                         598.883408  \n",
       "3._lead:_total_conversions      7.000000  \n",
       "ctr                             0.012579  \n",
       "cvr                             0.750000  \n",
       "cpl                           598.883408  "
      ]
     },
     "execution_count": 37,
     "metadata": {},
     "output_type": "execute_result"
    }
   ],
   "source": [
    "#summary stats\n",
    "in_market_version.describe().transpose()"
   ]
  },
  {
   "cell_type": "code",
   "execution_count": 38,
   "id": "6aa80db3",
   "metadata": {},
   "outputs": [
    {
     "data": {
      "text/plain": [
       "KruskalResult(statistic=47.21171376893767, pvalue=1.3776697043578408e-09)"
      ]
     },
     "execution_count": 38,
     "metadata": {},
     "output_type": "execute_result"
    }
   ],
   "source": [
    "in_market_versioncontrol_cpl = in_market_version['cpl'][in_market_version['innovid_version_id'] == '0']\n",
    "in_market_version37_cpl = in_market_version['cpl'][in_market_version['innovid_version_id'] == '37']\n",
    "in_market_version38_cpl = in_market_version['cpl'][in_market_version['innovid_version_id'] == '38']\n",
    "in_market_version39_cpl = in_market_version['cpl'][in_market_version['innovid_version_id'] == '39']\n",
    "in_market_version40_cpl = in_market_version['cpl'][in_market_version['innovid_version_id'] == '40']\n",
    "in_market_version41_cpl = in_market_version['cpl'][in_market_version['innovid_version_id'] == '41']\n",
    "in_market_version42_cpl = in_market_version['cpl'][in_market_version['innovid_version_id'] == '42']\n",
    "in_market_version43_cpl = in_market_version['cpl'][in_market_version['innovid_version_id'] == '43']\n",
    "in_market_version44_cpl = in_market_version['cpl'][in_market_version['innovid_version_id'] == '44']\n",
    "in_market_version45_cpl = in_market_version['cpl'][in_market_version['innovid_version_id'] == '45']\n",
    "in_market_version46_cpl = in_market_version['cpl'][in_market_version['innovid_version_id'] == '46']\n",
    "in_market_version47_cpl = in_market_version['cpl'][in_market_version['innovid_version_id'] == '47']\n",
    "in_market_version48_cpl = in_market_version['cpl'][in_market_version['innovid_version_id'] == '48']\n",
    "in_market_version49_cpl = in_market_version['cpl'][in_market_version['innovid_version_id'] == '49']\n",
    "in_market_version50_cpl = in_market_version['cpl'][in_market_version['innovid_version_id'] == '50']\n",
    "in_market_version51_cpl = in_market_version['cpl'][in_market_version['innovid_version_id'] == '51']\n",
    "in_market_version52_cpl = in_market_version['cpl'][in_market_version['innovid_version_id'] == '52']\n",
    "in_market_version53_cpl = in_market_version['cpl'][in_market_version['innovid_version_id'] == '53']\n",
    "in_market_version54_cpl = in_market_version['cpl'][in_market_version['innovid_version_id'] == '54']\n",
    "in_market_version55_cpl = in_market_version['cpl'][in_market_version['innovid_version_id'] == '55']\n",
    "in_market_version56_cpl = in_market_version['cpl'][in_market_version['innovid_version_id'] == '56']\n",
    "in_market_version57_cpl = in_market_version['cpl'][in_market_version['innovid_version_id'] == '57']\n",
    "in_market_version58_cpl = in_market_version['cpl'][in_market_version['innovid_version_id'] == '58']\n",
    "in_market_version59_cpl = in_market_version['cpl'][in_market_version['innovid_version_id'] == '59']\n",
    "in_market_version60_cpl = in_market_version['cpl'][in_market_version['innovid_version_id'] == '60']\n",
    "in_market_version61_cpl = in_market_version['cpl'][in_market_version['innovid_version_id'] == '61']\n",
    "in_market_version62_cpl = in_market_version['cpl'][in_market_version['innovid_version_id'] == '62']\n",
    "in_market_version63_cpl = in_market_version['cpl'][in_market_version['innovid_version_id'] == '63']\n",
    "in_market_version64_cpl = in_market_version['cpl'][in_market_version['innovid_version_id'] == '64']\n",
    "in_market_version65_cpl = in_market_version['cpl'][in_market_version['innovid_version_id'] == '65']\n",
    "in_market_version66_cpl = in_market_version['cpl'][in_market_version['innovid_version_id'] == '66']\n",
    "in_market_version67_cpl = in_market_version['cpl'][in_market_version['innovid_version_id'] == '67']\n",
    "in_market_version68_cpl = in_market_version['cpl'][in_market_version['innovid_version_id'] == '68']\n",
    "in_market_version69_cpl = in_market_version['cpl'][in_market_version['innovid_version_id'] == '69']\n",
    "in_market_version70_cpl = in_market_version['cpl'][in_market_version['innovid_version_id'] == '70']\n",
    "in_market_version71_cpl = in_market_version['cpl'][in_market_version['innovid_version_id'] == '71']\n",
    "in_market_version72_cpl = in_market_version['cpl'][in_market_version['innovid_version_id'] == '72']\n",
    "\n",
    "#Kruskal Wallis for cpl - stat sig\n",
    "stats.kruskal(in_market_versioncontrol_cpl, in_market_version42_cpl, in_market_version52_cpl, in_market_version37_cpl, in_market_version69_cpl)"
   ]
  },
  {
   "cell_type": "code",
   "execution_count": 42,
   "id": "f924398e",
   "metadata": {},
   "outputs": [
    {
     "data": {
      "text/html": [
       "<div>\n",
       "<style scoped>\n",
       "    .dataframe tbody tr th:only-of-type {\n",
       "        vertical-align: middle;\n",
       "    }\n",
       "\n",
       "    .dataframe tbody tr th {\n",
       "        vertical-align: top;\n",
       "    }\n",
       "\n",
       "    .dataframe thead th {\n",
       "        text-align: right;\n",
       "    }\n",
       "</style>\n",
       "<table border=\"1\" class=\"dataframe\">\n",
       "  <thead>\n",
       "    <tr style=\"text-align: right;\">\n",
       "      <th></th>\n",
       "      <th>date</th>\n",
       "      <th>innovid_version_id</th>\n",
       "      <th>impressions</th>\n",
       "      <th>clicks</th>\n",
       "      <th>spend</th>\n",
       "      <th>3._lead:_total_conversions</th>\n",
       "      <th>ctr</th>\n",
       "      <th>cvr</th>\n",
       "      <th>cpl</th>\n",
       "    </tr>\n",
       "  </thead>\n",
       "  <tbody>\n",
       "    <tr>\n",
       "      <th>0</th>\n",
       "      <td>2023-08-07</td>\n",
       "      <td>0</td>\n",
       "      <td>2713.000000</td>\n",
       "      <td>7.000000</td>\n",
       "      <td>22.205064</td>\n",
       "      <td>0</td>\n",
       "      <td>0.002580</td>\n",
       "      <td>0.000000</td>\n",
       "      <td>0.00000</td>\n",
       "    </tr>\n",
       "    <tr>\n",
       "      <th>1</th>\n",
       "      <td>2023-08-07</td>\n",
       "      <td>37</td>\n",
       "      <td>492.000000</td>\n",
       "      <td>0.000000</td>\n",
       "      <td>2.729212</td>\n",
       "      <td>0</td>\n",
       "      <td>0.000000</td>\n",
       "      <td>0.000000</td>\n",
       "      <td>0.00000</td>\n",
       "    </tr>\n",
       "    <tr>\n",
       "      <th>6</th>\n",
       "      <td>2023-08-07</td>\n",
       "      <td>42</td>\n",
       "      <td>483.000000</td>\n",
       "      <td>1.000000</td>\n",
       "      <td>2.681314</td>\n",
       "      <td>0</td>\n",
       "      <td>0.002070</td>\n",
       "      <td>0.000000</td>\n",
       "      <td>0.00000</td>\n",
       "    </tr>\n",
       "    <tr>\n",
       "      <th>16</th>\n",
       "      <td>2023-08-07</td>\n",
       "      <td>52</td>\n",
       "      <td>430.000000</td>\n",
       "      <td>0.000000</td>\n",
       "      <td>2.396774</td>\n",
       "      <td>0</td>\n",
       "      <td>0.000000</td>\n",
       "      <td>0.000000</td>\n",
       "      <td>0.00000</td>\n",
       "    </tr>\n",
       "    <tr>\n",
       "      <th>33</th>\n",
       "      <td>2023-08-07</td>\n",
       "      <td>69</td>\n",
       "      <td>462.000000</td>\n",
       "      <td>1.000000</td>\n",
       "      <td>2.563096</td>\n",
       "      <td>0</td>\n",
       "      <td>0.002165</td>\n",
       "      <td>0.000000</td>\n",
       "      <td>0.00000</td>\n",
       "    </tr>\n",
       "    <tr>\n",
       "      <th>...</th>\n",
       "      <td>...</td>\n",
       "      <td>...</td>\n",
       "      <td>...</td>\n",
       "      <td>...</td>\n",
       "      <td>...</td>\n",
       "      <td>...</td>\n",
       "      <td>...</td>\n",
       "      <td>...</td>\n",
       "      <td>...</td>\n",
       "    </tr>\n",
       "    <tr>\n",
       "      <th>2193</th>\n",
       "      <td>2023-10-13</td>\n",
       "      <td>0</td>\n",
       "      <td>32971.000000</td>\n",
       "      <td>71.000000</td>\n",
       "      <td>299.365838</td>\n",
       "      <td>0</td>\n",
       "      <td>0.002153</td>\n",
       "      <td>0.000000</td>\n",
       "      <td>0.00000</td>\n",
       "    </tr>\n",
       "    <tr>\n",
       "      <th>2194</th>\n",
       "      <td>2023-10-13</td>\n",
       "      <td>37</td>\n",
       "      <td>9645.996577</td>\n",
       "      <td>40.000000</td>\n",
       "      <td>115.585880</td>\n",
       "      <td>0</td>\n",
       "      <td>0.004147</td>\n",
       "      <td>0.000000</td>\n",
       "      <td>0.00000</td>\n",
       "    </tr>\n",
       "    <tr>\n",
       "      <th>2199</th>\n",
       "      <td>2023-10-13</td>\n",
       "      <td>42</td>\n",
       "      <td>9799.632175</td>\n",
       "      <td>44.999005</td>\n",
       "      <td>117.486436</td>\n",
       "      <td>0</td>\n",
       "      <td>0.004592</td>\n",
       "      <td>0.000000</td>\n",
       "      <td>0.00000</td>\n",
       "    </tr>\n",
       "    <tr>\n",
       "      <th>2209</th>\n",
       "      <td>2023-10-13</td>\n",
       "      <td>52</td>\n",
       "      <td>6589.702475</td>\n",
       "      <td>25.999234</td>\n",
       "      <td>79.323210</td>\n",
       "      <td>1</td>\n",
       "      <td>0.003945</td>\n",
       "      <td>0.038463</td>\n",
       "      <td>79.32321</td>\n",
       "    </tr>\n",
       "    <tr>\n",
       "      <th>2226</th>\n",
       "      <td>2023-10-13</td>\n",
       "      <td>69</td>\n",
       "      <td>9725.995712</td>\n",
       "      <td>41.000000</td>\n",
       "      <td>124.012406</td>\n",
       "      <td>0</td>\n",
       "      <td>0.004216</td>\n",
       "      <td>0.000000</td>\n",
       "      <td>0.00000</td>\n",
       "    </tr>\n",
       "  </tbody>\n",
       "</table>\n",
       "<p>303 rows × 9 columns</p>\n",
       "</div>"
      ],
      "text/plain": [
       "           date innovid_version_id   impressions     clicks       spend  \\\n",
       "0    2023-08-07                  0   2713.000000   7.000000   22.205064   \n",
       "1    2023-08-07                 37    492.000000   0.000000    2.729212   \n",
       "6    2023-08-07                 42    483.000000   1.000000    2.681314   \n",
       "16   2023-08-07                 52    430.000000   0.000000    2.396774   \n",
       "33   2023-08-07                 69    462.000000   1.000000    2.563096   \n",
       "...         ...                ...           ...        ...         ...   \n",
       "2193 2023-10-13                  0  32971.000000  71.000000  299.365838   \n",
       "2194 2023-10-13                 37   9645.996577  40.000000  115.585880   \n",
       "2199 2023-10-13                 42   9799.632175  44.999005  117.486436   \n",
       "2209 2023-10-13                 52   6589.702475  25.999234   79.323210   \n",
       "2226 2023-10-13                 69   9725.995712  41.000000  124.012406   \n",
       "\n",
       "      3._lead:_total_conversions       ctr       cvr       cpl  \n",
       "0                              0  0.002580  0.000000   0.00000  \n",
       "1                              0  0.000000  0.000000   0.00000  \n",
       "6                              0  0.002070  0.000000   0.00000  \n",
       "16                             0  0.000000  0.000000   0.00000  \n",
       "33                             0  0.002165  0.000000   0.00000  \n",
       "...                          ...       ...       ...       ...  \n",
       "2193                           0  0.002153  0.000000   0.00000  \n",
       "2194                           0  0.004147  0.000000   0.00000  \n",
       "2199                           0  0.004592  0.000000   0.00000  \n",
       "2209                           1  0.003945  0.038463  79.32321  \n",
       "2226                           0  0.004216  0.000000   0.00000  \n",
       "\n",
       "[303 rows x 9 columns]"
      ]
     },
     "execution_count": 42,
     "metadata": {},
     "output_type": "execute_result"
    }
   ],
   "source": [
    "#create smaller subset of data\n",
    "in_market_version_slim = in_market_version.loc[(in_market_version['innovid_version_id'] == '0') | (in_market_version['innovid_version_id'] == '42') |\n",
    "                                              (in_market_version['innovid_version_id'] == '52') | (in_market_version['innovid_version_id'] == '37') |\n",
    "                                              (in_market_version['innovid_version_id'] == '69')]\n",
    "in_market_version_slim"
   ]
  },
  {
   "cell_type": "code",
   "execution_count": 44,
   "id": "5cfdac26",
   "metadata": {},
   "outputs": [
    {
     "name": "stdout",
     "output_type": "stream",
     "text": [
      "               0            37        42            52        69\n",
      "0   1.000000e+00  2.848648e-08  0.000005  4.308552e-07  0.000013\n",
      "37  2.848648e-08  1.000000e+00  1.000000  1.000000e+00  1.000000\n",
      "42  4.544656e-06  1.000000e+00  1.000000  1.000000e+00  1.000000\n",
      "52  4.308552e-07  1.000000e+00  1.000000  1.000000e+00  1.000000\n",
      "69  1.270988e-05  1.000000e+00  1.000000  1.000000e+00  1.000000\n"
     ]
    }
   ],
   "source": [
    "#post hoc Dunn's test on CPL\n",
    "dunn_result = posthoc_dunn(in_market_version_slim, group_col='innovid_version_id', val_col='cpl', p_adjust='bonferroni')\n",
    "print(dunn_result)"
   ]
  },
  {
   "cell_type": "code",
   "execution_count": 46,
   "id": "ca11bc32",
   "metadata": {},
   "outputs": [
    {
     "data": {
      "text/plain": [
       "LeveneResult(statistic=1.0229885398285203, pvalue=0.43148591776671896)"
      ]
     },
     "execution_count": 46,
     "metadata": {},
     "output_type": "execute_result"
    }
   ],
   "source": [
    "#levene test of ctr - parametric\n",
    "stats.levene(in_market_version['ctr'][in_market_version['innovid_version_id'] == '0'],\n",
    "in_market_version['ctr'][in_market_version['innovid_version_id'] == '37'],\n",
    "in_market_version['ctr'][in_market_version['innovid_version_id'] == '38'],\n",
    "in_market_version['ctr'][in_market_version['innovid_version_id'] == '39'],\n",
    "in_market_version['ctr'][in_market_version['innovid_version_id'] == '40'],\n",
    "in_market_version['ctr'][in_market_version['innovid_version_id'] == '41'],\n",
    "in_market_version['ctr'][in_market_version['innovid_version_id'] == '42'],\n",
    "in_market_version['ctr'][in_market_version['innovid_version_id'] == '43'],\n",
    "in_market_version['ctr'][in_market_version['innovid_version_id'] == '44'],\n",
    "in_market_version['ctr'][in_market_version['innovid_version_id'] == '45'],\n",
    "in_market_version['ctr'][in_market_version['innovid_version_id'] == '46'],\n",
    "in_market_version['ctr'][in_market_version['innovid_version_id'] == '47'],\n",
    "in_market_version['ctr'][in_market_version['innovid_version_id'] == '48'],\n",
    "in_market_version['ctr'][in_market_version['innovid_version_id'] == '49'],\n",
    "in_market_version['ctr'][in_market_version['innovid_version_id'] == '50'],\n",
    "in_market_version['ctr'][in_market_version['innovid_version_id'] == '51'],\n",
    "in_market_version['ctr'][in_market_version['innovid_version_id'] == '52'],\n",
    "in_market_version['ctr'][in_market_version['innovid_version_id'] == '53'],\n",
    "in_market_version['ctr'][in_market_version['innovid_version_id'] == '54'],\n",
    "in_market_version['ctr'][in_market_version['innovid_version_id'] == '55'],\n",
    "in_market_version['ctr'][in_market_version['innovid_version_id'] == '56'],\n",
    "in_market_version['ctr'][in_market_version['innovid_version_id'] == '57'],\n",
    "in_market_version['ctr'][in_market_version['innovid_version_id'] == '58'],\n",
    "in_market_version['ctr'][in_market_version['innovid_version_id'] == '59'],\n",
    "in_market_version['ctr'][in_market_version['innovid_version_id'] == '60'],\n",
    "in_market_version['ctr'][in_market_version['innovid_version_id'] == '61'],\n",
    "in_market_version['ctr'][in_market_version['innovid_version_id'] == '62'],\n",
    "in_market_version['ctr'][in_market_version['innovid_version_id'] == '63'],\n",
    "in_market_version['ctr'][in_market_version['innovid_version_id'] == '64'],\n",
    "in_market_version['ctr'][in_market_version['innovid_version_id'] == '65'],\n",
    "in_market_version['ctr'][in_market_version['innovid_version_id'] == '66'],\n",
    "in_market_version['ctr'][in_market_version['innovid_version_id'] == '67'],\n",
    "in_market_version['ctr'][in_market_version['innovid_version_id'] == '68'],\n",
    "in_market_version['ctr'][in_market_version['innovid_version_id'] == '69'],\n",
    "in_market_version['ctr'][in_market_version['innovid_version_id'] == '70'],\n",
    "in_market_version['ctr'][in_market_version['innovid_version_id'] == '71'],\n",
    "in_market_version['ctr'][in_market_version['innovid_version_id'] == '72'])"
   ]
  },
  {
   "cell_type": "code",
   "execution_count": 50,
   "id": "ff8e3e42",
   "metadata": {},
   "outputs": [
    {
     "data": {
      "text/plain": [
       "<Axes: xlabel='Theoretical quantiles', ylabel='Ordered quantiles'>"
      ]
     },
     "execution_count": 50,
     "metadata": {},
     "output_type": "execute_result"
    },
    {
     "data": {
      "image/png": "[encoded data removed]",
      "text/plain": [
       "<Figure size 1500x700 with 1 Axes>"
      ]
     },
     "metadata": {},
     "output_type": "display_data"
    }
   ],
   "source": [
    "#check ANCOVA assumptions for clicks - residuals between the DV and covariate need to be somewhat normally distributed\n",
    "#we can do ANCOVA here\n",
    "ols_model = sm.OLS(in_market_version['clicks'], in_market_version[['spend', 'impressions']]).fit()\n",
    "residual_values = ols_model.resid\n",
    "pg.qqplot(residual_values, dist='norm')"
   ]
  },
  {
   "cell_type": "code",
   "execution_count": 52,
   "id": "074773fd",
   "metadata": {},
   "outputs": [
    {
     "data": {
      "text/html": [
       "<div>\n",
       "<style scoped>\n",
       "    .dataframe tbody tr th:only-of-type {\n",
       "        vertical-align: middle;\n",
       "    }\n",
       "\n",
       "    .dataframe tbody tr th {\n",
       "        vertical-align: top;\n",
       "    }\n",
       "\n",
       "    .dataframe thead th {\n",
       "        text-align: right;\n",
       "    }\n",
       "</style>\n",
       "<table border=\"1\" class=\"dataframe\">\n",
       "  <thead>\n",
       "    <tr style=\"text-align: right;\">\n",
       "      <th></th>\n",
       "      <th>Source</th>\n",
       "      <th>SS</th>\n",
       "      <th>DF</th>\n",
       "      <th>F</th>\n",
       "      <th>p-unc</th>\n",
       "      <th>np2</th>\n",
       "    </tr>\n",
       "  </thead>\n",
       "  <tbody>\n",
       "    <tr>\n",
       "      <th>0</th>\n",
       "      <td>innovid_version_id</td>\n",
       "      <td>5171.814212</td>\n",
       "      <td>36</td>\n",
       "      <td>3.788960</td>\n",
       "      <td>4.221920e-13</td>\n",
       "      <td>0.058607</td>\n",
       "    </tr>\n",
       "    <tr>\n",
       "      <th>1</th>\n",
       "      <td>spend</td>\n",
       "      <td>58535.887271</td>\n",
       "      <td>1</td>\n",
       "      <td>1543.838217</td>\n",
       "      <td>4.710835e-256</td>\n",
       "      <td>0.413361</td>\n",
       "    </tr>\n",
       "    <tr>\n",
       "      <th>2</th>\n",
       "      <td>impressions</td>\n",
       "      <td>83.214617</td>\n",
       "      <td>1</td>\n",
       "      <td>2.194720</td>\n",
       "      <td>1.386281e-01</td>\n",
       "      <td>0.001001</td>\n",
       "    </tr>\n",
       "    <tr>\n",
       "      <th>3</th>\n",
       "      <td>Residual</td>\n",
       "      <td>83073.554995</td>\n",
       "      <td>2191</td>\n",
       "      <td>NaN</td>\n",
       "      <td>NaN</td>\n",
       "      <td>NaN</td>\n",
       "    </tr>\n",
       "  </tbody>\n",
       "</table>\n",
       "</div>"
      ],
      "text/plain": [
       "               Source            SS    DF            F          p-unc  \\\n",
       "0  innovid_version_id   5171.814212    36     3.788960   4.221920e-13   \n",
       "1               spend  58535.887271     1  1543.838217  4.710835e-256   \n",
       "2         impressions     83.214617     1     2.194720   1.386281e-01   \n",
       "3            Residual  83073.554995  2191          NaN            NaN   \n",
       "\n",
       "        np2  \n",
       "0  0.058607  \n",
       "1  0.413361  \n",
       "2  0.001001  \n",
       "3       NaN  "
      ]
     },
     "execution_count": 52,
     "metadata": {},
     "output_type": "execute_result"
    }
   ],
   "source": [
    "#ANCOVA for clicks - findings are stat sig\n",
    "ancova(data=in_market_version, dv='clicks', covar=['spend', 'impressions'], between='innovid_version_id')"
   ]
  },
  {
   "cell_type": "code",
   "execution_count": 53,
   "id": "d6e3b08f",
   "metadata": {},
   "outputs": [],
   "source": [
    "#import data to R to conduct Dunnett's test on ANCOVA model\n",
    "in_market_version.to_csv(\"In Market Version Data.csv\", index=False)"
   ]
  },
  {
   "cell_type": "markdown",
   "id": "c09bc3b0",
   "metadata": {},
   "source": [
    "# Online Shoppers Performance By Group"
   ]
  },
  {
   "cell_type": "code",
   "execution_count": 19,
   "id": "eedadf90",
   "metadata": {},
   "outputs": [
    {
     "data": {
      "text/html": [
       "<div>\n",
       "<style scoped>\n",
       "    .dataframe tbody tr th:only-of-type {\n",
       "        vertical-align: middle;\n",
       "    }\n",
       "\n",
       "    .dataframe tbody tr th {\n",
       "        vertical-align: top;\n",
       "    }\n",
       "\n",
       "    .dataframe thead th {\n",
       "        text-align: right;\n",
       "    }\n",
       "</style>\n",
       "<table border=\"1\" class=\"dataframe\">\n",
       "  <thead>\n",
       "    <tr style=\"text-align: right;\">\n",
       "      <th></th>\n",
       "      <th>date</th>\n",
       "      <th>group</th>\n",
       "      <th>impressions</th>\n",
       "      <th>clicks</th>\n",
       "      <th>spend</th>\n",
       "      <th>3._lead:_total_conversions</th>\n",
       "    </tr>\n",
       "  </thead>\n",
       "  <tbody>\n",
       "    <tr>\n",
       "      <th>0</th>\n",
       "      <td>2023-08-07</td>\n",
       "      <td>Control</td>\n",
       "      <td>5967.000000</td>\n",
       "      <td>28.000000</td>\n",
       "      <td>65.630003</td>\n",
       "      <td>0</td>\n",
       "    </tr>\n",
       "    <tr>\n",
       "      <th>1</th>\n",
       "      <td>2023-08-07</td>\n",
       "      <td>DCO</td>\n",
       "      <td>671.000000</td>\n",
       "      <td>2.000000</td>\n",
       "      <td>6.023355</td>\n",
       "      <td>0</td>\n",
       "    </tr>\n",
       "    <tr>\n",
       "      <th>2</th>\n",
       "      <td>2023-08-08</td>\n",
       "      <td>Control</td>\n",
       "      <td>33074.000000</td>\n",
       "      <td>142.000000</td>\n",
       "      <td>379.751277</td>\n",
       "      <td>0</td>\n",
       "    </tr>\n",
       "    <tr>\n",
       "      <th>3</th>\n",
       "      <td>2023-08-08</td>\n",
       "      <td>DCO</td>\n",
       "      <td>36668.945050</td>\n",
       "      <td>227.884135</td>\n",
       "      <td>566.270796</td>\n",
       "      <td>0</td>\n",
       "    </tr>\n",
       "    <tr>\n",
       "      <th>4</th>\n",
       "      <td>2023-08-09</td>\n",
       "      <td>Control</td>\n",
       "      <td>43897.000000</td>\n",
       "      <td>181.000000</td>\n",
       "      <td>376.164823</td>\n",
       "      <td>1</td>\n",
       "    </tr>\n",
       "    <tr>\n",
       "      <th>...</th>\n",
       "      <td>...</td>\n",
       "      <td>...</td>\n",
       "      <td>...</td>\n",
       "      <td>...</td>\n",
       "      <td>...</td>\n",
       "      <td>...</td>\n",
       "    </tr>\n",
       "    <tr>\n",
       "      <th>123</th>\n",
       "      <td>2023-10-11</td>\n",
       "      <td>DCO</td>\n",
       "      <td>70752.663457</td>\n",
       "      <td>138.913542</td>\n",
       "      <td>616.840120</td>\n",
       "      <td>1</td>\n",
       "    </tr>\n",
       "    <tr>\n",
       "      <th>124</th>\n",
       "      <td>2023-10-12</td>\n",
       "      <td>Control</td>\n",
       "      <td>29177.000000</td>\n",
       "      <td>50.000000</td>\n",
       "      <td>273.913288</td>\n",
       "      <td>1</td>\n",
       "    </tr>\n",
       "    <tr>\n",
       "      <th>125</th>\n",
       "      <td>2023-10-12</td>\n",
       "      <td>DCO</td>\n",
       "      <td>104564.209806</td>\n",
       "      <td>184.962947</td>\n",
       "      <td>982.108553</td>\n",
       "      <td>1</td>\n",
       "    </tr>\n",
       "    <tr>\n",
       "      <th>126</th>\n",
       "      <td>2023-10-13</td>\n",
       "      <td>Control</td>\n",
       "      <td>28425.000000</td>\n",
       "      <td>65.000000</td>\n",
       "      <td>275.120464</td>\n",
       "      <td>0</td>\n",
       "    </tr>\n",
       "    <tr>\n",
       "      <th>127</th>\n",
       "      <td>2023-10-13</td>\n",
       "      <td>DCO</td>\n",
       "      <td>102911.802624</td>\n",
       "      <td>210.925893</td>\n",
       "      <td>993.325082</td>\n",
       "      <td>2</td>\n",
       "    </tr>\n",
       "  </tbody>\n",
       "</table>\n",
       "<p>128 rows × 6 columns</p>\n",
       "</div>"
      ],
      "text/plain": [
       "          date    group    impressions      clicks       spend  \\\n",
       "0   2023-08-07  Control    5967.000000   28.000000   65.630003   \n",
       "1   2023-08-07      DCO     671.000000    2.000000    6.023355   \n",
       "2   2023-08-08  Control   33074.000000  142.000000  379.751277   \n",
       "3   2023-08-08      DCO   36668.945050  227.884135  566.270796   \n",
       "4   2023-08-09  Control   43897.000000  181.000000  376.164823   \n",
       "..         ...      ...            ...         ...         ...   \n",
       "123 2023-10-11      DCO   70752.663457  138.913542  616.840120   \n",
       "124 2023-10-12  Control   29177.000000   50.000000  273.913288   \n",
       "125 2023-10-12      DCO  104564.209806  184.962947  982.108553   \n",
       "126 2023-10-13  Control   28425.000000   65.000000  275.120464   \n",
       "127 2023-10-13      DCO  102911.802624  210.925893  993.325082   \n",
       "\n",
       "     3._lead:_total_conversions  \n",
       "0                             0  \n",
       "1                             0  \n",
       "2                             0  \n",
       "3                             0  \n",
       "4                             1  \n",
       "..                          ...  \n",
       "123                           1  \n",
       "124                           1  \n",
       "125                           1  \n",
       "126                           0  \n",
       "127                           2  \n",
       "\n",
       "[128 rows x 6 columns]"
      ]
     },
     "execution_count": 19,
     "metadata": {},
     "output_type": "execute_result"
    }
   ],
   "source": [
    "#import data\n",
    "online_shoppers = pd.read_csv(\"Online Shoppers Wrap Up.csv\")\n",
    "online_shoppers.columns = online_shoppers.columns.str.replace(' ', '_')\n",
    "online_shoppers.columns = [x.lower() for x in online_shoppers.columns]\n",
    "\n",
    "#convert date object to datetime so we can slice\n",
    "online_shoppers['date'] = pd.to_datetime(online_shoppers['date'])\n",
    "\n",
    "#drop 08/13\n",
    "online_shoppers = online_shoppers[online_shoppers['date'] != '2023-08-13']\n",
    "\n",
    "online_shoppers_group = online_shoppers.groupby(['date','group'])[['impressions', 'clicks', 'spend', '3._lead:_total_conversions']].sum().reset_index()\n",
    "online_shoppers_group"
   ]
  },
  {
   "cell_type": "code",
   "execution_count": 20,
   "id": "9f4a52ca",
   "metadata": {},
   "outputs": [
    {
     "data": {
      "text/html": [
       "<div>\n",
       "<style scoped>\n",
       "    .dataframe tbody tr th:only-of-type {\n",
       "        vertical-align: middle;\n",
       "    }\n",
       "\n",
       "    .dataframe tbody tr th {\n",
       "        vertical-align: top;\n",
       "    }\n",
       "\n",
       "    .dataframe thead th {\n",
       "        text-align: right;\n",
       "    }\n",
       "</style>\n",
       "<table border=\"1\" class=\"dataframe\">\n",
       "  <thead>\n",
       "    <tr style=\"text-align: right;\">\n",
       "      <th></th>\n",
       "      <th>count</th>\n",
       "      <th>mean</th>\n",
       "      <th>std</th>\n",
       "      <th>min</th>\n",
       "      <th>25%</th>\n",
       "      <th>50%</th>\n",
       "      <th>75%</th>\n",
       "      <th>max</th>\n",
       "    </tr>\n",
       "  </thead>\n",
       "  <tbody>\n",
       "    <tr>\n",
       "      <th>impressions</th>\n",
       "      <td>128.0</td>\n",
       "      <td>59679.261971</td>\n",
       "      <td>33245.608308</td>\n",
       "      <td>0.0</td>\n",
       "      <td>32384.250000</td>\n",
       "      <td>56121.860695</td>\n",
       "      <td>91436.275567</td>\n",
       "      <td>125069.213448</td>\n",
       "    </tr>\n",
       "    <tr>\n",
       "      <th>clicks</th>\n",
       "      <td>128.0</td>\n",
       "      <td>178.281043</td>\n",
       "      <td>143.484182</td>\n",
       "      <td>0.0</td>\n",
       "      <td>54.750000</td>\n",
       "      <td>137.956771</td>\n",
       "      <td>291.500000</td>\n",
       "      <td>504.855168</td>\n",
       "    </tr>\n",
       "    <tr>\n",
       "      <th>spend</th>\n",
       "      <td>128.0</td>\n",
       "      <td>581.944614</td>\n",
       "      <td>432.388693</td>\n",
       "      <td>0.0</td>\n",
       "      <td>233.269907</td>\n",
       "      <td>451.016120</td>\n",
       "      <td>858.507572</td>\n",
       "      <td>2430.297472</td>\n",
       "    </tr>\n",
       "    <tr>\n",
       "      <th>3._lead:_total_conversions</th>\n",
       "      <td>128.0</td>\n",
       "      <td>1.289062</td>\n",
       "      <td>1.522288</td>\n",
       "      <td>0.0</td>\n",
       "      <td>0.000000</td>\n",
       "      <td>1.000000</td>\n",
       "      <td>2.000000</td>\n",
       "      <td>8.000000</td>\n",
       "    </tr>\n",
       "    <tr>\n",
       "      <th>ctr</th>\n",
       "      <td>128.0</td>\n",
       "      <td>0.002577</td>\n",
       "      <td>0.001453</td>\n",
       "      <td>0.0</td>\n",
       "      <td>0.001514</td>\n",
       "      <td>0.002138</td>\n",
       "      <td>0.003833</td>\n",
       "      <td>0.006215</td>\n",
       "    </tr>\n",
       "    <tr>\n",
       "      <th>cvr</th>\n",
       "      <td>128.0</td>\n",
       "      <td>0.014924</td>\n",
       "      <td>0.030174</td>\n",
       "      <td>0.0</td>\n",
       "      <td>0.000000</td>\n",
       "      <td>0.003072</td>\n",
       "      <td>0.014968</td>\n",
       "      <td>0.162162</td>\n",
       "    </tr>\n",
       "    <tr>\n",
       "      <th>cpl</th>\n",
       "      <td>128.0</td>\n",
       "      <td>265.639425</td>\n",
       "      <td>396.041179</td>\n",
       "      <td>0.0</td>\n",
       "      <td>0.000000</td>\n",
       "      <td>91.693582</td>\n",
       "      <td>375.010426</td>\n",
       "      <td>2430.297472</td>\n",
       "    </tr>\n",
       "  </tbody>\n",
       "</table>\n",
       "</div>"
      ],
      "text/plain": [
       "                            count          mean           std  min  \\\n",
       "impressions                 128.0  59679.261971  33245.608308  0.0   \n",
       "clicks                      128.0    178.281043    143.484182  0.0   \n",
       "spend                       128.0    581.944614    432.388693  0.0   \n",
       "3._lead:_total_conversions  128.0      1.289062      1.522288  0.0   \n",
       "ctr                         128.0      0.002577      0.001453  0.0   \n",
       "cvr                         128.0      0.014924      0.030174  0.0   \n",
       "cpl                         128.0    265.639425    396.041179  0.0   \n",
       "\n",
       "                                     25%           50%           75%  \\\n",
       "impressions                 32384.250000  56121.860695  91436.275567   \n",
       "clicks                         54.750000    137.956771    291.500000   \n",
       "spend                         233.269907    451.016120    858.507572   \n",
       "3._lead:_total_conversions      0.000000      1.000000      2.000000   \n",
       "ctr                             0.001514      0.002138      0.003833   \n",
       "cvr                             0.000000      0.003072      0.014968   \n",
       "cpl                             0.000000     91.693582    375.010426   \n",
       "\n",
       "                                      max  \n",
       "impressions                 125069.213448  \n",
       "clicks                         504.855168  \n",
       "spend                         2430.297472  \n",
       "3._lead:_total_conversions       8.000000  \n",
       "ctr                              0.006215  \n",
       "cvr                              0.162162  \n",
       "cpl                           2430.297472  "
      ]
     },
     "execution_count": 20,
     "metadata": {},
     "output_type": "execute_result"
    }
   ],
   "source": [
    "#create calculated fields for KPIs of interest\n",
    "online_shoppers_group['ctr'] = online_shoppers_group['clicks'] / online_shoppers_group['impressions']\n",
    "online_shoppers_group['cvr'] = online_shoppers_group['3._lead:_total_conversions'] / online_shoppers_group['clicks']\n",
    "online_shoppers_group['cpl'] = online_shoppers_group['spend'] / online_shoppers_group['3._lead:_total_conversions']\n",
    "\n",
    "#replace Inf and NaN values with 0\n",
    "for i in online_shoppers_group.columns:\n",
    "    online_shoppers_group[i] = online_shoppers_group[i].replace([np.inf, -np.inf], 0)\n",
    "    online_shoppers_group[i] = online_shoppers_group[i].replace(np.nan, 0)\n",
    "\n",
    "#summary stats\n",
    "online_shoppers_group.describe().transpose()"
   ]
  },
  {
   "cell_type": "code",
   "execution_count": 21,
   "id": "5883897d",
   "metadata": {},
   "outputs": [
    {
     "data": {
      "text/plain": [
       "LeveneResult(statistic=20.444279032199116, pvalue=1.3981438347685375e-05)"
      ]
     },
     "execution_count": 21,
     "metadata": {},
     "output_type": "execute_result"
    }
   ],
   "source": [
    "#levene test of cpl - non-parametric\n",
    "stats.levene(online_shoppers_group['cpl'][online_shoppers_group['group'] == 'Control'], \n",
    "             online_shoppers_group['cpl'][online_shoppers_group['group'] == 'DCO'])"
   ]
  },
  {
   "cell_type": "code",
   "execution_count": 22,
   "id": "8b44ff33",
   "metadata": {},
   "outputs": [
    {
     "data": {
      "text/plain": [
       "LeveneResult(statistic=6.145928513840365, pvalue=0.014493060939027115)"
      ]
     },
     "execution_count": 22,
     "metadata": {},
     "output_type": "execute_result"
    }
   ],
   "source": [
    "#levene test of leads - non-parametric\n",
    "stats.levene(online_shoppers_group['3._lead:_total_conversions'][online_shoppers_group['group'] == 'Control'], \n",
    "             online_shoppers_group['3._lead:_total_conversions'][online_shoppers_group['group'] == 'DCO'])"
   ]
  },
  {
   "cell_type": "code",
   "execution_count": 23,
   "id": "551e0947",
   "metadata": {},
   "outputs": [
    {
     "data": {
      "text/plain": [
       "KruskalResult(statistic=1.5101602690019866, pvalue=0.2191146323748449)"
      ]
     },
     "execution_count": 23,
     "metadata": {},
     "output_type": "execute_result"
    }
   ],
   "source": [
    "online_shoppers_controlgroup_cpl = online_shoppers_group['cpl'][online_shoppers_group['group'] == 'Control']\n",
    "online_shoppers_dcogroup_cpl = online_shoppers_group['cpl'][online_shoppers_group['group'] == 'DCO']\n",
    "\n",
    "#Kruskal Wallis for cpl - not stat sig\n",
    "stats.kruskal(online_shoppers_controlgroup_cpl, online_shoppers_dcogroup_cpl)"
   ]
  },
  {
   "cell_type": "code",
   "execution_count": 10,
   "id": "87617d97",
   "metadata": {},
   "outputs": [
    {
     "data": {
      "text/plain": [
       "LeveneResult(statistic=6.659083029902226, pvalue=0.01101129986579448)"
      ]
     },
     "execution_count": 10,
     "metadata": {},
     "output_type": "execute_result"
    }
   ],
   "source": [
    "#levene test of ctr - non-parametric\n",
    "stats.levene(online_shoppers_group['ctr'][online_shoppers_group['group'] == 'Control'], \n",
    "             online_shoppers_group['ctr'][online_shoppers_group['group'] == 'DCO'])"
   ]
  },
  {
   "cell_type": "code",
   "execution_count": 11,
   "id": "61c837fa",
   "metadata": {},
   "outputs": [
    {
     "data": {
      "text/plain": [
       "LeveneResult(statistic=33.94214329999556, pvalue=4.460491802146029e-08)"
      ]
     },
     "execution_count": 11,
     "metadata": {},
     "output_type": "execute_result"
    }
   ],
   "source": [
    "#levene test of clicks - non-parametric\n",
    "stats.levene(online_shoppers_group['clicks'][online_shoppers_group['group'] == 'Control'], \n",
    "             online_shoppers_group['clicks'][online_shoppers_group['group'] == 'DCO'])"
   ]
  },
  {
   "cell_type": "code",
   "execution_count": 12,
   "id": "8c4ee3a3",
   "metadata": {},
   "outputs": [
    {
     "data": {
      "text/plain": [
       "KruskalResult(statistic=32.637188688852376, pvalue=1.1106910757092057e-08)"
      ]
     },
     "execution_count": 12,
     "metadata": {},
     "output_type": "execute_result"
    }
   ],
   "source": [
    "online_shoppers_controlgroup_ctr = online_shoppers_group['ctr'][online_shoppers_group['group'] == 'Control']\n",
    "online_shoppers_dcogroup_ctr = online_shoppers_group['ctr'][online_shoppers_group['group'] == 'DCO']\n",
    "\n",
    "#Kruskal Wallis for ctr - stat sig\n",
    "stats.kruskal(online_shoppers_controlgroup_ctr, online_shoppers_dcogroup_ctr)"
   ]
  },
  {
   "cell_type": "code",
   "execution_count": 13,
   "id": "2822381e",
   "metadata": {},
   "outputs": [
    {
     "data": {
      "text/plain": [
       "1.1509504746444213e-09"
      ]
     },
     "execution_count": 13,
     "metadata": {},
     "output_type": "execute_result"
    }
   ],
   "source": [
    "#welch's t-test of ctr - stat sig\n",
    "t_statistic, p_value = stats.ttest_ind(online_shoppers_controlgroup_ctr, online_shoppers_dcogroup_ctr, equal_var=False)\n",
    "p_value"
   ]
  },
  {
   "cell_type": "code",
   "execution_count": 458,
   "id": "d74a6660",
   "metadata": {},
   "outputs": [
    {
     "name": "stdout",
     "output_type": "stream",
     "text": [
      "3.796373749245757\n",
      "16.782683342220707\n"
     ]
    }
   ],
   "source": [
    "#calculate skew and kurtosis of cvr\n",
    "print(skew(in_market_version['cvr_transformed'], bias=False))\n",
    "print(kurtosis(in_market_version['cvr_transformed'], bias=False))"
   ]
  },
  {
   "cell_type": "code",
   "execution_count": 14,
   "id": "2c6618ca",
   "metadata": {},
   "outputs": [
    {
     "data": {
      "text/plain": [
       "<Axes: xlabel='Theoretical quantiles', ylabel='Ordered quantiles'>"
      ]
     },
     "execution_count": 14,
     "metadata": {},
     "output_type": "execute_result"
    },
    {
     "data": {
      "image/png": "[encoded data removed]",
      "text/plain": [
       "<Figure size 640x480 with 1 Axes>"
      ]
     },
     "metadata": {},
     "output_type": "display_data"
    }
   ],
   "source": [
    "#check ANCOVA assumptions for clicks - residuals between the DV and covariate need to be somewhat normally distributed\n",
    "#we can do ANCOVA here\n",
    "ols_model = sm.OLS(online_shoppers_group['clicks'], online_shoppers_group[['spend', 'impressions']]).fit()\n",
    "residual_values = ols_model.resid\n",
    "pg.qqplot(residual_values, dist='norm')"
   ]
  },
  {
   "cell_type": "code",
   "execution_count": 15,
   "id": "0c0e400e",
   "metadata": {},
   "outputs": [
    {
     "data": {
      "text/html": [
       "<div>\n",
       "<style scoped>\n",
       "    .dataframe tbody tr th:only-of-type {\n",
       "        vertical-align: middle;\n",
       "    }\n",
       "\n",
       "    .dataframe tbody tr th {\n",
       "        vertical-align: top;\n",
       "    }\n",
       "\n",
       "    .dataframe thead th {\n",
       "        text-align: right;\n",
       "    }\n",
       "</style>\n",
       "<table border=\"1\" class=\"dataframe\">\n",
       "  <thead>\n",
       "    <tr style=\"text-align: right;\">\n",
       "      <th></th>\n",
       "      <th>Source</th>\n",
       "      <th>SS</th>\n",
       "      <th>DF</th>\n",
       "      <th>F</th>\n",
       "      <th>p-unc</th>\n",
       "      <th>np2</th>\n",
       "    </tr>\n",
       "  </thead>\n",
       "  <tbody>\n",
       "    <tr>\n",
       "      <th>0</th>\n",
       "      <td>group</td>\n",
       "      <td>134896.983598</td>\n",
       "      <td>1</td>\n",
       "      <td>32.508696</td>\n",
       "      <td>8.205286e-08</td>\n",
       "      <td>0.207712</td>\n",
       "    </tr>\n",
       "    <tr>\n",
       "      <th>1</th>\n",
       "      <td>spend</td>\n",
       "      <td>147285.692510</td>\n",
       "      <td>1</td>\n",
       "      <td>35.494239</td>\n",
       "      <td>2.461998e-08</td>\n",
       "      <td>0.222542</td>\n",
       "    </tr>\n",
       "    <tr>\n",
       "      <th>2</th>\n",
       "      <td>impressions</td>\n",
       "      <td>4560.527686</td>\n",
       "      <td>1</td>\n",
       "      <td>1.099037</td>\n",
       "      <td>2.965165e-01</td>\n",
       "      <td>0.008785</td>\n",
       "    </tr>\n",
       "    <tr>\n",
       "      <th>3</th>\n",
       "      <td>Residual</td>\n",
       "      <td>514546.205185</td>\n",
       "      <td>124</td>\n",
       "      <td>NaN</td>\n",
       "      <td>NaN</td>\n",
       "      <td>NaN</td>\n",
       "    </tr>\n",
       "  </tbody>\n",
       "</table>\n",
       "</div>"
      ],
      "text/plain": [
       "        Source             SS   DF          F         p-unc       np2\n",
       "0        group  134896.983598    1  32.508696  8.205286e-08  0.207712\n",
       "1        spend  147285.692510    1  35.494239  2.461998e-08  0.222542\n",
       "2  impressions    4560.527686    1   1.099037  2.965165e-01  0.008785\n",
       "3     Residual  514546.205185  124        NaN           NaN       NaN"
      ]
     },
     "execution_count": 15,
     "metadata": {},
     "output_type": "execute_result"
    }
   ],
   "source": [
    "#ANCOVA for clicks - findings are stat sig\n",
    "ancova(data=online_shoppers_group, dv='clicks', covar=['spend', 'impressions'], between='group')"
   ]
  },
  {
   "cell_type": "markdown",
   "id": "884c4b19",
   "metadata": {},
   "source": [
    "# Online Shoppers Performance By Version"
   ]
  },
  {
   "cell_type": "code",
   "execution_count": 16,
   "id": "244b9e73",
   "metadata": {},
   "outputs": [
    {
     "data": {
      "text/html": [
       "<div>\n",
       "<style scoped>\n",
       "    .dataframe tbody tr th:only-of-type {\n",
       "        vertical-align: middle;\n",
       "    }\n",
       "\n",
       "    .dataframe tbody tr th {\n",
       "        vertical-align: top;\n",
       "    }\n",
       "\n",
       "    .dataframe thead th {\n",
       "        text-align: right;\n",
       "    }\n",
       "</style>\n",
       "<table border=\"1\" class=\"dataframe\">\n",
       "  <thead>\n",
       "    <tr style=\"text-align: right;\">\n",
       "      <th></th>\n",
       "      <th>date</th>\n",
       "      <th>innovid_version_id</th>\n",
       "      <th>impressions</th>\n",
       "      <th>clicks</th>\n",
       "      <th>spend</th>\n",
       "      <th>3._lead:_total_conversions</th>\n",
       "    </tr>\n",
       "  </thead>\n",
       "  <tbody>\n",
       "    <tr>\n",
       "      <th>0</th>\n",
       "      <td>2023-08-07</td>\n",
       "      <td>0</td>\n",
       "      <td>5968.000000</td>\n",
       "      <td>28.0</td>\n",
       "      <td>65.644398</td>\n",
       "      <td>0</td>\n",
       "    </tr>\n",
       "    <tr>\n",
       "      <th>1</th>\n",
       "      <td>2023-08-07</td>\n",
       "      <td>1</td>\n",
       "      <td>16.000000</td>\n",
       "      <td>0.0</td>\n",
       "      <td>0.144644</td>\n",
       "      <td>0</td>\n",
       "    </tr>\n",
       "    <tr>\n",
       "      <th>2</th>\n",
       "      <td>2023-08-07</td>\n",
       "      <td>2</td>\n",
       "      <td>19.000000</td>\n",
       "      <td>0.0</td>\n",
       "      <td>0.175250</td>\n",
       "      <td>0</td>\n",
       "    </tr>\n",
       "    <tr>\n",
       "      <th>3</th>\n",
       "      <td>2023-08-07</td>\n",
       "      <td>3</td>\n",
       "      <td>18.000000</td>\n",
       "      <td>0.0</td>\n",
       "      <td>0.150178</td>\n",
       "      <td>0</td>\n",
       "    </tr>\n",
       "    <tr>\n",
       "      <th>4</th>\n",
       "      <td>2023-08-07</td>\n",
       "      <td>4</td>\n",
       "      <td>21.000000</td>\n",
       "      <td>0.0</td>\n",
       "      <td>0.191937</td>\n",
       "      <td>0</td>\n",
       "    </tr>\n",
       "    <tr>\n",
       "      <th>...</th>\n",
       "      <td>...</td>\n",
       "      <td>...</td>\n",
       "      <td>...</td>\n",
       "      <td>...</td>\n",
       "      <td>...</td>\n",
       "      <td>...</td>\n",
       "    </tr>\n",
       "    <tr>\n",
       "      <th>2191</th>\n",
       "      <td>2023-10-13</td>\n",
       "      <td>32</td>\n",
       "      <td>3651.991079</td>\n",
       "      <td>1.0</td>\n",
       "      <td>31.686851</td>\n",
       "      <td>0</td>\n",
       "    </tr>\n",
       "    <tr>\n",
       "      <th>2192</th>\n",
       "      <td>2023-10-13</td>\n",
       "      <td>33</td>\n",
       "      <td>2264.799618</td>\n",
       "      <td>3.0</td>\n",
       "      <td>19.245817</td>\n",
       "      <td>0</td>\n",
       "    </tr>\n",
       "    <tr>\n",
       "      <th>2193</th>\n",
       "      <td>2023-10-13</td>\n",
       "      <td>34</td>\n",
       "      <td>2091.559277</td>\n",
       "      <td>2.0</td>\n",
       "      <td>17.875033</td>\n",
       "      <td>0</td>\n",
       "    </tr>\n",
       "    <tr>\n",
       "      <th>2194</th>\n",
       "      <td>2023-10-13</td>\n",
       "      <td>35</td>\n",
       "      <td>2332.989902</td>\n",
       "      <td>3.0</td>\n",
       "      <td>19.650439</td>\n",
       "      <td>0</td>\n",
       "    </tr>\n",
       "    <tr>\n",
       "      <th>2195</th>\n",
       "      <td>2023-10-13</td>\n",
       "      <td>36</td>\n",
       "      <td>3098.990393</td>\n",
       "      <td>9.0</td>\n",
       "      <td>26.860478</td>\n",
       "      <td>0</td>\n",
       "    </tr>\n",
       "  </tbody>\n",
       "</table>\n",
       "<p>2196 rows × 6 columns</p>\n",
       "</div>"
      ],
      "text/plain": [
       "           date  innovid_version_id  impressions  clicks      spend  \\\n",
       "0    2023-08-07                   0  5968.000000    28.0  65.644398   \n",
       "1    2023-08-07                   1    16.000000     0.0   0.144644   \n",
       "2    2023-08-07                   2    19.000000     0.0   0.175250   \n",
       "3    2023-08-07                   3    18.000000     0.0   0.150178   \n",
       "4    2023-08-07                   4    21.000000     0.0   0.191937   \n",
       "...         ...                 ...          ...     ...        ...   \n",
       "2191 2023-10-13                  32  3651.991079     1.0  31.686851   \n",
       "2192 2023-10-13                  33  2264.799618     3.0  19.245817   \n",
       "2193 2023-10-13                  34  2091.559277     2.0  17.875033   \n",
       "2194 2023-10-13                  35  2332.989902     3.0  19.650439   \n",
       "2195 2023-10-13                  36  3098.990393     9.0  26.860478   \n",
       "\n",
       "      3._lead:_total_conversions  \n",
       "0                              0  \n",
       "1                              0  \n",
       "2                              0  \n",
       "3                              0  \n",
       "4                              0  \n",
       "...                          ...  \n",
       "2191                           0  \n",
       "2192                           0  \n",
       "2193                           0  \n",
       "2194                           0  \n",
       "2195                           0  \n",
       "\n",
       "[2196 rows x 6 columns]"
      ]
     },
     "execution_count": 16,
     "metadata": {},
     "output_type": "execute_result"
    }
   ],
   "source": [
    "online_shoppers_version = online_shoppers.groupby(['date','innovid_version_id'])[['impressions', 'clicks', 'spend', '3._lead:_total_conversions']].sum().reset_index()\n",
    "online_shoppers_version"
   ]
  },
  {
   "cell_type": "code",
   "execution_count": 120,
   "id": "046cfe6f",
   "metadata": {},
   "outputs": [],
   "source": [
    "#create calculated fields for KPIs of interest\n",
    "online_shoppers_version['ctr'] = online_shoppers_version['clicks'] / online_shoppers_version['impressions']\n",
    "online_shoppers_version['cvr'] = online_shoppers_version['3._lead:_total_conversions'] / online_shoppers_version['clicks']\n",
    "online_shoppers_version['cpl'] = online_shoppers_version['spend'] / online_shoppers_version['3._lead:_total_conversions']\n",
    "\n",
    "#replace Inf and NaN values with 0\n",
    "for i in online_shoppers_version.columns:\n",
    "    online_shoppers_version[i] = online_shoppers_version[i].replace([np.inf, -np.inf], 0)\n",
    "    online_shoppers_version[i] = online_shoppers_version[i].replace(np.nan, 0)"
   ]
  },
  {
   "cell_type": "code",
   "execution_count": 121,
   "id": "86e25b8e",
   "metadata": {},
   "outputs": [
    {
     "data": {
      "text/html": [
       "<div>\n",
       "<style scoped>\n",
       "    .dataframe tbody tr th:only-of-type {\n",
       "        vertical-align: middle;\n",
       "    }\n",
       "\n",
       "    .dataframe tbody tr th {\n",
       "        vertical-align: top;\n",
       "    }\n",
       "\n",
       "    .dataframe thead th {\n",
       "        text-align: right;\n",
       "    }\n",
       "</style>\n",
       "<table border=\"1\" class=\"dataframe\">\n",
       "  <thead>\n",
       "    <tr style=\"text-align: right;\">\n",
       "      <th></th>\n",
       "      <th>count</th>\n",
       "      <th>mean</th>\n",
       "      <th>std</th>\n",
       "      <th>min</th>\n",
       "      <th>25%</th>\n",
       "      <th>50%</th>\n",
       "      <th>75%</th>\n",
       "      <th>max</th>\n",
       "    </tr>\n",
       "  </thead>\n",
       "  <tbody>\n",
       "    <tr>\n",
       "      <th>innovid_version_id</th>\n",
       "      <td>2196.0</td>\n",
       "      <td>17.945355</td>\n",
       "      <td>10.697571</td>\n",
       "      <td>0.0</td>\n",
       "      <td>9.000000</td>\n",
       "      <td>18.000000</td>\n",
       "      <td>27.000000</td>\n",
       "      <td>36.000000</td>\n",
       "    </tr>\n",
       "    <tr>\n",
       "      <th>impressions</th>\n",
       "      <td>2196.0</td>\n",
       "      <td>3478.697874</td>\n",
       "      <td>7603.924416</td>\n",
       "      <td>0.0</td>\n",
       "      <td>1867.482362</td>\n",
       "      <td>2396.479853</td>\n",
       "      <td>2897.239884</td>\n",
       "      <td>96998.000000</td>\n",
       "    </tr>\n",
       "    <tr>\n",
       "      <th>clicks</th>\n",
       "      <td>2196.0</td>\n",
       "      <td>10.392064</td>\n",
       "      <td>16.422334</td>\n",
       "      <td>0.0</td>\n",
       "      <td>5.000000</td>\n",
       "      <td>8.000000</td>\n",
       "      <td>11.000000</td>\n",
       "      <td>223.000000</td>\n",
       "    </tr>\n",
       "    <tr>\n",
       "      <th>spend</th>\n",
       "      <td>2196.0</td>\n",
       "      <td>27.569300</td>\n",
       "      <td>57.968731</td>\n",
       "      <td>0.0</td>\n",
       "      <td>13.704207</td>\n",
       "      <td>18.267572</td>\n",
       "      <td>24.863215</td>\n",
       "      <td>727.480462</td>\n",
       "    </tr>\n",
       "    <tr>\n",
       "      <th>3._lead:_total_conversions</th>\n",
       "      <td>2196.0</td>\n",
       "      <td>0.075137</td>\n",
       "      <td>0.450058</td>\n",
       "      <td>0.0</td>\n",
       "      <td>0.000000</td>\n",
       "      <td>0.000000</td>\n",
       "      <td>0.000000</td>\n",
       "      <td>8.000000</td>\n",
       "    </tr>\n",
       "    <tr>\n",
       "      <th>ctr</th>\n",
       "      <td>2196.0</td>\n",
       "      <td>0.003565</td>\n",
       "      <td>0.002611</td>\n",
       "      <td>0.0</td>\n",
       "      <td>0.002182</td>\n",
       "      <td>0.003426</td>\n",
       "      <td>0.004622</td>\n",
       "      <td>0.066667</td>\n",
       "    </tr>\n",
       "    <tr>\n",
       "      <th>cvr</th>\n",
       "      <td>2196.0</td>\n",
       "      <td>0.004530</td>\n",
       "      <td>0.035361</td>\n",
       "      <td>0.0</td>\n",
       "      <td>0.000000</td>\n",
       "      <td>0.000000</td>\n",
       "      <td>0.000000</td>\n",
       "      <td>1.000000</td>\n",
       "    </tr>\n",
       "    <tr>\n",
       "      <th>cpl</th>\n",
       "      <td>2196.0</td>\n",
       "      <td>4.471359</td>\n",
       "      <td>35.437614</td>\n",
       "      <td>0.0</td>\n",
       "      <td>0.000000</td>\n",
       "      <td>0.000000</td>\n",
       "      <td>0.000000</td>\n",
       "      <td>627.635968</td>\n",
       "    </tr>\n",
       "  </tbody>\n",
       "</table>\n",
       "</div>"
      ],
      "text/plain": [
       "                             count         mean          std  min  \\\n",
       "innovid_version_id          2196.0    17.945355    10.697571  0.0   \n",
       "impressions                 2196.0  3478.697874  7603.924416  0.0   \n",
       "clicks                      2196.0    10.392064    16.422334  0.0   \n",
       "spend                       2196.0    27.569300    57.968731  0.0   \n",
       "3._lead:_total_conversions  2196.0     0.075137     0.450058  0.0   \n",
       "ctr                         2196.0     0.003565     0.002611  0.0   \n",
       "cvr                         2196.0     0.004530     0.035361  0.0   \n",
       "cpl                         2196.0     4.471359    35.437614  0.0   \n",
       "\n",
       "                                    25%          50%          75%  \\\n",
       "innovid_version_id             9.000000    18.000000    27.000000   \n",
       "impressions                 1867.482362  2396.479853  2897.239884   \n",
       "clicks                         5.000000     8.000000    11.000000   \n",
       "spend                         13.704207    18.267572    24.863215   \n",
       "3._lead:_total_conversions     0.000000     0.000000     0.000000   \n",
       "ctr                            0.002182     0.003426     0.004622   \n",
       "cvr                            0.000000     0.000000     0.000000   \n",
       "cpl                            0.000000     0.000000     0.000000   \n",
       "\n",
       "                                     max  \n",
       "innovid_version_id             36.000000  \n",
       "impressions                 96998.000000  \n",
       "clicks                        223.000000  \n",
       "spend                         727.480462  \n",
       "3._lead:_total_conversions      8.000000  \n",
       "ctr                             0.066667  \n",
       "cvr                             1.000000  \n",
       "cpl                           627.635968  "
      ]
     },
     "execution_count": 121,
     "metadata": {},
     "output_type": "execute_result"
    }
   ],
   "source": [
    "#summary stats\n",
    "online_shoppers_version.describe().transpose()"
   ]
  },
  {
   "cell_type": "code",
   "execution_count": 17,
   "id": "5031288d",
   "metadata": {},
   "outputs": [
    {
     "data": {
      "text/plain": [
       "<Axes: xlabel='Theoretical quantiles', ylabel='Ordered quantiles'>"
      ]
     },
     "execution_count": 17,
     "metadata": {},
     "output_type": "execute_result"
    },
    {
     "data": {
      "image/png": "[encoded data removed]",
      "text/plain": [
       "<Figure size 640x480 with 1 Axes>"
      ]
     },
     "metadata": {},
     "output_type": "display_data"
    }
   ],
   "source": [
    "#check ANCOVA assumptions for leads - residuals between the DV and covariate need to be somewhat normally distributed\n",
    "#we can do ANCOVA here\n",
    "ols_model = sm.OLS(online_shoppers_version['clicks'], online_shoppers_version[['spend', 'impressions']]).fit()\n",
    "residual_values = ols_model.resid\n",
    "pg.qqplot(residual_values, dist='norm')"
   ]
  },
  {
   "cell_type": "code",
   "execution_count": 18,
   "id": "ebf06cc2",
   "metadata": {},
   "outputs": [
    {
     "data": {
      "text/html": [
       "<div>\n",
       "<style scoped>\n",
       "    .dataframe tbody tr th:only-of-type {\n",
       "        vertical-align: middle;\n",
       "    }\n",
       "\n",
       "    .dataframe tbody tr th {\n",
       "        vertical-align: top;\n",
       "    }\n",
       "\n",
       "    .dataframe thead th {\n",
       "        text-align: right;\n",
       "    }\n",
       "</style>\n",
       "<table border=\"1\" class=\"dataframe\">\n",
       "  <thead>\n",
       "    <tr style=\"text-align: right;\">\n",
       "      <th></th>\n",
       "      <th>Source</th>\n",
       "      <th>SS</th>\n",
       "      <th>DF</th>\n",
       "      <th>F</th>\n",
       "      <th>p-unc</th>\n",
       "      <th>np2</th>\n",
       "    </tr>\n",
       "  </thead>\n",
       "  <tbody>\n",
       "    <tr>\n",
       "      <th>0</th>\n",
       "      <td>innovid_version_id</td>\n",
       "      <td>1649.149271</td>\n",
       "      <td>36</td>\n",
       "      <td>1.687006</td>\n",
       "      <td>6.676927e-03</td>\n",
       "      <td>0.027385</td>\n",
       "    </tr>\n",
       "    <tr>\n",
       "      <th>1</th>\n",
       "      <td>spend</td>\n",
       "      <td>60562.703386</td>\n",
       "      <td>1</td>\n",
       "      <td>2230.306030</td>\n",
       "      <td>0.000000e+00</td>\n",
       "      <td>0.508354</td>\n",
       "    </tr>\n",
       "    <tr>\n",
       "      <th>2</th>\n",
       "      <td>impressions</td>\n",
       "      <td>5766.386379</td>\n",
       "      <td>1</td>\n",
       "      <td>212.355222</td>\n",
       "      <td>5.962997e-46</td>\n",
       "      <td>0.089626</td>\n",
       "    </tr>\n",
       "    <tr>\n",
       "      <th>3</th>\n",
       "      <td>Residual</td>\n",
       "      <td>58572.119439</td>\n",
       "      <td>2157</td>\n",
       "      <td>NaN</td>\n",
       "      <td>NaN</td>\n",
       "      <td>NaN</td>\n",
       "    </tr>\n",
       "  </tbody>\n",
       "</table>\n",
       "</div>"
      ],
      "text/plain": [
       "               Source            SS    DF            F         p-unc       np2\n",
       "0  innovid_version_id   1649.149271    36     1.687006  6.676927e-03  0.027385\n",
       "1               spend  60562.703386     1  2230.306030  0.000000e+00  0.508354\n",
       "2         impressions   5766.386379     1   212.355222  5.962997e-46  0.089626\n",
       "3            Residual  58572.119439  2157          NaN           NaN       NaN"
      ]
     },
     "execution_count": 18,
     "metadata": {},
     "output_type": "execute_result"
    }
   ],
   "source": [
    "#ANCOVA for leads - findings are stat sig\n",
    "ancova(data=online_shoppers_version, dv='clicks', covar=['spend', 'impressions'], between='innovid_version_id')"
   ]
  },
  {
   "cell_type": "code",
   "execution_count": 129,
   "id": "da22d0c6",
   "metadata": {},
   "outputs": [],
   "source": [
    "#export data for post-hoc testing in R\n",
    "online_shoppers_version.to_csv(\"Online Shoppers Version Data.csv\", index=False)"
   ]
  },
  {
   "cell_type": "code",
   "execution_count": null,
   "id": "94ac78ec",
   "metadata": {},
   "outputs": [],
   "source": []
  }
 ],
 "metadata": {
  "kernelspec": {
   "display_name": "Python 3 (ipykernel)",
   "language": "python",
   "name": "python3"
  },
  "language_info": {
   "codemirror_mode": {
    "name": "ipython",
    "version": 3
   },
   "file_extension": ".py",
   "mimetype": "text/x-python",
   "name": "python",
   "nbconvert_exporter": "python",
   "pygments_lexer": "ipython3",
   "version": "3.10.9"
  }
 },
 "nbformat": 4,
 "nbformat_minor": 5
}

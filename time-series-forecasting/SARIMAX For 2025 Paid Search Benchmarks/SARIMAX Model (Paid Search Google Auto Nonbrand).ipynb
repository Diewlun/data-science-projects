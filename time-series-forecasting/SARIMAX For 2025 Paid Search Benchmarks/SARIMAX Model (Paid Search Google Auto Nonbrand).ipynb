{
 "cells": [
  {
   "cell_type": "code",
   "execution_count": 42,
   "id": "ea3f9abe",
   "metadata": {},
   "outputs": [],
   "source": [
    "#import libraries\n",
    "import pandas as pd\n",
    "import numpy as np\n",
    "import matplotlib.pyplot as plt\n",
    "from pmdarima import auto_arima\n",
    "from statsmodels.tsa.statespace.sarimax import SARIMAX\n",
    "import statsmodels.api as sm\n",
    "import warnings\n",
    "warnings.filterwarnings(\"ignore\")"
   ]
  },
  {
   "cell_type": "code",
   "execution_count": 43,
   "id": "82d1d968",
   "metadata": {},
   "outputs": [],
   "source": [
    "#read in raw data\n",
    "df = pd.read_csv(\"Google Nonbrand Auto Paid Search.csv\", parse_dates=['month'], index_col='month')"
   ]
  },
  {
   "cell_type": "code",
   "execution_count": 44,
   "id": "4cb8c595",
   "metadata": {},
   "outputs": [],
   "source": [
    "#define target variable y and exogenous factors\n",
    "y = df['cpq']\n",
    "exog = df[['spend', 'troas_flag', 'acquisition_cut']]"
   ]
  },
  {
   "cell_type": "code",
   "execution_count": 45,
   "id": "6a55007e",
   "metadata": {},
   "outputs": [
    {
     "name": "stdout",
     "output_type": "stream",
     "text": [
      "Performing stepwise search to minimize aic\n",
      " ARIMA(0,1,0)(0,0,0)[12] intercept   : AIC=350.747, Time=0.06 sec\n",
      " ARIMA(1,1,0)(1,0,0)[12] intercept   : AIC=345.251, Time=0.07 sec\n",
      " ARIMA(0,1,1)(0,0,1)[12] intercept   : AIC=inf, Time=0.08 sec\n",
      " ARIMA(0,1,0)(0,0,0)[12]             : AIC=349.096, Time=0.01 sec\n",
      " ARIMA(1,1,0)(0,0,0)[12] intercept   : AIC=352.246, Time=0.03 sec\n",
      " ARIMA(1,1,0)(2,0,0)[12] intercept   : AIC=345.291, Time=0.15 sec\n",
      " ARIMA(1,1,0)(1,0,1)[12] intercept   : AIC=inf, Time=0.07 sec\n",
      " ARIMA(1,1,0)(0,0,1)[12] intercept   : AIC=inf, Time=0.11 sec\n",
      " ARIMA(1,1,0)(2,0,1)[12] intercept   : AIC=inf, Time=0.17 sec\n",
      " ARIMA(0,1,0)(1,0,0)[12] intercept   : AIC=345.413, Time=0.05 sec\n",
      " ARIMA(2,1,0)(1,0,0)[12] intercept   : AIC=344.864, Time=0.07 sec\n",
      " ARIMA(2,1,0)(0,0,0)[12] intercept   : AIC=353.741, Time=0.05 sec\n",
      " ARIMA(2,1,0)(2,0,0)[12] intercept   : AIC=342.355, Time=0.15 sec\n",
      " ARIMA(2,1,0)(2,0,1)[12] intercept   : AIC=inf, Time=0.21 sec\n",
      " ARIMA(2,1,0)(1,0,1)[12] intercept   : AIC=inf, Time=0.11 sec\n",
      " ARIMA(3,1,0)(2,0,0)[12] intercept   : AIC=inf, Time=0.35 sec\n",
      " ARIMA(2,1,1)(2,0,0)[12] intercept   : AIC=inf, Time=0.34 sec\n",
      " ARIMA(1,1,1)(2,0,0)[12] intercept   : AIC=inf, Time=0.28 sec\n",
      " ARIMA(3,1,1)(2,0,0)[12] intercept   : AIC=inf, Time=0.36 sec\n",
      " ARIMA(2,1,0)(2,0,0)[12]             : AIC=349.494, Time=0.08 sec\n",
      "\n",
      "Best model:  ARIMA(2,1,0)(2,0,0)[12] intercept\n",
      "Total fit time: 2.869 seconds\n"
     ]
    }
   ],
   "source": [
    "#use auto arima to find the best parameters\n",
    "model = auto_arima(\n",
    "    y,\n",
    "    exogenous=exog,\n",
    "    start_p=0, max_p=3,           # AR terms\n",
    "    start_q=0, max_q=3,           # MA terms\n",
    "    d=None,                       # Auto-differencing\n",
    "    seasonal=True,                # Seasonal component\n",
    "    m=12,                         # Seasonal period (monthly data)\n",
    "    start_P=0, max_P=2,           # Seasonal AR terms\n",
    "    start_Q=0, max_Q=2,           # Seasonal MA terms\n",
    "    D=None,                       # Seasonal differencing\n",
    "    stepwise=True,                # Stepwise search for faster computation\n",
    "    trace=True,                   # Show progress\n",
    "    error_action=\"ignore\",        # Ignore errors\n",
    "    suppress_warnings=True        # Suppress warnings\n",
    ")"
   ]
  },
  {
   "cell_type": "code",
   "execution_count": 46,
   "id": "a7ec80d1",
   "metadata": {},
   "outputs": [
    {
     "name": "stdout",
     "output_type": "stream",
     "text": [
      "                                     SARIMAX Results                                      \n",
      "==========================================================================================\n",
      "Dep. Variable:                                  y   No. Observations:                   36\n",
      "Model:             SARIMAX(2, 1, 0)x(2, 0, 0, 12)   Log Likelihood                -165.178\n",
      "Date:                            Fri, 06 Dec 2024   AIC                            342.355\n",
      "Time:                                    12:24:53   BIC                            351.687\n",
      "Sample:                                01-01-2022   HQIC                           345.576\n",
      "                                     - 12-01-2024                                         \n",
      "Covariance Type:                              opg                                         \n",
      "==============================================================================\n",
      "                 coef    std err          z      P>|z|      [0.025      0.975]\n",
      "------------------------------------------------------------------------------\n",
      "intercept    -38.3821      8.623     -4.451      0.000     -55.282     -21.482\n",
      "ar.L1         -0.3865      0.267     -1.449      0.147      -0.909       0.136\n",
      "ar.L2         -0.5226      0.101     -5.171      0.000      -0.721      -0.324\n",
      "ar.S.L12      -1.2548      0.183     -6.864      0.000      -1.613      -0.896\n",
      "ar.S.L24      -0.6390      0.111     -5.732      0.000      -0.858      -0.421\n",
      "sigma2       370.3574    169.125      2.190      0.029      38.879     701.835\n",
      "===================================================================================\n",
      "Ljung-Box (L1) (Q):                   0.05   Jarque-Bera (JB):                11.51\n",
      "Prob(Q):                              0.82   Prob(JB):                         0.00\n",
      "Heteroskedasticity (H):               0.52   Skew:                             1.09\n",
      "Prob(H) (two-sided):                  0.27   Kurtosis:                         4.76\n",
      "===================================================================================\n",
      "\n",
      "Warnings:\n",
      "[1] Covariance matrix calculated using the outer product of gradients (complex-step).\n"
     ]
    }
   ],
   "source": [
    "#check summary of auto_arima model\n",
    "print(model.summary())"
   ]
  },
  {
   "cell_type": "code",
   "execution_count": 47,
   "id": "218a07ad",
   "metadata": {},
   "outputs": [
    {
     "name": "stdout",
     "output_type": "stream",
     "text": [
      "                                     SARIMAX Results                                      \n",
      "==========================================================================================\n",
      "Dep. Variable:                                cpq   No. Observations:                   36\n",
      "Model:             SARIMAX(2, 1, 0)x(2, 0, 0, 12)   Log Likelihood                -164.725\n",
      "Date:                            Fri, 06 Dec 2024   AIC                            345.449\n",
      "Time:                                    12:25:07   BIC                            357.892\n",
      "Sample:                                01-01-2022   HQIC                           349.744\n",
      "                                     - 12-01-2024                                         \n",
      "Covariance Type:                              opg                                         \n",
      "===================================================================================\n",
      "                      coef    std err          z      P>|z|      [0.025      0.975]\n",
      "-----------------------------------------------------------------------------------\n",
      "spend            8.221e-05   2.36e-05      3.485      0.000     3.6e-05       0.000\n",
      "troas_flag        -32.9410     31.741     -1.038      0.299     -95.152      29.270\n",
      "acquisition_cut    37.6306    328.228      0.115      0.909    -605.684     680.945\n",
      "ar.L1              -0.1687      0.185     -0.911      0.362      -0.532       0.194\n",
      "ar.L2              -0.0876      0.221     -0.397      0.691      -0.520       0.345\n",
      "ar.S.L12           -0.3084      0.285     -1.084      0.279      -0.866       0.249\n",
      "ar.S.L24           -0.2440      0.603     -0.405      0.686      -1.425       0.937\n",
      "sigma2            662.0447    300.784      2.201      0.028      72.518    1251.571\n",
      "===================================================================================\n",
      "Ljung-Box (L1) (Q):                   0.24   Jarque-Bera (JB):                40.29\n",
      "Prob(Q):                              0.63   Prob(JB):                         0.00\n",
      "Heteroskedasticity (H):               0.08   Skew:                             1.04\n",
      "Prob(H) (two-sided):                  0.00   Kurtosis:                         7.83\n",
      "===================================================================================\n",
      "\n",
      "Warnings:\n",
      "[1] Covariance matrix calculated using the outer product of gradients (complex-step).\n",
      "[2] Covariance matrix is singular or near-singular, with condition number 7.8e+14. Standard errors may be unstable.\n"
     ]
    }
   ],
   "source": [
    "#use the parameters suggested by auto_arima to fit SARIMAX model\n",
    "order = model.order\n",
    "seasonal_order = model.seasonal_order\n",
    "\n",
    "sarimax_model = SARIMAX(\n",
    "    y,\n",
    "    exog=exog,\n",
    "    order=order,\n",
    "    seasonal_order=seasonal_order\n",
    ")\n",
    "\n",
    "fitted_model = sarimax_model.fit(disp=False)\n",
    "print(fitted_model.summary())"
   ]
  },
  {
   "cell_type": "code",
   "execution_count": 48,
   "id": "e0364a06",
   "metadata": {},
   "outputs": [],
   "source": [
    "#import test data (2025 dates and exogenous factors)\n",
    "df_test = pd.read_csv(\"Google Nonbrand Auto Paid Search (2025 Test Data).csv\", parse_dates=['month'], index_col='month')"
   ]
  },
  {
   "cell_type": "code",
   "execution_count": 49,
   "id": "28509cb4",
   "metadata": {},
   "outputs": [],
   "source": [
    "#define exogenous factor for test data\n",
    "exog_test = df_test[['spend', 'troas_flag', 'acquisition_cut']]"
   ]
  },
  {
   "cell_type": "code",
   "execution_count": 50,
   "id": "ef689fc8",
   "metadata": {},
   "outputs": [],
   "source": [
    "#forecast for 2025 with exogenous factors\n",
    "forecast = fitted_model.get_forecast(steps=len(df_test), exog=exog_test)\n",
    "forecast_mean = forecast.predicted_mean\n",
    "forecast_ci = forecast.conf_int()"
   ]
  },
  {
   "cell_type": "code",
   "execution_count": 53,
   "id": "e0450174",
   "metadata": {},
   "outputs": [
    {
     "data": {
      "text/plain": [
       "2025-01-01     83.114348\n",
       "2025-02-01     77.012465\n",
       "2025-03-01    101.551284\n",
       "2025-04-01     94.970350\n",
       "2025-05-01     94.005602\n",
       "2025-06-01     89.641013\n",
       "2025-07-01     87.778739\n",
       "2025-08-01     91.946252\n",
       "2025-09-01     90.046850\n",
       "2025-10-01     83.901099\n",
       "2025-11-01     81.963993\n",
       "2025-12-01     86.722160\n",
       "Freq: MS, Name: predicted_mean, dtype: float64"
      ]
     },
     "execution_count": 53,
     "metadata": {},
     "output_type": "execute_result"
    }
   ],
   "source": [
    "forecast_mean"
   ]
  },
  {
   "cell_type": "code",
   "execution_count": 52,
   "id": "0d447e6f",
   "metadata": {},
   "outputs": [
    {
     "data": {
      "image/png": "[encoded data removed]",
      "text/plain": [
       "<Figure size 1440x720 with 1 Axes>"
      ]
     },
     "metadata": {
      "needs_background": "light"
     },
     "output_type": "display_data"
    }
   ],
   "source": [
    "plt.figure(figsize=(20,10))\n",
    "\n",
    "plt.plot(df.index, y, label='past')\n",
    "\n",
    "#plot the prediction means as line\n",
    "plt.plot(forecast_mean.index, forecast_mean, label='predicted')\n",
    "\n",
    "#shade between the confidence intervals\n",
    "plt.fill_between(forecast_mean.index, forecast_ci.iloc[:,0], forecast_ci.iloc[:,1], alpha=0.2)\n",
    "\n",
    "#plot legend and show figure\n",
    "plt.legend()\n",
    "plt.show()"
   ]
  },
  {
   "cell_type": "code",
   "execution_count": 55,
   "id": "fefcb277",
   "metadata": {},
   "outputs": [],
   "source": [
    "date_range = pd.date_range(start=\"2015-01-01\", end=\"2023-12-01\", freq=\"MS\")\n",
    "sales_data = np.random.normal(200, 10, len(date_range)) + np.sin(np.linspace(0, 2*np.pi, len(date_range)) * 5)\n",
    "inflation_data = np.random.uniform(1.5, 3.5, len(date_range))"
   ]
  },
  {
   "cell_type": "code",
   "execution_count": 56,
   "id": "15765135",
   "metadata": {},
   "outputs": [
    {
     "data": {
      "text/plain": [
       "array([1.93465471, 2.61696633, 1.62418998, 3.01022345, 2.84699165,\n",
       "       3.12146704, 1.84736812, 2.01089654, 2.15496858, 1.91962396,\n",
       "       2.50864381, 2.03062037, 3.03199977, 2.69404837, 3.16513133,\n",
       "       1.51249136, 1.56746807, 2.10248726, 3.31205768, 3.47667614,\n",
       "       2.39085443, 2.55428588, 1.55969461, 1.65514052, 2.96006177,\n",
       "       2.99643388, 2.36929373, 3.36859663, 1.84603574, 3.46905306,\n",
       "       1.66113246, 1.59608757, 2.00318018, 3.22464566, 2.96236944,\n",
       "       3.00734691, 2.49169252, 1.62453059, 3.49327541, 2.30620279,\n",
       "       1.80630646, 2.54271234, 3.25317517, 1.72173361, 2.87958482,\n",
       "       3.30517375, 2.22877197, 1.76940942, 2.10288952, 3.33632972,\n",
       "       2.24191375, 2.63957772, 1.743009  , 2.78322863, 3.23443551,\n",
       "       3.33190206, 2.85577551, 2.09243087, 1.99131144, 2.17589476,\n",
       "       1.53421318, 3.43082775, 3.36721422, 3.46214586, 3.19648196,\n",
       "       2.8645954 , 2.32772856, 2.70097803, 2.4656338 , 2.92539548,\n",
       "       3.42035647, 1.70038435, 3.2754046 , 1.57418219, 3.23073807,\n",
       "       3.45169305, 2.78580068, 3.26698826, 2.20476675, 1.88690061,\n",
       "       1.56536747, 3.43901777, 2.3496543 , 1.51969354, 3.49970906,\n",
       "       3.27772577, 3.08535894, 2.88906416, 1.93228936, 2.47474172,\n",
       "       2.59465575, 2.90110946, 2.85057471, 1.60153358, 2.16325745,\n",
       "       3.03499239, 2.71915787, 2.33774594, 2.06274112, 2.24902626,\n",
       "       2.01609884, 2.63027016, 2.42971276, 3.11677525, 2.37610112,\n",
       "       1.90318251, 2.94260397, 2.95211181])"
      ]
     },
     "execution_count": 56,
     "metadata": {},
     "output_type": "execute_result"
    }
   ],
   "source": [
    "inflation_data"
   ]
  },
  {
   "cell_type": "code",
   "execution_count": null,
   "id": "d59d2a9d",
   "metadata": {},
   "outputs": [],
   "source": []
  }
 ],
 "metadata": {
  "kernelspec": {
   "display_name": "Python 3 (ipykernel)",
   "language": "python",
   "name": "python3"
  },
  "language_info": {
   "codemirror_mode": {
    "name": "ipython",
    "version": 3
   },
   "file_extension": ".py",
   "mimetype": "text/x-python",
   "name": "python",
   "nbconvert_exporter": "python",
   "pygments_lexer": "ipython3",
   "version": "3.9.12"
  }
 },
 "nbformat": 4,
 "nbformat_minor": 5
}
